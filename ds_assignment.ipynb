{
  "nbformat": 4,
  "nbformat_minor": 0,
  "metadata": {
    "kernelspec": {
      "display_name": "Python 3",
      "language": "python",
      "name": "python3"
    },
    "language_info": {
      "codemirror_mode": {
        "name": "ipython",
        "version": 3
      },
      "file_extension": ".py",
      "mimetype": "text/x-python",
      "name": "python",
      "nbconvert_exporter": "python",
      "pygments_lexer": "ipython3",
      "version": "3.5.2"
    },
    "colab": {
      "name": "ds_assignment.ipynb",
      "provenance": [],
      "collapsed_sections": [],
      "toc_visible": true
    }
  },
  "cells": [
    {
      "cell_type": "markdown",
      "metadata": {
        "id": "NHlmc-vA1mG_",
        "colab_type": "text"
      },
      "source": [
        "# Oops... Nothing Here..  So, you are on your own this time."
      ]
    },
    {
      "cell_type": "markdown",
      "metadata": {
        "id": "IuW5JdJqC5nu",
        "colab_type": "text"
      },
      "source": [
        "# Data "
      ]
    },
    {
      "cell_type": "code",
      "metadata": {
        "id": "3rlLEXArDM8z",
        "colab_type": "code",
        "colab": {}
      },
      "source": [
        "#!pip install wget\n",
        "#import wget"
      ],
      "execution_count": 0,
      "outputs": []
    },
    {
      "cell_type": "code",
      "metadata": {
        "id": "-dG3khHFCvZR",
        "colab_type": "code",
        "colab": {}
      },
      "source": [
        "#wget.download(\"https://github.com/MIE451-1513-2019/course-datasets/raw/master/reviews.zip\")\n",
        "#!unzip reviews.zip"
      ],
      "execution_count": 0,
      "outputs": []
    },
    {
      "cell_type": "code",
      "metadata": {
        "id": "lQX7NIri1mHq",
        "colab_type": "code",
        "outputId": "01473763-48f6-425a-d3d2-6217784b1870",
        "colab": {
          "base_uri": "https://localhost:8080/",
          "height": 403
        }
      },
      "source": [
        "!pip install wget\n",
        "import wget\n",
        "\n",
        "import sys\n",
        "print(sys.version)\n",
        "\n",
        "!pip install twython\n",
        "\n",
        "#Plot\n",
        "import matplotlib.pyplot as plt\n",
        "import seaborn as sns\n",
        "%matplotlib inline\n",
        "\n",
        "#Data Packages\n",
        "import math\n",
        "import pandas as pd\n",
        "import numpy as np\n",
        "\n",
        "#Progress bar\n",
        "from tqdm import tqdm\n",
        "\n",
        "#Counter\n",
        "from collections import Counter\n",
        "\n",
        "#Operation\n",
        "import operator\n",
        "\n",
        "#Natural Language Processing Packages\n",
        "import re\n",
        "import nltk\n",
        "\n",
        "## Download Resources\n",
        "nltk.download(\"vader_lexicon\")\n",
        "nltk.download(\"stopwords\")\n",
        "nltk.download(\"averaged_perceptron_tagger\")\n",
        "nltk.download(\"wordnet\")\n",
        "nltk.download('punkt')\n",
        "from nltk.sentiment import SentimentAnalyzer\n",
        "from nltk.sentiment.vader import SentimentIntensityAnalyzer\n",
        "from nltk.sentiment.util import *\n",
        "from nltk import tokenize\n",
        "from nltk.corpus import stopwords\n",
        "from nltk.tag import PerceptronTagger\n",
        "from nltk.data import find\n",
        "\n",
        "\n",
        "\n",
        "## Machine Learning\n",
        "import sklearn\n",
        "import sklearn.metrics as metrics\n",
        "\n",
        "import nltk\n",
        "from nltk.corpus import stopwords\n",
        "stop_words = set(stopwords.words('english'))\n",
        "lemmatizer = nltk.WordNetLemmatizer()\n",
        "stemmer = nltk.stem.porter.PorterStemmer()"
      ],
      "execution_count": 0,
      "outputs": [
        {
          "output_type": "stream",
          "text": [
            "Requirement already satisfied: wget in /usr/local/lib/python3.6/dist-packages (3.2)\n",
            "3.6.8 (default, Oct  7 2019, 12:59:55) \n",
            "[GCC 8.3.0]\n",
            "Requirement already satisfied: twython in /usr/local/lib/python3.6/dist-packages (3.7.0)\n",
            "Requirement already satisfied: requests-oauthlib>=0.4.0 in /usr/local/lib/python3.6/dist-packages (from twython) (1.3.0)\n",
            "Requirement already satisfied: requests>=2.1.0 in /usr/local/lib/python3.6/dist-packages (from twython) (2.21.0)\n",
            "Requirement already satisfied: oauthlib>=3.0.0 in /usr/local/lib/python3.6/dist-packages (from requests-oauthlib>=0.4.0->twython) (3.1.0)\n",
            "Requirement already satisfied: urllib3<1.25,>=1.21.1 in /usr/local/lib/python3.6/dist-packages (from requests>=2.1.0->twython) (1.24.3)\n",
            "Requirement already satisfied: idna<2.9,>=2.5 in /usr/local/lib/python3.6/dist-packages (from requests>=2.1.0->twython) (2.8)\n",
            "Requirement already satisfied: chardet<3.1.0,>=3.0.2 in /usr/local/lib/python3.6/dist-packages (from requests>=2.1.0->twython) (3.0.4)\n",
            "Requirement already satisfied: certifi>=2017.4.17 in /usr/local/lib/python3.6/dist-packages (from requests>=2.1.0->twython) (2019.9.11)\n",
            "[nltk_data] Downloading package vader_lexicon to /root/nltk_data...\n",
            "[nltk_data]   Package vader_lexicon is already up-to-date!\n",
            "[nltk_data] Downloading package stopwords to /root/nltk_data...\n",
            "[nltk_data]   Package stopwords is already up-to-date!\n",
            "[nltk_data] Downloading package averaged_perceptron_tagger to\n",
            "[nltk_data]     /root/nltk_data...\n",
            "[nltk_data]   Package averaged_perceptron_tagger is already up-to-\n",
            "[nltk_data]       date!\n",
            "[nltk_data] Downloading package wordnet to /root/nltk_data...\n",
            "[nltk_data]   Package wordnet is already up-to-date!\n",
            "[nltk_data] Downloading package punkt to /root/nltk_data...\n",
            "[nltk_data]   Package punkt is already up-to-date!\n"
          ],
          "name": "stdout"
        }
      ]
    },
    {
      "cell_type": "code",
      "metadata": {
        "id": "gCrk8BqrGKit",
        "colab_type": "code",
        "colab": {}
      },
      "source": [
        "##################################################################################################"
      ],
      "execution_count": 0,
      "outputs": []
    },
    {
      "cell_type": "markdown",
      "metadata": {
        "id": "xuTkk-fsHysM",
        "colab_type": "text"
      },
      "source": [
        "## Q1. Sentiment Analysis and Aggregation"
      ]
    },
    {
      "cell_type": "code",
      "metadata": {
        "id": "ENPeceDdGKeC",
        "colab_type": "code",
        "colab": {}
      },
      "source": [
        "'''\n",
        "import csv file\n",
        "Hotels in city Irvine - max ratings 300\n",
        "'''\n",
        "column_names = ['link', 'hotel_name', 'reviews', 'rating', 'sentiment']\n",
        "hotel_df = pd.read_csv('reviews.csv', header = None, names = column_names)"
      ],
      "execution_count": 0,
      "outputs": []
    },
    {
      "cell_type": "code",
      "metadata": {
        "id": "72p6EcyOGKZm",
        "colab_type": "code",
        "outputId": "412267d2-6e7d-4087-91c1-033e2586e6b0",
        "colab": {
          "base_uri": "https://localhost:8080/",
          "height": 279
        }
      },
      "source": [
        "hotel_df.head()"
      ],
      "execution_count": 0,
      "outputs": [
        {
          "output_type": "execute_result",
          "data": {
            "text/html": [
              "<div>\n",
              "<style scoped>\n",
              "    .dataframe tbody tr th:only-of-type {\n",
              "        vertical-align: middle;\n",
              "    }\n",
              "\n",
              "    .dataframe tbody tr th {\n",
              "        vertical-align: top;\n",
              "    }\n",
              "\n",
              "    .dataframe thead th {\n",
              "        text-align: right;\n",
              "    }\n",
              "</style>\n",
              "<table border=\"1\" class=\"dataframe\">\n",
              "  <thead>\n",
              "    <tr style=\"text-align: right;\">\n",
              "      <th></th>\n",
              "      <th>link</th>\n",
              "      <th>hotel_name</th>\n",
              "      <th>reviews</th>\n",
              "      <th>rating</th>\n",
              "      <th>sentiment</th>\n",
              "    </tr>\n",
              "  </thead>\n",
              "  <tbody>\n",
              "    <tr>\n",
              "      <th>0</th>\n",
              "      <td>data\\ca\\32530\\10373297\\460828080.html</td>\n",
              "      <td>Homewood Suites by Hilton Irvine John Wayne Ai...</td>\n",
              "      <td>\"I Recommend this hotel to everyone. New Hotel...</td>\n",
              "      <td>5</td>\n",
              "      <td>positive</td>\n",
              "    </tr>\n",
              "    <tr>\n",
              "      <th>1</th>\n",
              "      <td>data\\ca\\32530\\10373297\\461011684.html</td>\n",
              "      <td>Homewood Suites by Hilton Irvine John Wayne Ai...</td>\n",
              "      <td>\"Brand new and very well designed hotel. We li...</td>\n",
              "      <td>4</td>\n",
              "      <td>positive</td>\n",
              "    </tr>\n",
              "    <tr>\n",
              "      <th>2</th>\n",
              "      <td>data\\ca\\32530\\10373297\\461297357.html</td>\n",
              "      <td>Homewood Suites by Hilton Irvine John Wayne Ai...</td>\n",
              "      <td>\"Our stay here started out a little rough. We ...</td>\n",
              "      <td>4</td>\n",
              "      <td>positive</td>\n",
              "    </tr>\n",
              "    <tr>\n",
              "      <th>3</th>\n",
              "      <td>data\\ca\\32530\\10373297\\461543739.html</td>\n",
              "      <td>Homewood Suites by Hilton Irvine John Wayne Ai...</td>\n",
              "      <td>\"I selected this hotel based upon a passed pos...</td>\n",
              "      <td>5</td>\n",
              "      <td>positive</td>\n",
              "    </tr>\n",
              "    <tr>\n",
              "      <th>4</th>\n",
              "      <td>data\\ca\\32530\\10373297\\461852837.html</td>\n",
              "      <td>Homewood Suites by Hilton Irvine John Wayne Ai...</td>\n",
              "      <td>\"Hopefully, I have an opportunity to visit aga...</td>\n",
              "      <td>5</td>\n",
              "      <td>positive</td>\n",
              "    </tr>\n",
              "  </tbody>\n",
              "</table>\n",
              "</div>"
            ],
            "text/plain": [
              "                                    link  ... sentiment\n",
              "0  data\\ca\\32530\\10373297\\460828080.html  ...  positive\n",
              "1  data\\ca\\32530\\10373297\\461011684.html  ...  positive\n",
              "2  data\\ca\\32530\\10373297\\461297357.html  ...  positive\n",
              "3  data\\ca\\32530\\10373297\\461543739.html  ...  positive\n",
              "4  data\\ca\\32530\\10373297\\461852837.html  ...  positive\n",
              "\n",
              "[5 rows x 5 columns]"
            ]
          },
          "metadata": {
            "tags": []
          },
          "execution_count": 6
        }
      ]
    },
    {
      "cell_type": "code",
      "metadata": {
        "id": "GWy_gcyvGKSf",
        "colab_type": "code",
        "outputId": "329aa6c1-01b5-45d8-a254-b361234c2ea2",
        "colab": {
          "base_uri": "https://localhost:8080/",
          "height": 538
        }
      },
      "source": [
        "# hotel lists\n",
        "hotel_df['hotel_name'].unique()"
      ],
      "execution_count": 0,
      "outputs": [
        {
          "output_type": "execute_result",
          "data": {
            "text/plain": [
              "array(['Homewood Suites by Hilton Irvine John Wayne Airport',\n",
              "       'AC Hotel by Marriott Irvine',\n",
              "       'Global Luxury Suites at The Village',\n",
              "       'Hyatt House Irvine/John Wayne Airport',\n",
              "       'Marriott Irvine Spectrum',\n",
              "       'Hampton Inn &amp; Suites Irvine-Orange County Airport',\n",
              "       'SpringHill Suites Irvine John Wayne Airport/Orange County',\n",
              "       'Extended Stay America - Orange County - Irvine Spectrum',\n",
              "       'Residence Inn Irvine John Wayne Airport/Orange County',\n",
              "       'Oakwood At The Charter', 'Courtyard by Marriott Irvine Spectrum',\n",
              "       'Hilton Garden Inn Irvine / Orange County Airport',\n",
              "       'Courtyard Irvine John Wayne Airport/Orange County',\n",
              "       'Embassy Suites by Hilton Irvine - Orange County Airport',\n",
              "       'Hotel Irvine', 'Irvine Marriott',\n",
              "       'Hilton Irvine/Orange County Airport',\n",
              "       'Candlewood Suites Orange County, Irvine Spectrum',\n",
              "       'Atrium Hotel at Orange County Airport',\n",
              "       'DoubleTree by Hilton Hotel Irvine - Spectrum',\n",
              "       'Wyndham Irvine-Orange County Airport',\n",
              "       'Residence Inn by Marriott Irvine Spectrum',\n",
              "       'La Quinta Inn &amp; Suites by Wyndham Irvine Spectrum',\n",
              "       'Candlewood Suites Orange County Airport Irvine West',\n",
              "       'La Quinta Inn &amp; Suites by Wyndham Orange County Airport',\n",
              "       'Country Inn &amp; Suites by Radisson, John Wayne Airport, CA',\n",
              "       'Best Western Plus Orange County Airport North',\n",
              "       'Holiday Inn Santa Ana-Orange County Airport',\n",
              "       'Comfort Inn &amp; Suites Orange County John Wayne Airport',\n",
              "       'Embassy Suites by Hilton Santa Ana Orange County Airport',\n",
              "       'Motel 6 Irvine - Orange County Airport',\n",
              "       'Hampton Inn &amp; Suites Santa Ana/Orange County Airport'],\n",
              "      dtype=object)"
            ]
          },
          "metadata": {
            "tags": []
          },
          "execution_count": 7
        }
      ]
    },
    {
      "cell_type": "code",
      "metadata": {
        "id": "3Nswq8xoGKNh",
        "colab_type": "code",
        "outputId": "3acdd30d-da85-4558-f0e3-df78359932d3",
        "colab": {
          "base_uri": "https://localhost:8080/",
          "height": 34
        }
      },
      "source": [
        "# unique hotel numbers\n",
        "hotel_df['hotel_name'].nunique()"
      ],
      "execution_count": 0,
      "outputs": [
        {
          "output_type": "execute_result",
          "data": {
            "text/plain": [
              "32"
            ]
          },
          "metadata": {
            "tags": []
          },
          "execution_count": 8
        }
      ]
    },
    {
      "cell_type": "code",
      "metadata": {
        "id": "aE6glrJ-GKIg",
        "colab_type": "code",
        "outputId": "75aa9546-b5c0-4b59-9b3f-ca6d41d99cb0",
        "colab": {
          "base_uri": "https://localhost:8080/",
          "height": 118
        }
      },
      "source": [
        "# check null/nan values in dataframe\n",
        "hotel_df.isnull().any()"
      ],
      "execution_count": 0,
      "outputs": [
        {
          "output_type": "execute_result",
          "data": {
            "text/plain": [
              "link          False\n",
              "hotel_name    False\n",
              "reviews       False\n",
              "rating        False\n",
              "sentiment     False\n",
              "dtype: bool"
            ]
          },
          "metadata": {
            "tags": []
          },
          "execution_count": 9
        }
      ]
    },
    {
      "cell_type": "markdown",
      "metadata": {
        "id": "C6f68rIALroC",
        "colab_type": "text"
      },
      "source": [
        "### **(a) Compute average Vader sentiment and average ground truth rating per hotel.**"
      ]
    },
    {
      "cell_type": "code",
      "metadata": {
        "id": "BT8gcQwGGKDw",
        "colab_type": "code",
        "outputId": "1041e511-b615-4683-b6e6-44f5a969d3c5",
        "colab": {
          "base_uri": "https://localhost:8080/",
          "height": 343
        }
      },
      "source": [
        "# average ground truth rating per hotel\n",
        "ground_mean_rating = hotel_df.groupby(['hotel_name']).mean()[['rating']].reset_index()\n",
        "ground_mean_rating.columns = ['hotel_name', 'ground_avg_rating']\n",
        "ground_mean_rating.sort_values(by = 'ground_avg_rating', ascending = 0).head(10)"
      ],
      "execution_count": 0,
      "outputs": [
        {
          "output_type": "execute_result",
          "data": {
            "text/html": [
              "<div>\n",
              "<style scoped>\n",
              "    .dataframe tbody tr th:only-of-type {\n",
              "        vertical-align: middle;\n",
              "    }\n",
              "\n",
              "    .dataframe tbody tr th {\n",
              "        vertical-align: top;\n",
              "    }\n",
              "\n",
              "    .dataframe thead th {\n",
              "        text-align: right;\n",
              "    }\n",
              "</style>\n",
              "<table border=\"1\" class=\"dataframe\">\n",
              "  <thead>\n",
              "    <tr style=\"text-align: right;\">\n",
              "      <th></th>\n",
              "      <th>hotel_name</th>\n",
              "      <th>ground_avg_rating</th>\n",
              "    </tr>\n",
              "  </thead>\n",
              "  <tbody>\n",
              "    <tr>\n",
              "      <th>27</th>\n",
              "      <td>Oakwood At The Charter</td>\n",
              "      <td>5.000000</td>\n",
              "    </tr>\n",
              "    <tr>\n",
              "      <th>19</th>\n",
              "      <td>Homewood Suites by Hilton Irvine John Wayne Ai...</td>\n",
              "      <td>4.796667</td>\n",
              "    </tr>\n",
              "    <tr>\n",
              "      <th>14</th>\n",
              "      <td>Hampton Inn &amp;amp; Suites Irvine-Orange County ...</td>\n",
              "      <td>4.717791</td>\n",
              "    </tr>\n",
              "    <tr>\n",
              "      <th>21</th>\n",
              "      <td>Hyatt House Irvine/John Wayne Airport</td>\n",
              "      <td>4.618182</td>\n",
              "    </tr>\n",
              "    <tr>\n",
              "      <th>8</th>\n",
              "      <td>Courtyard by Marriott Irvine Spectrum</td>\n",
              "      <td>4.580645</td>\n",
              "    </tr>\n",
              "    <tr>\n",
              "      <th>0</th>\n",
              "      <td>AC Hotel by Marriott Irvine</td>\n",
              "      <td>4.562963</td>\n",
              "    </tr>\n",
              "    <tr>\n",
              "      <th>9</th>\n",
              "      <td>DoubleTree by Hilton Hotel Irvine - Spectrum</td>\n",
              "      <td>4.533333</td>\n",
              "    </tr>\n",
              "    <tr>\n",
              "      <th>18</th>\n",
              "      <td>Holiday Inn Santa Ana-Orange County Airport</td>\n",
              "      <td>4.358333</td>\n",
              "    </tr>\n",
              "    <tr>\n",
              "      <th>16</th>\n",
              "      <td>Hilton Garden Inn Irvine / Orange County Airport</td>\n",
              "      <td>4.343333</td>\n",
              "    </tr>\n",
              "    <tr>\n",
              "      <th>31</th>\n",
              "      <td>Wyndham Irvine-Orange County Airport</td>\n",
              "      <td>4.243333</td>\n",
              "    </tr>\n",
              "  </tbody>\n",
              "</table>\n",
              "</div>"
            ],
            "text/plain": [
              "                                           hotel_name  ground_avg_rating\n",
              "27                             Oakwood At The Charter           5.000000\n",
              "19  Homewood Suites by Hilton Irvine John Wayne Ai...           4.796667\n",
              "14  Hampton Inn &amp; Suites Irvine-Orange County ...           4.717791\n",
              "21              Hyatt House Irvine/John Wayne Airport           4.618182\n",
              "8               Courtyard by Marriott Irvine Spectrum           4.580645\n",
              "0                         AC Hotel by Marriott Irvine           4.562963\n",
              "9        DoubleTree by Hilton Hotel Irvine - Spectrum           4.533333\n",
              "18        Holiday Inn Santa Ana-Orange County Airport           4.358333\n",
              "16   Hilton Garden Inn Irvine / Orange County Airport           4.343333\n",
              "31               Wyndham Irvine-Orange County Airport           4.243333"
            ]
          },
          "metadata": {
            "tags": []
          },
          "execution_count": 10
        }
      ]
    },
    {
      "cell_type": "code",
      "metadata": {
        "id": "df_lJ7rLGJ-u",
        "colab_type": "code",
        "colab": {}
      },
      "source": [
        "# Use vader to evaluated sentiment of reviews\n",
        "def evalSentences(sentences, to_df=False, columns=[]):\n",
        "    #Instantiate an instance to access SentimentIntensityAnalyzer class\n",
        "    sid = SentimentIntensityAnalyzer()\n",
        "    pdlist = []\n",
        "    if to_df:\n",
        "        for sentence in tqdm(sentences):\n",
        "            ss = sid.polarity_scores(sentence)\n",
        "            pdlist.append([sentence]+[ss['compound']])\n",
        "        reviewDf = pd.DataFrame(pdlist)\n",
        "        reviewDf.columns = columns\n",
        "        return reviewDf\n",
        "    \n",
        "    else:\n",
        "        for sentence in tqdm(sentences):\n",
        "            print(sentence)\n",
        "            ss = sid.polarity_scores(sentence)\n",
        "            for k in sorted(ss):\n",
        "                print('{0}: {1}, '.format(k, ss[k]), end='')\n",
        "            print()"
      ],
      "execution_count": 0,
      "outputs": []
    },
    {
      "cell_type": "code",
      "metadata": {
        "id": "-SKE4EYRGJ5K",
        "colab_type": "code",
        "outputId": "ba21f9dd-3661-4858-db6d-2061bd095821",
        "colab": {
          "base_uri": "https://localhost:8080/",
          "height": 34
        }
      },
      "source": [
        "reviews = hotel_df['reviews'].values\n",
        "reviewDF = evalSentences(reviews, to_df=True, columns=['reviewCol','vader'])"
      ],
      "execution_count": 0,
      "outputs": [
        {
          "output_type": "stream",
          "text": [
            "100%|██████████| 5766/5766 [00:06<00:00, 890.36it/s]\n"
          ],
          "name": "stderr"
        }
      ]
    },
    {
      "cell_type": "code",
      "metadata": {
        "id": "P8RMI8-qGJ0R",
        "colab_type": "code",
        "outputId": "8dcb75f4-bb75-44b3-9d93-697314fdea78",
        "colab": {
          "base_uri": "https://localhost:8080/",
          "height": 343
        }
      },
      "source": [
        "reviewDF.head(10)"
      ],
      "execution_count": 0,
      "outputs": [
        {
          "output_type": "execute_result",
          "data": {
            "text/html": [
              "<div>\n",
              "<style scoped>\n",
              "    .dataframe tbody tr th:only-of-type {\n",
              "        vertical-align: middle;\n",
              "    }\n",
              "\n",
              "    .dataframe tbody tr th {\n",
              "        vertical-align: top;\n",
              "    }\n",
              "\n",
              "    .dataframe thead th {\n",
              "        text-align: right;\n",
              "    }\n",
              "</style>\n",
              "<table border=\"1\" class=\"dataframe\">\n",
              "  <thead>\n",
              "    <tr style=\"text-align: right;\">\n",
              "      <th></th>\n",
              "      <th>reviewCol</th>\n",
              "      <th>vader</th>\n",
              "    </tr>\n",
              "  </thead>\n",
              "  <tbody>\n",
              "    <tr>\n",
              "      <th>0</th>\n",
              "      <td>\"I Recommend this hotel to everyone. New Hotel...</td>\n",
              "      <td>0.9796</td>\n",
              "    </tr>\n",
              "    <tr>\n",
              "      <th>1</th>\n",
              "      <td>\"Brand new and very well designed hotel. We li...</td>\n",
              "      <td>0.4543</td>\n",
              "    </tr>\n",
              "    <tr>\n",
              "      <th>2</th>\n",
              "      <td>\"Our stay here started out a little rough. We ...</td>\n",
              "      <td>0.9585</td>\n",
              "    </tr>\n",
              "    <tr>\n",
              "      <th>3</th>\n",
              "      <td>\"I selected this hotel based upon a passed pos...</td>\n",
              "      <td>0.9571</td>\n",
              "    </tr>\n",
              "    <tr>\n",
              "      <th>4</th>\n",
              "      <td>\"Hopefully, I have an opportunity to visit aga...</td>\n",
              "      <td>0.9509</td>\n",
              "    </tr>\n",
              "    <tr>\n",
              "      <th>5</th>\n",
              "      <td>\"Great hotel with great staff this facility is...</td>\n",
              "      <td>0.9712</td>\n",
              "    </tr>\n",
              "    <tr>\n",
              "      <th>6</th>\n",
              "      <td>\"This is my first review on trip advisor and I...</td>\n",
              "      <td>0.9241</td>\n",
              "    </tr>\n",
              "    <tr>\n",
              "      <th>7</th>\n",
              "      <td>\"The best sperience ever went we opened the su...</td>\n",
              "      <td>0.9678</td>\n",
              "    </tr>\n",
              "    <tr>\n",
              "      <th>8</th>\n",
              "      <td>\"Brand new, super clean and spacious hotel. Th...</td>\n",
              "      <td>0.9678</td>\n",
              "    </tr>\n",
              "    <tr>\n",
              "      <th>9</th>\n",
              "      <td>\"I absolutely love it. I checked in when it wa...</td>\n",
              "      <td>0.9498</td>\n",
              "    </tr>\n",
              "  </tbody>\n",
              "</table>\n",
              "</div>"
            ],
            "text/plain": [
              "                                           reviewCol   vader\n",
              "0  \"I Recommend this hotel to everyone. New Hotel...  0.9796\n",
              "1  \"Brand new and very well designed hotel. We li...  0.4543\n",
              "2  \"Our stay here started out a little rough. We ...  0.9585\n",
              "3  \"I selected this hotel based upon a passed pos...  0.9571\n",
              "4  \"Hopefully, I have an opportunity to visit aga...  0.9509\n",
              "5  \"Great hotel with great staff this facility is...  0.9712\n",
              "6  \"This is my first review on trip advisor and I...  0.9241\n",
              "7  \"The best sperience ever went we opened the su...  0.9678\n",
              "8  \"Brand new, super clean and spacious hotel. Th...  0.9678\n",
              "9  \"I absolutely love it. I checked in when it wa...  0.9498"
            ]
          },
          "metadata": {
            "tags": []
          },
          "execution_count": 13
        }
      ]
    },
    {
      "cell_type": "code",
      "metadata": {
        "id": "TDBMX12QGJuL",
        "colab_type": "code",
        "colab": {}
      },
      "source": [
        "# add hotel name to the vader dataframe\n",
        "hotel_df['vader_score'] = reviewDF.vader"
      ],
      "execution_count": 0,
      "outputs": []
    },
    {
      "cell_type": "code",
      "metadata": {
        "id": "ifOiTItBGJo-",
        "colab_type": "code",
        "outputId": "40466c11-2f10-4f1b-8f04-7494f5670977",
        "colab": {
          "base_uri": "https://localhost:8080/",
          "height": 279
        }
      },
      "source": [
        "hotel_df.head()"
      ],
      "execution_count": 0,
      "outputs": [
        {
          "output_type": "execute_result",
          "data": {
            "text/html": [
              "<div>\n",
              "<style scoped>\n",
              "    .dataframe tbody tr th:only-of-type {\n",
              "        vertical-align: middle;\n",
              "    }\n",
              "\n",
              "    .dataframe tbody tr th {\n",
              "        vertical-align: top;\n",
              "    }\n",
              "\n",
              "    .dataframe thead th {\n",
              "        text-align: right;\n",
              "    }\n",
              "</style>\n",
              "<table border=\"1\" class=\"dataframe\">\n",
              "  <thead>\n",
              "    <tr style=\"text-align: right;\">\n",
              "      <th></th>\n",
              "      <th>link</th>\n",
              "      <th>hotel_name</th>\n",
              "      <th>reviews</th>\n",
              "      <th>rating</th>\n",
              "      <th>sentiment</th>\n",
              "      <th>vader_score</th>\n",
              "    </tr>\n",
              "  </thead>\n",
              "  <tbody>\n",
              "    <tr>\n",
              "      <th>0</th>\n",
              "      <td>data\\ca\\32530\\10373297\\460828080.html</td>\n",
              "      <td>Homewood Suites by Hilton Irvine John Wayne Ai...</td>\n",
              "      <td>\"I Recommend this hotel to everyone. New Hotel...</td>\n",
              "      <td>5</td>\n",
              "      <td>positive</td>\n",
              "      <td>0.9796</td>\n",
              "    </tr>\n",
              "    <tr>\n",
              "      <th>1</th>\n",
              "      <td>data\\ca\\32530\\10373297\\461011684.html</td>\n",
              "      <td>Homewood Suites by Hilton Irvine John Wayne Ai...</td>\n",
              "      <td>\"Brand new and very well designed hotel. We li...</td>\n",
              "      <td>4</td>\n",
              "      <td>positive</td>\n",
              "      <td>0.4543</td>\n",
              "    </tr>\n",
              "    <tr>\n",
              "      <th>2</th>\n",
              "      <td>data\\ca\\32530\\10373297\\461297357.html</td>\n",
              "      <td>Homewood Suites by Hilton Irvine John Wayne Ai...</td>\n",
              "      <td>\"Our stay here started out a little rough. We ...</td>\n",
              "      <td>4</td>\n",
              "      <td>positive</td>\n",
              "      <td>0.9585</td>\n",
              "    </tr>\n",
              "    <tr>\n",
              "      <th>3</th>\n",
              "      <td>data\\ca\\32530\\10373297\\461543739.html</td>\n",
              "      <td>Homewood Suites by Hilton Irvine John Wayne Ai...</td>\n",
              "      <td>\"I selected this hotel based upon a passed pos...</td>\n",
              "      <td>5</td>\n",
              "      <td>positive</td>\n",
              "      <td>0.9571</td>\n",
              "    </tr>\n",
              "    <tr>\n",
              "      <th>4</th>\n",
              "      <td>data\\ca\\32530\\10373297\\461852837.html</td>\n",
              "      <td>Homewood Suites by Hilton Irvine John Wayne Ai...</td>\n",
              "      <td>\"Hopefully, I have an opportunity to visit aga...</td>\n",
              "      <td>5</td>\n",
              "      <td>positive</td>\n",
              "      <td>0.9509</td>\n",
              "    </tr>\n",
              "  </tbody>\n",
              "</table>\n",
              "</div>"
            ],
            "text/plain": [
              "                                    link  ... vader_score\n",
              "0  data\\ca\\32530\\10373297\\460828080.html  ...      0.9796\n",
              "1  data\\ca\\32530\\10373297\\461011684.html  ...      0.4543\n",
              "2  data\\ca\\32530\\10373297\\461297357.html  ...      0.9585\n",
              "3  data\\ca\\32530\\10373297\\461543739.html  ...      0.9571\n",
              "4  data\\ca\\32530\\10373297\\461852837.html  ...      0.9509\n",
              "\n",
              "[5 rows x 6 columns]"
            ]
          },
          "metadata": {
            "tags": []
          },
          "execution_count": 15
        }
      ]
    },
    {
      "cell_type": "code",
      "metadata": {
        "id": "A_axJboGGJjx",
        "colab_type": "code",
        "outputId": "0db1024c-af71-41e0-bd1f-bbe75b946e8a",
        "colab": {
          "base_uri": "https://localhost:8080/",
          "height": 195
        }
      },
      "source": [
        "# show avg Vader score rank\n",
        "vader_mean_rating = hotel_df.groupby(['hotel_name']).mean()[['vader_score']].reset_index()\n",
        "vader_mean_rating.columns = ['hotel_name', 'vader_avg_rating']\n",
        "vader_mean_rating.sort_values(by = 'vader_avg_rating', ascending = 0).head()"
      ],
      "execution_count": 0,
      "outputs": [
        {
          "output_type": "execute_result",
          "data": {
            "text/html": [
              "<div>\n",
              "<style scoped>\n",
              "    .dataframe tbody tr th:only-of-type {\n",
              "        vertical-align: middle;\n",
              "    }\n",
              "\n",
              "    .dataframe tbody tr th {\n",
              "        vertical-align: top;\n",
              "    }\n",
              "\n",
              "    .dataframe thead th {\n",
              "        text-align: right;\n",
              "    }\n",
              "</style>\n",
              "<table border=\"1\" class=\"dataframe\">\n",
              "  <thead>\n",
              "    <tr style=\"text-align: right;\">\n",
              "      <th></th>\n",
              "      <th>hotel_name</th>\n",
              "      <th>vader_avg_rating</th>\n",
              "    </tr>\n",
              "  </thead>\n",
              "  <tbody>\n",
              "    <tr>\n",
              "      <th>19</th>\n",
              "      <td>Homewood Suites by Hilton Irvine John Wayne Ai...</td>\n",
              "      <td>0.884557</td>\n",
              "    </tr>\n",
              "    <tr>\n",
              "      <th>8</th>\n",
              "      <td>Courtyard by Marriott Irvine Spectrum</td>\n",
              "      <td>0.881146</td>\n",
              "    </tr>\n",
              "    <tr>\n",
              "      <th>14</th>\n",
              "      <td>Hampton Inn &amp;amp; Suites Irvine-Orange County ...</td>\n",
              "      <td>0.878928</td>\n",
              "    </tr>\n",
              "    <tr>\n",
              "      <th>0</th>\n",
              "      <td>AC Hotel by Marriott Irvine</td>\n",
              "      <td>0.855282</td>\n",
              "    </tr>\n",
              "    <tr>\n",
              "      <th>18</th>\n",
              "      <td>Holiday Inn Santa Ana-Orange County Airport</td>\n",
              "      <td>0.834031</td>\n",
              "    </tr>\n",
              "  </tbody>\n",
              "</table>\n",
              "</div>"
            ],
            "text/plain": [
              "                                           hotel_name  vader_avg_rating\n",
              "19  Homewood Suites by Hilton Irvine John Wayne Ai...          0.884557\n",
              "8               Courtyard by Marriott Irvine Spectrum          0.881146\n",
              "14  Hampton Inn &amp; Suites Irvine-Orange County ...          0.878928\n",
              "0                         AC Hotel by Marriott Irvine          0.855282\n",
              "18        Holiday Inn Santa Ana-Orange County Airport          0.834031"
            ]
          },
          "metadata": {
            "tags": []
          },
          "execution_count": 16
        }
      ]
    },
    {
      "cell_type": "code",
      "metadata": {
        "id": "gMolSrcSGJeo",
        "colab_type": "code",
        "outputId": "7b7c4e4e-87aa-4e13-c508-62b30dcc1588",
        "colab": {
          "base_uri": "https://localhost:8080/",
          "height": 939
        }
      },
      "source": [
        "# plot the histgram plot shows different methods\n",
        "\n",
        "hotelname1 = ground_mean_rating['hotel_name']\n",
        "hotelname1 = list(hotelname1)\n",
        "\n",
        "x1 = hotelname1\n",
        "y1 = ground_mean_rating.sort_values(by = 'ground_avg_rating', ascending = 0)['ground_avg_rating'].values\n",
        "\n",
        "x_pos1 = [i for i, _ in enumerate(x1)]\n",
        "\n",
        "fig = plt.figure(figsize=(15,10))\n",
        "plt.bar(x_pos1, y1, color='green', width = 0.6)\n",
        "plt.xlabel(\"hotel name\", labelpad = 10)\n",
        "plt.ylabel(\"Mean ratings\")\n",
        "plt.title(\"Ground_truth_rating\")\n",
        "\n",
        "plt.xticks(x_pos1, x1, rotation= 'vertical')\n",
        "plt.show()"
      ],
      "execution_count": 0,
      "outputs": [
        {
          "output_type": "display_data",
          "data": {
            "image/png": "[encoded data removed]",
            "text/plain": [
              "<Figure size 1080x720 with 1 Axes>"
            ]
          },
          "metadata": {
            "tags": []
          }
        }
      ]
    },
    {
      "cell_type": "code",
      "metadata": {
        "id": "HKxGTCeEYDIN",
        "colab_type": "code",
        "outputId": "e96c689e-4262-412a-c91f-497e2d0081ac",
        "colab": {
          "base_uri": "https://localhost:8080/",
          "height": 939
        }
      },
      "source": [
        "hotelname2 = vader_mean_rating['hotel_name']\n",
        "hotelname2 = list(hotelname2)\n",
        "x2 = hotelname2\n",
        "y2 = vader_mean_rating.sort_values(by = 'vader_avg_rating', ascending = 0)['vader_avg_rating'].values\n",
        "\n",
        "fig = plt.figure(figsize=(15,10))\n",
        "\n",
        "x_pos2 = [i for i, _ in enumerate(x2)]\n",
        "\n",
        "\n",
        "plt.bar(x_pos2, y2, color='green', width = 0.6)\n",
        "plt.xlabel(\"hotel name\", labelpad = 10)\n",
        "plt.ylabel(\"Mean ratings\")\n",
        "plt.title(\"Vader_rating\")\n",
        "\n",
        "plt.xticks(x_pos2, x2, rotation= 'vertical')\n",
        "plt.show()"
      ],
      "execution_count": 0,
      "outputs": [
        {
          "output_type": "display_data",
          "data": {
            "image/png": "[encoded data removed]",
            "text/plain": [
              "<Figure size 1080x720 with 1 Axes>"
            ]
          },
          "metadata": {
            "tags": []
          }
        }
      ]
    },
    {
      "cell_type": "markdown",
      "metadata": {
        "id": "7O29dftNlOu7",
        "colab_type": "text"
      },
      "source": [
        "# Q2. Frequency Analysis"
      ]
    },
    {
      "cell_type": "code",
      "metadata": {
        "id": "8WpGiK3-GJYk",
        "colab_type": "code",
        "colab": {}
      },
      "source": [
        "import string\n",
        "from nltk.corpus import wordnet\n",
        "from nltk import pos_tag\n",
        "from nltk.corpus import stopwords\n",
        "from nltk.tokenize import WhitespaceTokenizer\n",
        "from nltk.stem import WordNetLemmatizer"
      ],
      "execution_count": 0,
      "outputs": []
    },
    {
      "cell_type": "markdown",
      "metadata": {
        "id": "be8VHLf2qOr4",
        "colab_type": "text"
      },
      "source": [
        "\n",
        "### **(a) Use term frequency of the words for (i) positive reviews and (ii) negative with ground truth sentiment to rank the top-50 most frequent non-stopwords in the review collection. Do you note anything interesting and/or locale-specific about these top-ranked words?**"
      ]
    },
    {
      "cell_type": "code",
      "metadata": {
        "id": "cRyUXQmPGJUH",
        "colab_type": "code",
        "colab": {}
      },
      "source": [
        "# clean txt and tokenize\n",
        "# reference https://towardsdatascience.com/detecting-bad-customer-reviews-with-nlp-d8b36134dc7e\n",
        "\n",
        "def get_wordnet_pos(pos_tag):\n",
        "    if pos_tag.startswith('J'):\n",
        "        return wordnet.ADJ\n",
        "    elif pos_tag.startswith('V'):\n",
        "        return wordnet.VERB\n",
        "    elif pos_tag.startswith('N'):\n",
        "        return wordnet.NOUN\n",
        "    elif pos_tag.startswith('R'):\n",
        "        return wordnet.ADV\n",
        "    else:\n",
        "        return wordnet.NOUN\n",
        "\n",
        "def clean_text(text):\n",
        "    # lower text\n",
        "    text = text.lower()\n",
        "    # tokenize text and remove puncutation\n",
        "    text = [word.strip(string.punctuation) for word in text.split(\" \")]\n",
        "    # remove words that contain numbers\n",
        "    text = [word for word in text if not any(c.isdigit() for c in word)]\n",
        "    # remove stop words\n",
        "    stop = stopwords.words('english')\n",
        "    text = [x for x in text if x not in stop]\n",
        "    # remove empty tokens\n",
        "    text = [t for t in text if len(t) > 0]\n",
        "    # pos tag text\n",
        "    pos_tags = pos_tag(text)\n",
        "    # lemmatize text\n",
        "    text = [WordNetLemmatizer().lemmatize(t[0], get_wordnet_pos(t[1])) for t in pos_tags]\n",
        "    # remove words with only one letter\n",
        "    text = [t for t in text if len(t) > 1]\n",
        "    # join all\n",
        "    text = \" \".join(text)\n",
        "    return(text)"
      ],
      "execution_count": 0,
      "outputs": []
    },
    {
      "cell_type": "code",
      "metadata": {
        "id": "yRXCH4QEGJPA",
        "colab_type": "code",
        "colab": {}
      },
      "source": [
        "# applying function and clean data\n",
        "hotel_df['review_clean'] = hotel_df['reviews'].apply(lambda x: clean_text(x))"
      ],
      "execution_count": 0,
      "outputs": []
    },
    {
      "cell_type": "code",
      "metadata": {
        "id": "4XRhyyOBGJKJ",
        "colab_type": "code",
        "outputId": "9694d2f4-0464-4ae6-9cbc-1732b6d18250",
        "colab": {
          "base_uri": "https://localhost:8080/",
          "height": 195
        }
      },
      "source": [
        "hotel_df[['reviews', 'review_clean']].head()"
      ],
      "execution_count": 0,
      "outputs": [
        {
          "output_type": "execute_result",
          "data": {
            "text/html": [
              "<div>\n",
              "<style scoped>\n",
              "    .dataframe tbody tr th:only-of-type {\n",
              "        vertical-align: middle;\n",
              "    }\n",
              "\n",
              "    .dataframe tbody tr th {\n",
              "        vertical-align: top;\n",
              "    }\n",
              "\n",
              "    .dataframe thead th {\n",
              "        text-align: right;\n",
              "    }\n",
              "</style>\n",
              "<table border=\"1\" class=\"dataframe\">\n",
              "  <thead>\n",
              "    <tr style=\"text-align: right;\">\n",
              "      <th></th>\n",
              "      <th>reviews</th>\n",
              "      <th>review_clean</th>\n",
              "    </tr>\n",
              "  </thead>\n",
              "  <tbody>\n",
              "    <tr>\n",
              "      <th>0</th>\n",
              "      <td>\"I Recommend this hotel to everyone. New Hotel...</td>\n",
              "      <td>recommend hotel everyone new hotel clean staff...</td>\n",
              "    </tr>\n",
              "    <tr>\n",
              "      <th>1</th>\n",
              "      <td>\"Brand new and very well designed hotel. We li...</td>\n",
              "      <td>brand new well design hotel like everything ho...</td>\n",
              "    </tr>\n",
              "    <tr>\n",
              "      <th>2</th>\n",
              "      <td>\"Our stay here started out a little rough. We ...</td>\n",
              "      <td>stay start little rough adult child book one l...</td>\n",
              "    </tr>\n",
              "    <tr>\n",
              "      <th>3</th>\n",
              "      <td>\"I selected this hotel based upon a passed pos...</td>\n",
              "      <td>select hotel base upon passed positive experie...</td>\n",
              "    </tr>\n",
              "    <tr>\n",
              "      <th>4</th>\n",
              "      <td>\"Hopefully, I have an opportunity to visit aga...</td>\n",
              "      <td>hopefully opportunity visit near future suite ...</td>\n",
              "    </tr>\n",
              "  </tbody>\n",
              "</table>\n",
              "</div>"
            ],
            "text/plain": [
              "                                             reviews                                       review_clean\n",
              "0  \"I Recommend this hotel to everyone. New Hotel...  recommend hotel everyone new hotel clean staff...\n",
              "1  \"Brand new and very well designed hotel. We li...  brand new well design hotel like everything ho...\n",
              "2  \"Our stay here started out a little rough. We ...  stay start little rough adult child book one l...\n",
              "3  \"I selected this hotel based upon a passed pos...  select hotel base upon passed positive experie...\n",
              "4  \"Hopefully, I have an opportunity to visit aga...  hopefully opportunity visit near future suite ..."
            ]
          },
          "metadata": {
            "tags": []
          },
          "execution_count": 22
        }
      ]
    },
    {
      "cell_type": "code",
      "metadata": {
        "id": "It8IX11M-NIM",
        "colab_type": "code",
        "colab": {}
      },
      "source": [
        "reviewDF = hotel_df[['vader_score', 'review_clean']]"
      ],
      "execution_count": 0,
      "outputs": []
    },
    {
      "cell_type": "code",
      "metadata": {
        "id": "1muhlMYbGI2l",
        "colab_type": "code",
        "colab": {}
      },
      "source": [
        "# In this part, tokenize words from each review\n",
        "from nltk import word_tokenize \n",
        "from wordcloud import WordCloud\n",
        "\n",
        "# Note: You may want to use an NLTK tokenizer instead of a regular expression in the following\n",
        "def dataFrameTransformation(sentiment, hotelDf, reviewDF, k):\n",
        "    # positive sentiment\n",
        "    if sentiment == 'positive':\n",
        "        reviews = hotel_df[hotel_df['sentiment'] == 'positive']['review_clean'].values\n",
        "            \n",
        "        # Top-k frequent terms\n",
        "        counter = Counter()\n",
        "        for review in reviews:\n",
        "                counter.update(word.lower() \n",
        "                                for word \n",
        "                                in word_tokenize(review) \n",
        "                                )\n",
        "        topk = counter.most_common(k)\n",
        "        topk_words = [i[0] for i in topk] \n",
        "\n",
        "    # negative sentiment\n",
        "    if sentiment == 'negative':  \n",
        "        reviews = hotel_df[hotel_df['sentiment'] == 'negative']['review_clean'].values\n",
        "            \n",
        "        # Top-k frequent terms\n",
        "        counter = Counter()\n",
        "        for review in reviews:\n",
        "                counter.update(word.lower() \n",
        "                                for word \n",
        "                                in word_tokenize(review) \n",
        "                                )\n",
        "        topk = counter.most_common(k)\n",
        "        topk_words = [i[0] for i in topk]     \n",
        "\n",
        "    # plot wordcloud\n",
        "    wordcloud = WordCloud(\n",
        "        background_color = 'white',\n",
        "        max_words = 50,\n",
        "        max_font_size = 50, \n",
        "        scale = 3,\n",
        "        random_state = 42\n",
        "    ).generate(str(topk_words))\n",
        "\n",
        "    fig = plt.figure(1, figsize = (15, 10))\n",
        "    plt.axis('off')\n",
        "    plt.imshow(wordcloud)\n",
        "    plt.show()\n",
        "    \n",
        "    #Find out if a particular review has the word from topk list\n",
        "    freqReview = []\n",
        "    for i in range(len(reviews)):\n",
        "        tempCounter = Counter([word.lower() for word in re.findall(r'\\w+',reviews[i])])\n",
        "        topkinReview = [1 if tempCounter[word] > 0 else 0 for (word,wordCount) in topk]\n",
        "        freqReview.append(topkinReview)\n",
        "        \n",
        "        \n",
        "    #Prepare freqReviewDf\n",
        "    freqReviewDf = pd.DataFrame(freqReview)\n",
        "    dfName = []\n",
        "    for c in topk:\n",
        "        dfName.append(c[0])\n",
        "    freqReviewDf.columns = dfName\n",
        "    finalreviewDf = reviewDF.join(freqReviewDf)\n",
        "    finaldf = hotelDf[['hotel_name','rating','sentiment']].join(finalreviewDf)\n",
        "    return topk, finaldf"
      ],
      "execution_count": 0,
      "outputs": []
    },
    {
      "cell_type": "code",
      "metadata": {
        "id": "gFbh6SE_9s8S",
        "colab_type": "code",
        "outputId": "d8b66b16-7c0f-474b-eb15-997c9496ec11",
        "colab": {
          "base_uri": "https://localhost:8080/",
          "height": 449
        }
      },
      "source": [
        "topk, finaldf = dataFrameTransformation('negative', hotel_df, reviewDF, 50)"
      ],
      "execution_count": 0,
      "outputs": [
        {
          "output_type": "display_data",
          "data": {
            "image/png": "[encoded data removed]",
            "text/plain": [
              "<Figure size 1080x720 with 1 Axes>"
            ]
          },
          "metadata": {
            "tags": []
          }
        }
      ]
    },
    {
      "cell_type": "code",
      "metadata": {
        "id": "HDc0EJY0laoB",
        "colab_type": "code",
        "colab": {}
      },
      "source": [
        "############### from lab"
      ],
      "execution_count": 0,
      "outputs": []
    },
    {
      "cell_type": "code",
      "metadata": {
        "id": "aKsBif5Klab4",
        "colab_type": "code",
        "colab": {}
      },
      "source": [
        "#We are only intereseted in this three column for overall analysis\n",
        "itemAnalysisDf = hotel_df[['review_clean','sentiment','vader_score']]"
      ],
      "execution_count": 0,
      "outputs": []
    },
    {
      "cell_type": "code",
      "metadata": {
        "id": "YzFJQb4vljgP",
        "colab_type": "code",
        "colab": {}
      },
      "source": [
        "itemAnalysisDf = finaldf[['review_clean','sentiment','vader_score']]\n",
        "def getTopK(df, k, label_value, label_column='sentiment', operation=operator.eq, value_column='review_clean'):\n",
        "    stop = stopwords.words('english')\n",
        "    #Add possible Stop Words for Hotel Reviews\n",
        "    stop.append('hotel')\n",
        "    stop.append('room')\n",
        "    stop.append('rooms')\n",
        "    stop.append('stay')\n",
        "    stop.append('staff')\n",
        "    counter = Counter()\n",
        "    for review in df.loc[operation(df[label_column],label_value)][value_column]:\n",
        "            counter.update([word.lower() \n",
        "                            for word \n",
        "                            in re.findall(r'\\w+', review) \n",
        "                            if word.lower() not in stop and len(word) > 2])\n",
        "    topk = counter.most_common(k)\n",
        "    return topk"
      ],
      "execution_count": 0,
      "outputs": []
    },
    {
      "cell_type": "code",
      "metadata": {
        "id": "lHnH_1kqltnu",
        "colab_type": "code",
        "colab": {}
      },
      "source": [
        "topkGroundPos = getTopK(df=itemAnalysisDf, k=50, label_value='positive')"
      ],
      "execution_count": 0,
      "outputs": []
    },
    {
      "cell_type": "code",
      "metadata": {
        "id": "ebxo8blYltk7",
        "colab_type": "code",
        "outputId": "97a0bd40-1957-4348-d6b6-abc2ef6bc09f",
        "colab": {
          "base_uri": "https://localhost:8080/",
          "height": 857
        }
      },
      "source": [
        "topkGroundPos"
      ],
      "execution_count": 0,
      "outputs": [
        {
          "output_type": "execute_result",
          "data": {
            "text/plain": [
              "[('great', 2501),\n",
              " ('breakfast', 2139),\n",
              " ('clean', 2078),\n",
              " ('nice', 1830),\n",
              " ('good', 1604),\n",
              " ('area', 1508),\n",
              " ('friendly', 1284),\n",
              " ('service', 1207),\n",
              " ('make', 1185),\n",
              " ('would', 1153),\n",
              " ('well', 1119),\n",
              " ('airport', 1117),\n",
              " ('comfortable', 1061),\n",
              " ('one', 1040),\n",
              " ('get', 1036),\n",
              " ('time', 1036),\n",
              " ('location', 1024),\n",
              " ('night', 976),\n",
              " ('bed', 908),\n",
              " ('pool', 884),\n",
              " ('place', 865),\n",
              " ('like', 840),\n",
              " ('desk', 823),\n",
              " ('helpful', 812),\n",
              " ('also', 804),\n",
              " ('irvine', 800),\n",
              " ('need', 790),\n",
              " ('free', 780),\n",
              " ('park', 770),\n",
              " ('check', 767),\n",
              " ('restaurant', 764),\n",
              " ('day', 746),\n",
              " ('front', 742),\n",
              " ('close', 724),\n",
              " ('business', 718),\n",
              " ('food', 673),\n",
              " ('work', 670),\n",
              " ('even', 606),\n",
              " ('excellent', 592),\n",
              " ('recommend', 585),\n",
              " ('always', 583),\n",
              " ('really', 574),\n",
              " ('back', 572),\n",
              " ('nthe', 568),\n",
              " ('family', 555),\n",
              " ('come', 552),\n",
              " ('definitely', 547),\n",
              " ('best', 546),\n",
              " ('shuttle', 537),\n",
              " ('take', 535)]"
            ]
          },
          "metadata": {
            "tags": []
          },
          "execution_count": 30
        }
      ]
    },
    {
      "cell_type": "code",
      "metadata": {
        "id": "rszK02t3lthZ",
        "colab_type": "code",
        "colab": {}
      },
      "source": [
        "topkGroundNeg = getTopK(df=itemAnalysisDf, k=50, label_value='negative')"
      ],
      "execution_count": 0,
      "outputs": []
    },
    {
      "cell_type": "code",
      "metadata": {
        "id": "zcpH0i-Glv7C",
        "colab_type": "code",
        "outputId": "fbea44c7-b109-43c0-85f9-45c4c4b73ed6",
        "colab": {
          "base_uri": "https://localhost:8080/",
          "height": 857
        }
      },
      "source": [
        "topkGroundNeg"
      ],
      "execution_count": 0,
      "outputs": [
        {
          "output_type": "execute_result",
          "data": {
            "text/plain": [
              "[('get', 976),\n",
              " ('would', 793),\n",
              " ('night', 730),\n",
              " ('one', 710),\n",
              " ('desk', 664),\n",
              " ('check', 645),\n",
              " ('breakfast', 639),\n",
              " ('good', 617),\n",
              " ('front', 617),\n",
              " ('clean', 585),\n",
              " ('time', 566),\n",
              " ('nice', 554),\n",
              " ('area', 541),\n",
              " ('day', 538),\n",
              " ('service', 533),\n",
              " ('park', 532),\n",
              " ('say', 521),\n",
              " ('work', 510),\n",
              " ('like', 502),\n",
              " ('bed', 498),\n",
              " ('call', 461),\n",
              " ('could', 455),\n",
              " ('make', 432),\n",
              " ('place', 429),\n",
              " ('need', 414),\n",
              " ('back', 405),\n",
              " ('ask', 404),\n",
              " ('even', 393),\n",
              " ('well', 378),\n",
              " ('look', 376),\n",
              " ('door', 374),\n",
              " ('tell', 373),\n",
              " ('come', 358),\n",
              " ('bathroom', 347),\n",
              " ('use', 342),\n",
              " ('great', 338),\n",
              " ('pool', 330),\n",
              " ('give', 325),\n",
              " ('location', 325),\n",
              " ('also', 321),\n",
              " ('charge', 317),\n",
              " ('floor', 313),\n",
              " ('never', 313),\n",
              " ('take', 312),\n",
              " ('bad', 306),\n",
              " ('find', 302),\n",
              " ('first', 301),\n",
              " ('next', 293),\n",
              " ('really', 271),\n",
              " ('leave', 268)]"
            ]
          },
          "metadata": {
            "tags": []
          },
          "execution_count": 32
        }
      ]
    },
    {
      "cell_type": "code",
      "metadata": {
        "id": "AtJwk01qlv48",
        "colab_type": "code",
        "colab": {}
      },
      "source": [
        "topkVaderPos = getTopK(df=itemAnalysisDf, \n",
        "                       k=10, \n",
        "                       label_value=0, \n",
        "                       label_column='vader_score', \n",
        "                       operation=operator.gt)"
      ],
      "execution_count": 0,
      "outputs": []
    },
    {
      "cell_type": "code",
      "metadata": {
        "id": "p287pbqxmF-r",
        "colab_type": "code",
        "outputId": "78532018-c84e-46bb-8966-3f3972c61f15",
        "colab": {
          "base_uri": "https://localhost:8080/",
          "height": 185
        }
      },
      "source": [
        "topkVaderPos"
      ],
      "execution_count": 0,
      "outputs": [
        {
          "output_type": "execute_result",
          "data": {
            "text/plain": [
              "[('great', 2771),\n",
              " ('breakfast', 2550),\n",
              " ('clean', 2464),\n",
              " ('nice', 2250),\n",
              " ('good', 2060),\n",
              " ('area', 1859),\n",
              " ('would', 1576),\n",
              " ('get', 1572),\n",
              " ('service', 1492),\n",
              " ('one', 1450)]"
            ]
          },
          "metadata": {
            "tags": []
          },
          "execution_count": 34
        }
      ]
    },
    {
      "cell_type": "code",
      "metadata": {
        "id": "UcFo8LLNlv1t",
        "colab_type": "code",
        "colab": {}
      },
      "source": [
        "topkVaderNeg = getTopK(df=itemAnalysisDf, \n",
        "                       k=10, \n",
        "                       label_value=0, \n",
        "                       label_column='vader_score', \n",
        "                       operation=operator.lt)"
      ],
      "execution_count": 0,
      "outputs": []
    },
    {
      "cell_type": "code",
      "metadata": {
        "id": "0MXjCeohmHed",
        "colab_type": "code",
        "outputId": "08a84f6b-4ced-4f89-be76-60c286f0cd59",
        "colab": {
          "base_uri": "https://localhost:8080/",
          "height": 185
        }
      },
      "source": [
        "topkVaderNeg"
      ],
      "execution_count": 0,
      "outputs": [
        {
          "output_type": "execute_result",
          "data": {
            "text/plain": [
              "[('get', 433),\n",
              " ('would', 365),\n",
              " ('night', 349),\n",
              " ('desk', 334),\n",
              " ('check', 332),\n",
              " ('front', 313),\n",
              " ('one', 298),\n",
              " ('say', 274),\n",
              " ('time', 257),\n",
              " ('day', 252)]"
            ]
          },
          "metadata": {
            "tags": []
          },
          "execution_count": 36
        }
      ]
    },
    {
      "cell_type": "markdown",
      "metadata": {
        "id": "CnJ9Cwy7FOeP",
        "colab_type": "text"
      },
      "source": [
        "### **(b) Repeat this analysis for the top-50 noun phrases and note any interesting results.**"
      ]
    },
    {
      "cell_type": "code",
      "metadata": {
        "id": "I2np7rwRDEEF",
        "colab_type": "code",
        "colab": {}
      },
      "source": [
        "tagger = PerceptronTagger()"
      ],
      "execution_count": 0,
      "outputs": []
    },
    {
      "cell_type": "code",
      "metadata": {
        "id": "R64t0OdREA5t",
        "colab_type": "code",
        "outputId": "be69b8ea-cd61-4b01-d28a-ff062bd54d0b",
        "colab": {
          "base_uri": "https://localhost:8080/",
          "height": 171
        }
      },
      "source": [
        "positive_reviews = hotel_df[hotel_df['sentiment'] == 'positive']['review_clean'].values\n",
        "positive_reviews"
      ],
      "execution_count": 0,
      "outputs": [
        {
          "output_type": "execute_result",
          "data": {
            "text/plain": [
              "array([\"recommend hotel everyone new hotel clean staff extremely helpful care kind hotel clerk always attentive family need day departure surprise son children's book sign staff year old birthday truly unexpected nice gift ever keep book forever memory thank\",\n",
              "       'brand new well design hotel like everything hotel except bed noisy probably poorly assemble since brand new hotel hope quickly fix problem',\n",
              "       'stay start little rough adult child book one large suit fit th day get call inform problem room move two connect room queen bed problem however arrive told two room available move connect room king bed plus pull couch please honestly turn ok slept comfortably hotel make right knock decent amount bill hotel clean modern breakfast good staff great mean everyone front desk maintenance crew pool recreation area nice overall great stay mess room quickly forget highly recommend hotel',\n",
              "       ...,\n",
              "       'would definitely recommend hotel stay o.c great location hotel staff friendly courteous make sure comfortable stay hotel nice clean definitely enjoyed complementary breakfast',\n",
              "       'clean quiet nicely furnished large room seat area good breakfast good location helpful staff nice seat lobby meeting family friends comfy bed variety pillow choose',\n",
              "       \"lose charge cable business trip jasmine allow borrow personal iphone charge cable charge iphones i'm mobile let borrow iphone cable helpful want publicly acknowledge kindness.\\\\n\\\\njohn\"],\n",
              "      dtype=object)"
            ]
          },
          "metadata": {
            "tags": []
          },
          "execution_count": 38
        }
      ]
    },
    {
      "cell_type": "code",
      "metadata": {
        "id": "HRxRyPtAEnvj",
        "colab_type": "code",
        "outputId": "960b0e76-2bc0-4d1b-93b2-9bfd36a10509",
        "colab": {
          "base_uri": "https://localhost:8080/",
          "height": 54
        }
      },
      "source": [
        "positive_reviews[1]"
      ],
      "execution_count": 0,
      "outputs": [
        {
          "output_type": "execute_result",
          "data": {
            "text/plain": [
              "'brand new well design hotel like everything hotel except bed noisy probably poorly assemble since brand new hotel hope quickly fix problem'"
            ]
          },
          "metadata": {
            "tags": []
          },
          "execution_count": 39
        }
      ]
    },
    {
      "cell_type": "code",
      "metadata": {
        "id": "fjVOeHu3GlcR",
        "colab_type": "code",
        "colab": {}
      },
      "source": [
        "# This grammar is described in the paper by S. N. Kim,\n",
        "# T. Baldwin, and M.-Y. Kan.\n",
        "# Evaluating n-gram based evaluation metrics for automatic\n",
        "# keyphrase extraction.\n",
        "# Technical report, University of Melbourne, Melbourne 2010.\n",
        "grammar = r\"\"\"\n",
        "    NBAR:\n",
        "        {<NN.*|JJ>*<NN.*>}  # Nouns and Adjectives, terminated with Nouns\n",
        "        \n",
        "    NP:\n",
        "        {<NBAR>}\n",
        "        {<NBAR><IN><NBAR>}  # Above, connected with in/of/etc...\n",
        "\"\"\""
      ],
      "execution_count": 0,
      "outputs": []
    },
    {
      "cell_type": "code",
      "metadata": {
        "id": "mmWYwHKeDDw1",
        "colab_type": "code",
        "outputId": "aef4c7f1-4e59-4f79-f42b-088935d80c36",
        "colab": {
          "base_uri": "https://localhost:8080/",
          "height": 34
        }
      },
      "source": [
        "pos_tag = tagger.tag\n",
        "tree = []\n",
        "chunker = nltk.RegexpParser(grammar)\n",
        "for sent in tqdm(positive_reviews):\n",
        "    st = pos_tag(re.findall(r'\\w+', sent))\n",
        "    # positive_taggedToks.append(st)\n",
        "    # Create phrase tree\n",
        "    positive_taggedToks = chunker.parse(st)\n",
        "    tree.append(positive_taggedToks)"
      ],
      "execution_count": 0,
      "outputs": [
        {
          "output_type": "stream",
          "text": [
            "100%|██████████| 4181/4181 [00:13<00:00, 303.91it/s]\n"
          ],
          "name": "stderr"
        }
      ]
    },
    {
      "cell_type": "code",
      "metadata": {
        "id": "u2zR2sstGGH-",
        "colab_type": "code",
        "outputId": "f269e0a7-6d3a-42f8-84e3-82c25ff01c4f",
        "colab": {
          "base_uri": "https://localhost:8080/",
          "height": 70
        }
      },
      "source": [
        "tree[0:2]"
      ],
      "execution_count": 0,
      "outputs": [
        {
          "output_type": "execute_result",
          "data": {
            "text/plain": [
              "[Tree('S', [('recommend', 'VB'), Tree('NP', [Tree('NBAR', [('hotel', 'NN'), ('everyone', 'NN'), ('new', 'JJ'), ('hotel', 'NN'), ('clean', 'JJ'), ('staff', 'NN')])]), ('extremely', 'RB'), Tree('NP', [Tree('NBAR', [('helpful', 'JJ'), ('care', 'NN'), ('kind', 'NN'), ('hotel', 'NN'), ('clerk', 'NN')])]), ('always', 'RB'), Tree('NP', [Tree('NBAR', [('attentive', 'JJ'), ('family', 'NN')])]), ('need', 'VBP'), Tree('NP', [Tree('NBAR', [('day', 'NN')])]), ('departure', 'VB'), Tree('NP', [Tree('NBAR', [('surprise', 'NN'), ('son', 'NN'), ('children', 'NNS')])]), ('s', 'VBP'), Tree('NP', [Tree('NBAR', [('book', 'NN'), ('sign', 'NN'), ('staff', 'NN'), ('year', 'NN'), ('old', 'JJ'), ('birthday', 'NN')])]), ('truly', 'RB'), Tree('NP', [Tree('NBAR', [('unexpected', 'JJ'), ('nice', 'JJ'), ('gift', 'NN')])]), ('ever', 'RB'), ('keep', 'VB'), Tree('NP', [Tree('NBAR', [('book', 'NN')])]), ('forever', 'RB'), Tree('NP', [Tree('NBAR', [('memory', 'NN'), ('thank', 'NN')])])]),\n",
              " Tree('S', [Tree('NP', [Tree('NBAR', [('brand', 'NN')])]), ('new', 'JJ'), ('well', 'RB'), Tree('NP', [Tree('NBAR', [('design', 'JJ'), ('hotel', 'NN')])]), ('like', 'IN'), Tree('NP', [Tree('NBAR', [('everything', 'NN'), ('hotel', 'NN')])]), ('except', 'IN'), Tree('NP', [Tree('NBAR', [('bed', 'NN'), ('noisy', 'NN')])]), ('probably', 'RB'), ('poorly', 'RB'), ('assemble', 'JJ'), ('since', 'IN'), Tree('NP', [Tree('NBAR', [('brand', 'NN'), ('new', 'JJ'), ('hotel', 'NN'), ('hope', 'NN')])]), ('quickly', 'RB'), Tree('NP', [Tree('NBAR', [('fix', 'NN'), ('problem', 'NN')])])])]"
            ]
          },
          "metadata": {
            "tags": []
          },
          "execution_count": 42
        }
      ]
    },
    {
      "cell_type": "code",
      "metadata": {
        "id": "hHPobEyFEVJU",
        "colab_type": "code",
        "colab": {}
      },
      "source": [
        "# Noun Phrase Extraction Support Functions\n",
        "from nltk.corpus import stopwords\n",
        "stop_words = set(stopwords.words('english'))\n",
        "lemmatizer = nltk.WordNetLemmatizer()\n",
        "stemmer = nltk.stem.porter.PorterStemmer()\n",
        "# generator, generate leaves one by one\n",
        "def leaves(tree):\n",
        "    \"\"\"Finds NP (nounphrase) leaf nodes of a chunk tree.\"\"\"\n",
        "    for subtree in tree.subtrees(filter = lambda t: t.label()=='NP' or t.label()=='JJ' or t.label()=='RB'):\n",
        "        yield subtree.leaves()\n",
        "\n",
        "# stemming, lematizing, lower case... \n",
        "def normalise(word):\n",
        "    \"\"\"Normalises words to lowercase and stems and lemmatizes it.\"\"\"\n",
        "    word = word.lower()\n",
        "    word = stemmer.stem(word)\n",
        "    word = lemmatizer.lemmatize(word)\n",
        "    return word\n",
        "\n",
        "# stop-words and length control\n",
        "def acceptable_word(word):\n",
        "    \"\"\"Checks conditions for acceptable word: length, stopword.\"\"\"\n",
        "    accepted = bool(2 <= len(word) <= 40\n",
        "        and word.lower() not in stop_words)\n",
        "    return accepted\n",
        "\n",
        "# generator, create item once a time\n",
        "def get_terms(tree):\n",
        "    for leaf in leaves(tree):\n",
        "        term = [normalise(w) for w,t in leaf if acceptable_word(w) ]\n",
        "        # Phrase only\n",
        "        if len(term)>1:\n",
        "            yield term\n",
        "# Flatten phrase lists to get tokens for analysis\n",
        "def flatten(npTokenList):\n",
        "    finalList =[]\n",
        "    for phrase in npTokenList:\n",
        "        token = ''\n",
        "        for word in phrase:\n",
        "            token += word + ' '\n",
        "        finalList.append(token.rstrip())\n",
        "    return finalList"
      ],
      "execution_count": 0,
      "outputs": []
    },
    {
      "cell_type": "code",
      "metadata": {
        "id": "UaTmhd-0Jucu",
        "colab_type": "code",
        "colab": {}
      },
      "source": [
        "def newDataFrameTransformation(sentiment, hotelDf, reviewDF, k):\n",
        "    # positive sentiment\n",
        "    if sentiment == 'positive':\n",
        "        reviews = hotel_df[hotel_df['sentiment'] == 'positive']['review_clean'].values\n",
        "            \n",
        "        # Top-k frequent terms\n",
        "        counter = Counter()\n",
        "        for review in reviews:\n",
        "                counter.update(flatten([word\n",
        "                                for word \n",
        "                                in get_terms(chunker.parse(pos_tag(re.findall(r'\\w+', review)))) \n",
        "                                ]))\n",
        "        topk = counter.most_common(k)        \n",
        "        #topk_words = [i[0] for i in topk] \n",
        "\n",
        "    # negative sentiment\n",
        "    if sentiment == 'negative':  \n",
        "        reviews = hotel_df[hotel_df['sentiment'] == 'negative']['review_clean'].values\n",
        "            \n",
        "        # Top-k frequent terms\n",
        "        counter = Counter()\n",
        "        for review in reviews:\n",
        "                counter.update(flatten([word\n",
        "                                for word \n",
        "                                in get_terms(chunker.parse(pos_tag(re.findall(r'\\w+', review)))) \n",
        "                                ]))\n",
        "        topk = counter.most_common(k)        \n",
        "        #topk_words = [i[0] for i in topk]\n",
        "\n",
        "    if sentiment == 'all':  \n",
        "        reviews = hotel_df[hotel_df['sentiment'] == 'negative']['review_clean'].values\n",
        "            \n",
        "        # Top-k frequent terms\n",
        "        counter = Counter()\n",
        "        for review in reviews:\n",
        "                counter.update(flatten([word\n",
        "                                for word \n",
        "                                in get_terms(chunker.parse(pos_tag(re.findall(r'\\w+', review)))) \n",
        "                                ]))\n",
        "        topk = counter.most_common(k)        \n",
        "        #topk_words = [i[0] for i in topk]\n",
        "\n",
        "\n",
        "    #Find out if a particular review has the word from topk list\n",
        "    freqReview = []\n",
        "    for i in range(len(reviews)):\n",
        "        tempCounter = Counter(flatten([word \n",
        "                                       for word \n",
        "                                       in get_terms(chunker.parse(pos_tag(re.findall(r'\\w+',reviews[i]))))]))\n",
        "        topkinReview = [1 if tempCounter[word] > 0 else 0 for (word,wordCount) in topk]\n",
        "        freqReview.append(topkinReview)\n",
        "        \n",
        "        \n",
        "    #Prepare freqReviewDf\n",
        "    freqReviewDf = pd.DataFrame(freqReview)\n",
        "    dfName = []\n",
        "    for c in topk:\n",
        "        dfName.append(c[0])\n",
        "    freqReviewDf.columns = dfName\n",
        "    finalreviewDf = reviewDF.join(freqReviewDf)\n",
        "    finaldf = hotelDf[['hotel_name','rating','sentiment']].join(finalreviewDf)\n",
        "    return topk, finaldf"
      ],
      "execution_count": 0,
      "outputs": []
    },
    {
      "cell_type": "code",
      "metadata": {
        "id": "xUsnKoEMI1K6",
        "colab_type": "code",
        "colab": {}
      },
      "source": [
        "topk_phrase, finaldf_phrase = newDataFrameTransformation('negative', hotel_df, reviewDF, 50)"
      ],
      "execution_count": 0,
      "outputs": []
    },
    {
      "cell_type": "code",
      "metadata": {
        "id": "uUZWPf4XLLvk",
        "colab_type": "code",
        "outputId": "e3f62980-b2fe-4c37-9068-cc3a2f79da24",
        "colab": {
          "base_uri": "https://localhost:8080/",
          "height": 585
        }
      },
      "source": [
        "finaldf_phrase.head()"
      ],
      "execution_count": 0,
      "outputs": [
        {
          "output_type": "execute_result",
          "data": {
            "text/html": [
              "<div>\n",
              "<style scoped>\n",
              "    .dataframe tbody tr th:only-of-type {\n",
              "        vertical-align: middle;\n",
              "    }\n",
              "\n",
              "    .dataframe tbody tr th {\n",
              "        vertical-align: top;\n",
              "    }\n",
              "\n",
              "    .dataframe thead th {\n",
              "        text-align: right;\n",
              "    }\n",
              "</style>\n",
              "<table border=\"1\" class=\"dataframe\">\n",
              "  <thead>\n",
              "    <tr style=\"text-align: right;\">\n",
              "      <th></th>\n",
              "      <th>hotel_name</th>\n",
              "      <th>rating</th>\n",
              "      <th>sentiment</th>\n",
              "      <th>vader_score</th>\n",
              "      <th>review_clean</th>\n",
              "      <th>front desk</th>\n",
              "      <th>custom servic</th>\n",
              "      <th>stay hotel</th>\n",
              "      <th>park lot</th>\n",
              "      <th>next day</th>\n",
              "      <th>embassi suit</th>\n",
              "      <th>credit card</th>\n",
              "      <th>hotel stay</th>\n",
              "      <th>call front desk</th>\n",
              "      <th>night stay</th>\n",
              "      <th>room servic</th>\n",
              "      <th>bottl water</th>\n",
              "      <th>next time</th>\n",
              "      <th>nthe room</th>\n",
              "      <th>walk distanc</th>\n",
              "      <th>good thing</th>\n",
              "      <th>charg park</th>\n",
              "      <th>hotel room</th>\n",
              "      <th>room smell</th>\n",
              "      <th>nthi hotel</th>\n",
              "      <th>great locat</th>\n",
              "      <th>nthe hotel</th>\n",
              "      <th>free park</th>\n",
              "      <th>first day</th>\n",
              "      <th>bad experi</th>\n",
              "      <th>earli check</th>\n",
              "      <th>place stay</th>\n",
              "      <th>good place</th>\n",
              "      <th>good room</th>\n",
              "      <th>bad hotel</th>\n",
              "      <th>air condit</th>\n",
              "      <th>book hotel</th>\n",
              "      <th>star hotel</th>\n",
              "      <th>first night</th>\n",
              "      <th>first time</th>\n",
              "      <th>pool area</th>\n",
              "      <th>speak manag</th>\n",
              "      <th>nthe staff</th>\n",
              "      <th>pay park</th>\n",
              "      <th>front desk peopl</th>\n",
              "      <th>stay locat</th>\n",
              "      <th>room clean</th>\n",
              "      <th>john wayn airport</th>\n",
              "      <th>room door</th>\n",
              "      <th>front desk staff</th>\n",
              "      <th>room hotel</th>\n",
              "      <th>new room</th>\n",
              "      <th>orang counti airport</th>\n",
              "      <th>next door</th>\n",
              "      <th>good locat</th>\n",
              "    </tr>\n",
              "  </thead>\n",
              "  <tbody>\n",
              "    <tr>\n",
              "      <th>0</th>\n",
              "      <td>Homewood Suites by Hilton Irvine John Wayne Ai...</td>\n",
              "      <td>5</td>\n",
              "      <td>positive</td>\n",
              "      <td>0.9796</td>\n",
              "      <td>recommend hotel everyone new hotel clean staff...</td>\n",
              "      <td>0.0</td>\n",
              "      <td>0.0</td>\n",
              "      <td>0.0</td>\n",
              "      <td>0.0</td>\n",
              "      <td>0.0</td>\n",
              "      <td>0.0</td>\n",
              "      <td>0.0</td>\n",
              "      <td>0.0</td>\n",
              "      <td>0.0</td>\n",
              "      <td>0.0</td>\n",
              "      <td>0.0</td>\n",
              "      <td>0.0</td>\n",
              "      <td>0.0</td>\n",
              "      <td>0.0</td>\n",
              "      <td>0.0</td>\n",
              "      <td>0.0</td>\n",
              "      <td>0.0</td>\n",
              "      <td>0.0</td>\n",
              "      <td>0.0</td>\n",
              "      <td>0.0</td>\n",
              "      <td>0.0</td>\n",
              "      <td>0.0</td>\n",
              "      <td>0.0</td>\n",
              "      <td>0.0</td>\n",
              "      <td>0.0</td>\n",
              "      <td>0.0</td>\n",
              "      <td>0.0</td>\n",
              "      <td>0.0</td>\n",
              "      <td>0.0</td>\n",
              "      <td>0.0</td>\n",
              "      <td>0.0</td>\n",
              "      <td>0.0</td>\n",
              "      <td>0.0</td>\n",
              "      <td>0.0</td>\n",
              "      <td>0.0</td>\n",
              "      <td>0.0</td>\n",
              "      <td>0.0</td>\n",
              "      <td>0.0</td>\n",
              "      <td>0.0</td>\n",
              "      <td>0.0</td>\n",
              "      <td>0.0</td>\n",
              "      <td>0.0</td>\n",
              "      <td>0.0</td>\n",
              "      <td>0.0</td>\n",
              "      <td>0.0</td>\n",
              "      <td>0.0</td>\n",
              "      <td>0.0</td>\n",
              "      <td>0.0</td>\n",
              "      <td>0.0</td>\n",
              "      <td>0.0</td>\n",
              "    </tr>\n",
              "    <tr>\n",
              "      <th>1</th>\n",
              "      <td>Homewood Suites by Hilton Irvine John Wayne Ai...</td>\n",
              "      <td>4</td>\n",
              "      <td>positive</td>\n",
              "      <td>0.4543</td>\n",
              "      <td>brand new well design hotel like everything ho...</td>\n",
              "      <td>0.0</td>\n",
              "      <td>0.0</td>\n",
              "      <td>0.0</td>\n",
              "      <td>0.0</td>\n",
              "      <td>0.0</td>\n",
              "      <td>0.0</td>\n",
              "      <td>0.0</td>\n",
              "      <td>0.0</td>\n",
              "      <td>0.0</td>\n",
              "      <td>0.0</td>\n",
              "      <td>0.0</td>\n",
              "      <td>0.0</td>\n",
              "      <td>0.0</td>\n",
              "      <td>0.0</td>\n",
              "      <td>0.0</td>\n",
              "      <td>0.0</td>\n",
              "      <td>0.0</td>\n",
              "      <td>0.0</td>\n",
              "      <td>0.0</td>\n",
              "      <td>0.0</td>\n",
              "      <td>0.0</td>\n",
              "      <td>0.0</td>\n",
              "      <td>0.0</td>\n",
              "      <td>0.0</td>\n",
              "      <td>0.0</td>\n",
              "      <td>0.0</td>\n",
              "      <td>0.0</td>\n",
              "      <td>0.0</td>\n",
              "      <td>0.0</td>\n",
              "      <td>0.0</td>\n",
              "      <td>0.0</td>\n",
              "      <td>0.0</td>\n",
              "      <td>0.0</td>\n",
              "      <td>0.0</td>\n",
              "      <td>0.0</td>\n",
              "      <td>0.0</td>\n",
              "      <td>0.0</td>\n",
              "      <td>0.0</td>\n",
              "      <td>0.0</td>\n",
              "      <td>0.0</td>\n",
              "      <td>0.0</td>\n",
              "      <td>0.0</td>\n",
              "      <td>0.0</td>\n",
              "      <td>0.0</td>\n",
              "      <td>0.0</td>\n",
              "      <td>0.0</td>\n",
              "      <td>0.0</td>\n",
              "      <td>0.0</td>\n",
              "      <td>0.0</td>\n",
              "      <td>0.0</td>\n",
              "    </tr>\n",
              "    <tr>\n",
              "      <th>2</th>\n",
              "      <td>Homewood Suites by Hilton Irvine John Wayne Ai...</td>\n",
              "      <td>4</td>\n",
              "      <td>positive</td>\n",
              "      <td>0.9585</td>\n",
              "      <td>stay start little rough adult child book one l...</td>\n",
              "      <td>0.0</td>\n",
              "      <td>0.0</td>\n",
              "      <td>0.0</td>\n",
              "      <td>0.0</td>\n",
              "      <td>0.0</td>\n",
              "      <td>0.0</td>\n",
              "      <td>0.0</td>\n",
              "      <td>0.0</td>\n",
              "      <td>0.0</td>\n",
              "      <td>0.0</td>\n",
              "      <td>0.0</td>\n",
              "      <td>1.0</td>\n",
              "      <td>0.0</td>\n",
              "      <td>0.0</td>\n",
              "      <td>0.0</td>\n",
              "      <td>0.0</td>\n",
              "      <td>0.0</td>\n",
              "      <td>0.0</td>\n",
              "      <td>0.0</td>\n",
              "      <td>0.0</td>\n",
              "      <td>0.0</td>\n",
              "      <td>0.0</td>\n",
              "      <td>0.0</td>\n",
              "      <td>0.0</td>\n",
              "      <td>0.0</td>\n",
              "      <td>0.0</td>\n",
              "      <td>0.0</td>\n",
              "      <td>0.0</td>\n",
              "      <td>0.0</td>\n",
              "      <td>0.0</td>\n",
              "      <td>0.0</td>\n",
              "      <td>0.0</td>\n",
              "      <td>0.0</td>\n",
              "      <td>0.0</td>\n",
              "      <td>0.0</td>\n",
              "      <td>0.0</td>\n",
              "      <td>0.0</td>\n",
              "      <td>0.0</td>\n",
              "      <td>0.0</td>\n",
              "      <td>0.0</td>\n",
              "      <td>0.0</td>\n",
              "      <td>0.0</td>\n",
              "      <td>0.0</td>\n",
              "      <td>0.0</td>\n",
              "      <td>0.0</td>\n",
              "      <td>0.0</td>\n",
              "      <td>0.0</td>\n",
              "      <td>0.0</td>\n",
              "      <td>0.0</td>\n",
              "      <td>0.0</td>\n",
              "    </tr>\n",
              "    <tr>\n",
              "      <th>3</th>\n",
              "      <td>Homewood Suites by Hilton Irvine John Wayne Ai...</td>\n",
              "      <td>5</td>\n",
              "      <td>positive</td>\n",
              "      <td>0.9571</td>\n",
              "      <td>select hotel base upon passed positive experie...</td>\n",
              "      <td>0.0</td>\n",
              "      <td>0.0</td>\n",
              "      <td>0.0</td>\n",
              "      <td>0.0</td>\n",
              "      <td>0.0</td>\n",
              "      <td>0.0</td>\n",
              "      <td>0.0</td>\n",
              "      <td>0.0</td>\n",
              "      <td>0.0</td>\n",
              "      <td>0.0</td>\n",
              "      <td>0.0</td>\n",
              "      <td>0.0</td>\n",
              "      <td>0.0</td>\n",
              "      <td>0.0</td>\n",
              "      <td>0.0</td>\n",
              "      <td>0.0</td>\n",
              "      <td>0.0</td>\n",
              "      <td>0.0</td>\n",
              "      <td>0.0</td>\n",
              "      <td>0.0</td>\n",
              "      <td>0.0</td>\n",
              "      <td>0.0</td>\n",
              "      <td>0.0</td>\n",
              "      <td>0.0</td>\n",
              "      <td>0.0</td>\n",
              "      <td>0.0</td>\n",
              "      <td>0.0</td>\n",
              "      <td>0.0</td>\n",
              "      <td>0.0</td>\n",
              "      <td>0.0</td>\n",
              "      <td>0.0</td>\n",
              "      <td>0.0</td>\n",
              "      <td>0.0</td>\n",
              "      <td>0.0</td>\n",
              "      <td>0.0</td>\n",
              "      <td>0.0</td>\n",
              "      <td>0.0</td>\n",
              "      <td>0.0</td>\n",
              "      <td>0.0</td>\n",
              "      <td>0.0</td>\n",
              "      <td>0.0</td>\n",
              "      <td>0.0</td>\n",
              "      <td>0.0</td>\n",
              "      <td>0.0</td>\n",
              "      <td>0.0</td>\n",
              "      <td>0.0</td>\n",
              "      <td>0.0</td>\n",
              "      <td>0.0</td>\n",
              "      <td>0.0</td>\n",
              "      <td>0.0</td>\n",
              "    </tr>\n",
              "    <tr>\n",
              "      <th>4</th>\n",
              "      <td>Homewood Suites by Hilton Irvine John Wayne Ai...</td>\n",
              "      <td>5</td>\n",
              "      <td>positive</td>\n",
              "      <td>0.9509</td>\n",
              "      <td>hopefully opportunity visit near future suite ...</td>\n",
              "      <td>0.0</td>\n",
              "      <td>0.0</td>\n",
              "      <td>0.0</td>\n",
              "      <td>0.0</td>\n",
              "      <td>0.0</td>\n",
              "      <td>0.0</td>\n",
              "      <td>0.0</td>\n",
              "      <td>0.0</td>\n",
              "      <td>0.0</td>\n",
              "      <td>0.0</td>\n",
              "      <td>0.0</td>\n",
              "      <td>0.0</td>\n",
              "      <td>0.0</td>\n",
              "      <td>0.0</td>\n",
              "      <td>0.0</td>\n",
              "      <td>0.0</td>\n",
              "      <td>0.0</td>\n",
              "      <td>0.0</td>\n",
              "      <td>0.0</td>\n",
              "      <td>0.0</td>\n",
              "      <td>0.0</td>\n",
              "      <td>0.0</td>\n",
              "      <td>0.0</td>\n",
              "      <td>0.0</td>\n",
              "      <td>0.0</td>\n",
              "      <td>0.0</td>\n",
              "      <td>0.0</td>\n",
              "      <td>0.0</td>\n",
              "      <td>0.0</td>\n",
              "      <td>0.0</td>\n",
              "      <td>0.0</td>\n",
              "      <td>0.0</td>\n",
              "      <td>0.0</td>\n",
              "      <td>0.0</td>\n",
              "      <td>0.0</td>\n",
              "      <td>0.0</td>\n",
              "      <td>0.0</td>\n",
              "      <td>0.0</td>\n",
              "      <td>0.0</td>\n",
              "      <td>0.0</td>\n",
              "      <td>0.0</td>\n",
              "      <td>0.0</td>\n",
              "      <td>0.0</td>\n",
              "      <td>0.0</td>\n",
              "      <td>0.0</td>\n",
              "      <td>0.0</td>\n",
              "      <td>0.0</td>\n",
              "      <td>0.0</td>\n",
              "      <td>0.0</td>\n",
              "      <td>0.0</td>\n",
              "    </tr>\n",
              "  </tbody>\n",
              "</table>\n",
              "</div>"
            ],
            "text/plain": [
              "                                          hotel_name  ...  good locat\n",
              "0  Homewood Suites by Hilton Irvine John Wayne Ai...  ...         0.0\n",
              "1  Homewood Suites by Hilton Irvine John Wayne Ai...  ...         0.0\n",
              "2  Homewood Suites by Hilton Irvine John Wayne Ai...  ...         0.0\n",
              "3  Homewood Suites by Hilton Irvine John Wayne Ai...  ...         0.0\n",
              "4  Homewood Suites by Hilton Irvine John Wayne Ai...  ...         0.0\n",
              "\n",
              "[5 rows x 55 columns]"
            ]
          },
          "metadata": {
            "tags": []
          },
          "execution_count": 46
        }
      ]
    },
    {
      "cell_type": "code",
      "metadata": {
        "id": "VNYFAJRwOVhF",
        "colab_type": "code",
        "outputId": "8e37add4-38bf-4782-8874-f6ff04e60363",
        "colab": {
          "base_uri": "https://localhost:8080/",
          "height": 857
        }
      },
      "source": [
        "topk_phrase"
      ],
      "execution_count": 0,
      "outputs": [
        {
          "output_type": "execute_result",
          "data": {
            "text/plain": [
              "[('front desk', 37),\n",
              " ('custom servic', 18),\n",
              " ('stay hotel', 14),\n",
              " ('park lot', 14),\n",
              " ('next day', 10),\n",
              " ('embassi suit', 10),\n",
              " ('credit card', 10),\n",
              " ('hotel stay', 8),\n",
              " ('call front desk', 8),\n",
              " ('night stay', 8),\n",
              " ('room servic', 8),\n",
              " ('bottl water', 7),\n",
              " ('next time', 7),\n",
              " ('nthe room', 6),\n",
              " ('walk distanc', 6),\n",
              " ('good thing', 6),\n",
              " ('charg park', 6),\n",
              " ('hotel room', 6),\n",
              " ('room smell', 6),\n",
              " ('nthi hotel', 6),\n",
              " ('great locat', 5),\n",
              " ('nthe hotel', 5),\n",
              " ('free park', 5),\n",
              " ('first day', 5),\n",
              " ('bad experi', 5),\n",
              " ('earli check', 5),\n",
              " ('place stay', 5),\n",
              " ('good place', 5),\n",
              " ('good room', 5),\n",
              " ('bad hotel', 5),\n",
              " ('air condit', 5),\n",
              " ('book hotel', 5),\n",
              " ('star hotel', 5),\n",
              " ('first night', 5),\n",
              " ('first time', 5),\n",
              " ('pool area', 4),\n",
              " ('speak manag', 4),\n",
              " ('nthe staff', 4),\n",
              " ('pay park', 4),\n",
              " ('front desk peopl', 4),\n",
              " ('stay locat', 4),\n",
              " ('room clean', 4),\n",
              " ('john wayn airport', 4),\n",
              " ('room door', 4),\n",
              " ('front desk staff', 4),\n",
              " ('room hotel', 4),\n",
              " ('new room', 4),\n",
              " ('orang counti airport', 4),\n",
              " ('next door', 4),\n",
              " ('good locat', 4)]"
            ]
          },
          "metadata": {
            "tags": []
          },
          "execution_count": 47
        }
      ]
    },
    {
      "cell_type": "code",
      "metadata": {
        "id": "xq7dVcZLL8pK",
        "colab_type": "code",
        "colab": {}
      },
      "source": [
        "topk_phrase, finaldf_phrase = newDataFrameTransformation('positive', hotel_df, reviewDF, 50)"
      ],
      "execution_count": 0,
      "outputs": []
    },
    {
      "cell_type": "code",
      "metadata": {
        "id": "NTEmRyzHMHWk",
        "colab_type": "code",
        "outputId": "494c6ad1-d410-4f9f-d78b-080cc22fd15e",
        "colab": {
          "base_uri": "https://localhost:8080/",
          "height": 585
        }
      },
      "source": [
        "finaldf_phrase.head()"
      ],
      "execution_count": 0,
      "outputs": [
        {
          "output_type": "execute_result",
          "data": {
            "text/html": [
              "<div>\n",
              "<style scoped>\n",
              "    .dataframe tbody tr th:only-of-type {\n",
              "        vertical-align: middle;\n",
              "    }\n",
              "\n",
              "    .dataframe tbody tr th {\n",
              "        vertical-align: top;\n",
              "    }\n",
              "\n",
              "    .dataframe thead th {\n",
              "        text-align: right;\n",
              "    }\n",
              "</style>\n",
              "<table border=\"1\" class=\"dataframe\">\n",
              "  <thead>\n",
              "    <tr style=\"text-align: right;\">\n",
              "      <th></th>\n",
              "      <th>hotel_name</th>\n",
              "      <th>rating</th>\n",
              "      <th>sentiment</th>\n",
              "      <th>vader_score</th>\n",
              "      <th>review_clean</th>\n",
              "      <th>stay hotel</th>\n",
              "      <th>front desk</th>\n",
              "      <th>john wayn airport</th>\n",
              "      <th>nthe room</th>\n",
              "      <th>walk distanc</th>\n",
              "      <th>recommend hotel</th>\n",
              "      <th>orang counti</th>\n",
              "      <th>next time</th>\n",
              "      <th>nice hotel</th>\n",
              "      <th>great locat</th>\n",
              "      <th>nthe hotel</th>\n",
              "      <th>free breakfast</th>\n",
              "      <th>great place</th>\n",
              "      <th>hotel staff</th>\n",
              "      <th>night stay</th>\n",
              "      <th>first time</th>\n",
              "      <th>great place stay</th>\n",
              "      <th>great hotel</th>\n",
              "      <th>way help</th>\n",
              "      <th>front desk staff</th>\n",
              "      <th>custom servic</th>\n",
              "      <th>close airport</th>\n",
              "      <th>great experi</th>\n",
              "      <th>hotel stay</th>\n",
              "      <th>great staff</th>\n",
              "      <th>stay area</th>\n",
              "      <th>hotel irvin</th>\n",
              "      <th>good valu</th>\n",
              "      <th>earli check</th>\n",
              "      <th>hotel area</th>\n",
              "      <th>nthe staff</th>\n",
              "      <th>feel home</th>\n",
              "      <th>mani time</th>\n",
              "      <th>great job</th>\n",
              "      <th>room clean</th>\n",
              "      <th>pool area</th>\n",
              "      <th>hotel room</th>\n",
              "      <th>place stay</th>\n",
              "      <th>busi trip</th>\n",
              "      <th>second time</th>\n",
              "      <th>great stay</th>\n",
              "      <th>friendli staff</th>\n",
              "      <th>book hotel</th>\n",
              "      <th>extra mile</th>\n",
              "      <th>stay night</th>\n",
              "      <th>clean room</th>\n",
              "      <th>park lot</th>\n",
              "      <th>pleasant stay</th>\n",
              "      <th>free shuttl</th>\n",
              "      <th>great servic</th>\n",
              "    </tr>\n",
              "  </thead>\n",
              "  <tbody>\n",
              "    <tr>\n",
              "      <th>0</th>\n",
              "      <td>Homewood Suites by Hilton Irvine John Wayne Ai...</td>\n",
              "      <td>5</td>\n",
              "      <td>positive</td>\n",
              "      <td>0.9796</td>\n",
              "      <td>recommend hotel everyone new hotel clean staff...</td>\n",
              "      <td>0.0</td>\n",
              "      <td>0.0</td>\n",
              "      <td>0.0</td>\n",
              "      <td>0.0</td>\n",
              "      <td>0.0</td>\n",
              "      <td>0.0</td>\n",
              "      <td>0.0</td>\n",
              "      <td>0.0</td>\n",
              "      <td>0.0</td>\n",
              "      <td>0.0</td>\n",
              "      <td>0.0</td>\n",
              "      <td>0.0</td>\n",
              "      <td>0.0</td>\n",
              "      <td>0.0</td>\n",
              "      <td>0.0</td>\n",
              "      <td>0.0</td>\n",
              "      <td>0.0</td>\n",
              "      <td>0.0</td>\n",
              "      <td>0.0</td>\n",
              "      <td>0.0</td>\n",
              "      <td>0.0</td>\n",
              "      <td>0.0</td>\n",
              "      <td>0.0</td>\n",
              "      <td>0.0</td>\n",
              "      <td>0.0</td>\n",
              "      <td>0.0</td>\n",
              "      <td>0.0</td>\n",
              "      <td>0.0</td>\n",
              "      <td>0.0</td>\n",
              "      <td>0.0</td>\n",
              "      <td>0.0</td>\n",
              "      <td>0.0</td>\n",
              "      <td>0.0</td>\n",
              "      <td>0.0</td>\n",
              "      <td>0.0</td>\n",
              "      <td>0.0</td>\n",
              "      <td>0.0</td>\n",
              "      <td>0.0</td>\n",
              "      <td>0.0</td>\n",
              "      <td>0.0</td>\n",
              "      <td>0.0</td>\n",
              "      <td>0.0</td>\n",
              "      <td>0.0</td>\n",
              "      <td>0.0</td>\n",
              "      <td>0.0</td>\n",
              "      <td>0.0</td>\n",
              "      <td>0.0</td>\n",
              "      <td>0.0</td>\n",
              "      <td>0.0</td>\n",
              "      <td>0.0</td>\n",
              "    </tr>\n",
              "    <tr>\n",
              "      <th>1</th>\n",
              "      <td>Homewood Suites by Hilton Irvine John Wayne Ai...</td>\n",
              "      <td>4</td>\n",
              "      <td>positive</td>\n",
              "      <td>0.4543</td>\n",
              "      <td>brand new well design hotel like everything ho...</td>\n",
              "      <td>0.0</td>\n",
              "      <td>0.0</td>\n",
              "      <td>0.0</td>\n",
              "      <td>0.0</td>\n",
              "      <td>0.0</td>\n",
              "      <td>0.0</td>\n",
              "      <td>0.0</td>\n",
              "      <td>0.0</td>\n",
              "      <td>0.0</td>\n",
              "      <td>0.0</td>\n",
              "      <td>0.0</td>\n",
              "      <td>0.0</td>\n",
              "      <td>0.0</td>\n",
              "      <td>0.0</td>\n",
              "      <td>0.0</td>\n",
              "      <td>0.0</td>\n",
              "      <td>0.0</td>\n",
              "      <td>0.0</td>\n",
              "      <td>0.0</td>\n",
              "      <td>0.0</td>\n",
              "      <td>0.0</td>\n",
              "      <td>0.0</td>\n",
              "      <td>0.0</td>\n",
              "      <td>0.0</td>\n",
              "      <td>0.0</td>\n",
              "      <td>0.0</td>\n",
              "      <td>0.0</td>\n",
              "      <td>0.0</td>\n",
              "      <td>0.0</td>\n",
              "      <td>0.0</td>\n",
              "      <td>0.0</td>\n",
              "      <td>0.0</td>\n",
              "      <td>0.0</td>\n",
              "      <td>0.0</td>\n",
              "      <td>0.0</td>\n",
              "      <td>0.0</td>\n",
              "      <td>0.0</td>\n",
              "      <td>0.0</td>\n",
              "      <td>0.0</td>\n",
              "      <td>0.0</td>\n",
              "      <td>0.0</td>\n",
              "      <td>0.0</td>\n",
              "      <td>0.0</td>\n",
              "      <td>0.0</td>\n",
              "      <td>0.0</td>\n",
              "      <td>0.0</td>\n",
              "      <td>0.0</td>\n",
              "      <td>0.0</td>\n",
              "      <td>0.0</td>\n",
              "      <td>0.0</td>\n",
              "    </tr>\n",
              "    <tr>\n",
              "      <th>2</th>\n",
              "      <td>Homewood Suites by Hilton Irvine John Wayne Ai...</td>\n",
              "      <td>4</td>\n",
              "      <td>positive</td>\n",
              "      <td>0.9585</td>\n",
              "      <td>stay start little rough adult child book one l...</td>\n",
              "      <td>0.0</td>\n",
              "      <td>0.0</td>\n",
              "      <td>0.0</td>\n",
              "      <td>0.0</td>\n",
              "      <td>0.0</td>\n",
              "      <td>1.0</td>\n",
              "      <td>0.0</td>\n",
              "      <td>0.0</td>\n",
              "      <td>0.0</td>\n",
              "      <td>0.0</td>\n",
              "      <td>0.0</td>\n",
              "      <td>0.0</td>\n",
              "      <td>0.0</td>\n",
              "      <td>0.0</td>\n",
              "      <td>0.0</td>\n",
              "      <td>0.0</td>\n",
              "      <td>0.0</td>\n",
              "      <td>0.0</td>\n",
              "      <td>0.0</td>\n",
              "      <td>0.0</td>\n",
              "      <td>0.0</td>\n",
              "      <td>0.0</td>\n",
              "      <td>0.0</td>\n",
              "      <td>0.0</td>\n",
              "      <td>0.0</td>\n",
              "      <td>0.0</td>\n",
              "      <td>0.0</td>\n",
              "      <td>0.0</td>\n",
              "      <td>0.0</td>\n",
              "      <td>0.0</td>\n",
              "      <td>0.0</td>\n",
              "      <td>0.0</td>\n",
              "      <td>0.0</td>\n",
              "      <td>0.0</td>\n",
              "      <td>0.0</td>\n",
              "      <td>0.0</td>\n",
              "      <td>0.0</td>\n",
              "      <td>0.0</td>\n",
              "      <td>0.0</td>\n",
              "      <td>0.0</td>\n",
              "      <td>0.0</td>\n",
              "      <td>0.0</td>\n",
              "      <td>0.0</td>\n",
              "      <td>0.0</td>\n",
              "      <td>0.0</td>\n",
              "      <td>0.0</td>\n",
              "      <td>0.0</td>\n",
              "      <td>0.0</td>\n",
              "      <td>0.0</td>\n",
              "      <td>0.0</td>\n",
              "    </tr>\n",
              "    <tr>\n",
              "      <th>3</th>\n",
              "      <td>Homewood Suites by Hilton Irvine John Wayne Ai...</td>\n",
              "      <td>5</td>\n",
              "      <td>positive</td>\n",
              "      <td>0.9571</td>\n",
              "      <td>select hotel base upon passed positive experie...</td>\n",
              "      <td>0.0</td>\n",
              "      <td>0.0</td>\n",
              "      <td>0.0</td>\n",
              "      <td>0.0</td>\n",
              "      <td>0.0</td>\n",
              "      <td>0.0</td>\n",
              "      <td>0.0</td>\n",
              "      <td>0.0</td>\n",
              "      <td>0.0</td>\n",
              "      <td>0.0</td>\n",
              "      <td>0.0</td>\n",
              "      <td>0.0</td>\n",
              "      <td>0.0</td>\n",
              "      <td>0.0</td>\n",
              "      <td>0.0</td>\n",
              "      <td>0.0</td>\n",
              "      <td>0.0</td>\n",
              "      <td>0.0</td>\n",
              "      <td>0.0</td>\n",
              "      <td>0.0</td>\n",
              "      <td>0.0</td>\n",
              "      <td>0.0</td>\n",
              "      <td>0.0</td>\n",
              "      <td>0.0</td>\n",
              "      <td>0.0</td>\n",
              "      <td>0.0</td>\n",
              "      <td>0.0</td>\n",
              "      <td>0.0</td>\n",
              "      <td>0.0</td>\n",
              "      <td>0.0</td>\n",
              "      <td>0.0</td>\n",
              "      <td>0.0</td>\n",
              "      <td>0.0</td>\n",
              "      <td>0.0</td>\n",
              "      <td>0.0</td>\n",
              "      <td>0.0</td>\n",
              "      <td>0.0</td>\n",
              "      <td>0.0</td>\n",
              "      <td>0.0</td>\n",
              "      <td>0.0</td>\n",
              "      <td>0.0</td>\n",
              "      <td>0.0</td>\n",
              "      <td>0.0</td>\n",
              "      <td>0.0</td>\n",
              "      <td>0.0</td>\n",
              "      <td>0.0</td>\n",
              "      <td>0.0</td>\n",
              "      <td>0.0</td>\n",
              "      <td>0.0</td>\n",
              "      <td>0.0</td>\n",
              "    </tr>\n",
              "    <tr>\n",
              "      <th>4</th>\n",
              "      <td>Homewood Suites by Hilton Irvine John Wayne Ai...</td>\n",
              "      <td>5</td>\n",
              "      <td>positive</td>\n",
              "      <td>0.9509</td>\n",
              "      <td>hopefully opportunity visit near future suite ...</td>\n",
              "      <td>0.0</td>\n",
              "      <td>0.0</td>\n",
              "      <td>0.0</td>\n",
              "      <td>0.0</td>\n",
              "      <td>0.0</td>\n",
              "      <td>0.0</td>\n",
              "      <td>0.0</td>\n",
              "      <td>0.0</td>\n",
              "      <td>0.0</td>\n",
              "      <td>0.0</td>\n",
              "      <td>0.0</td>\n",
              "      <td>0.0</td>\n",
              "      <td>0.0</td>\n",
              "      <td>0.0</td>\n",
              "      <td>0.0</td>\n",
              "      <td>0.0</td>\n",
              "      <td>0.0</td>\n",
              "      <td>0.0</td>\n",
              "      <td>0.0</td>\n",
              "      <td>0.0</td>\n",
              "      <td>0.0</td>\n",
              "      <td>0.0</td>\n",
              "      <td>0.0</td>\n",
              "      <td>0.0</td>\n",
              "      <td>0.0</td>\n",
              "      <td>0.0</td>\n",
              "      <td>0.0</td>\n",
              "      <td>0.0</td>\n",
              "      <td>0.0</td>\n",
              "      <td>0.0</td>\n",
              "      <td>0.0</td>\n",
              "      <td>0.0</td>\n",
              "      <td>0.0</td>\n",
              "      <td>0.0</td>\n",
              "      <td>0.0</td>\n",
              "      <td>0.0</td>\n",
              "      <td>0.0</td>\n",
              "      <td>0.0</td>\n",
              "      <td>0.0</td>\n",
              "      <td>0.0</td>\n",
              "      <td>0.0</td>\n",
              "      <td>0.0</td>\n",
              "      <td>0.0</td>\n",
              "      <td>0.0</td>\n",
              "      <td>0.0</td>\n",
              "      <td>0.0</td>\n",
              "      <td>0.0</td>\n",
              "      <td>0.0</td>\n",
              "      <td>0.0</td>\n",
              "      <td>0.0</td>\n",
              "    </tr>\n",
              "  </tbody>\n",
              "</table>\n",
              "</div>"
            ],
            "text/plain": [
              "                                          hotel_name  ...  great servic\n",
              "0  Homewood Suites by Hilton Irvine John Wayne Ai...  ...           0.0\n",
              "1  Homewood Suites by Hilton Irvine John Wayne Ai...  ...           0.0\n",
              "2  Homewood Suites by Hilton Irvine John Wayne Ai...  ...           0.0\n",
              "3  Homewood Suites by Hilton Irvine John Wayne Ai...  ...           0.0\n",
              "4  Homewood Suites by Hilton Irvine John Wayne Ai...  ...           0.0\n",
              "\n",
              "[5 rows x 55 columns]"
            ]
          },
          "metadata": {
            "tags": []
          },
          "execution_count": 49
        }
      ]
    },
    {
      "cell_type": "code",
      "metadata": {
        "id": "ht5fMQ9kN8yN",
        "colab_type": "code",
        "outputId": "a44b43d2-04f7-424e-9e49-3f9604ca18be",
        "colab": {
          "base_uri": "https://localhost:8080/",
          "height": 857
        }
      },
      "source": [
        "topk_phrase"
      ],
      "execution_count": 0,
      "outputs": [
        {
          "output_type": "execute_result",
          "data": {
            "text/plain": [
              "[('stay hotel', 41),\n",
              " ('front desk', 33),\n",
              " ('john wayn airport', 31),\n",
              " ('nthe room', 28),\n",
              " ('walk distanc', 25),\n",
              " ('recommend hotel', 24),\n",
              " ('orang counti', 23),\n",
              " ('next time', 22),\n",
              " ('nice hotel', 21),\n",
              " ('great locat', 21),\n",
              " ('nthe hotel', 20),\n",
              " ('free breakfast', 19),\n",
              " ('great place', 17),\n",
              " ('hotel staff', 17),\n",
              " ('night stay', 16),\n",
              " ('first time', 16),\n",
              " ('great place stay', 16),\n",
              " ('great hotel', 14),\n",
              " ('way help', 14),\n",
              " ('front desk staff', 14),\n",
              " ('custom servic', 13),\n",
              " ('close airport', 12),\n",
              " ('great experi', 12),\n",
              " ('hotel stay', 12),\n",
              " ('great staff', 12),\n",
              " ('stay area', 12),\n",
              " ('hotel irvin', 12),\n",
              " ('good valu', 12),\n",
              " ('earli check', 12),\n",
              " ('hotel area', 11),\n",
              " ('nthe staff', 11),\n",
              " ('feel home', 11),\n",
              " ('mani time', 11),\n",
              " ('great job', 11),\n",
              " ('room clean', 11),\n",
              " ('pool area', 10),\n",
              " ('hotel room', 10),\n",
              " ('place stay', 10),\n",
              " ('busi trip', 10),\n",
              " ('second time', 10),\n",
              " ('great stay', 10),\n",
              " ('friendli staff', 10),\n",
              " ('book hotel', 9),\n",
              " ('extra mile', 9),\n",
              " ('stay night', 9),\n",
              " ('clean room', 9),\n",
              " ('park lot', 9),\n",
              " ('pleasant stay', 9),\n",
              " ('free shuttl', 9),\n",
              " ('great servic', 9)]"
            ]
          },
          "metadata": {
            "tags": []
          },
          "execution_count": 50
        }
      ]
    },
    {
      "cell_type": "markdown",
      "metadata": {
        "id": "yfnFAWYUXCdb",
        "colab_type": "text"
      },
      "source": [
        "# Q3. Mutual Information"
      ]
    },
    {
      "cell_type": "markdown",
      "metadata": {
        "id": "L_gd4PqrXHxS",
        "colab_type": "text"
      },
      "source": [
        "#### **(a) Use mutual information (MI) with ground truth sentiment to rank the top-50 most sentiment- bearing non-stopwords in the review collection. Do you note anything interesting and/or locale-specific about these top-ranked words?**\n"
      ]
    },
    {
      "cell_type": "code",
      "metadata": {
        "id": "KMzSHO75nfv-",
        "colab_type": "code",
        "outputId": "cd52e7fc-6e4e-4db0-ae99-afc121db7587",
        "colab": {
          "base_uri": "https://localhost:8080/",
          "height": 195
        }
      },
      "source": [
        "reviewDF.head()"
      ],
      "execution_count": 0,
      "outputs": [
        {
          "output_type": "execute_result",
          "data": {
            "text/html": [
              "<div>\n",
              "<style scoped>\n",
              "    .dataframe tbody tr th:only-of-type {\n",
              "        vertical-align: middle;\n",
              "    }\n",
              "\n",
              "    .dataframe tbody tr th {\n",
              "        vertical-align: top;\n",
              "    }\n",
              "\n",
              "    .dataframe thead th {\n",
              "        text-align: right;\n",
              "    }\n",
              "</style>\n",
              "<table border=\"1\" class=\"dataframe\">\n",
              "  <thead>\n",
              "    <tr style=\"text-align: right;\">\n",
              "      <th></th>\n",
              "      <th>vader_score</th>\n",
              "      <th>review_clean</th>\n",
              "    </tr>\n",
              "  </thead>\n",
              "  <tbody>\n",
              "    <tr>\n",
              "      <th>0</th>\n",
              "      <td>0.9796</td>\n",
              "      <td>recommend hotel everyone new hotel clean staff...</td>\n",
              "    </tr>\n",
              "    <tr>\n",
              "      <th>1</th>\n",
              "      <td>0.4543</td>\n",
              "      <td>brand new well design hotel like everything ho...</td>\n",
              "    </tr>\n",
              "    <tr>\n",
              "      <th>2</th>\n",
              "      <td>0.9585</td>\n",
              "      <td>stay start little rough adult child book one l...</td>\n",
              "    </tr>\n",
              "    <tr>\n",
              "      <th>3</th>\n",
              "      <td>0.9571</td>\n",
              "      <td>select hotel base upon passed positive experie...</td>\n",
              "    </tr>\n",
              "    <tr>\n",
              "      <th>4</th>\n",
              "      <td>0.9509</td>\n",
              "      <td>hopefully opportunity visit near future suite ...</td>\n",
              "    </tr>\n",
              "  </tbody>\n",
              "</table>\n",
              "</div>"
            ],
            "text/plain": [
              "   vader_score                                       review_clean\n",
              "0       0.9796  recommend hotel everyone new hotel clean staff...\n",
              "1       0.4543  brand new well design hotel like everything ho...\n",
              "2       0.9585  stay start little rough adult child book one l...\n",
              "3       0.9571  select hotel base upon passed positive experie...\n",
              "4       0.9509  hopefully opportunity visit near future suite ..."
            ]
          },
          "metadata": {
            "tags": []
          },
          "execution_count": 51
        }
      ]
    },
    {
      "cell_type": "code",
      "metadata": {
        "id": "_jabO5fumVzQ",
        "colab_type": "code",
        "colab": {}
      },
      "source": [
        "# Note: You may want to use an NLTK tokenizer instead of a regular expression in the following\n",
        "def MIdataFrameTransformation(hotelDf, reviewDF, k=50):\n",
        "    reviews = reviewDF['review_clean'].values\n",
        "\n",
        "    # Top-k frequent terms\n",
        "    counter = Counter()\n",
        "    for review in reviews:\n",
        "            counter.update(word.lower() \n",
        "                            for word \n",
        "                            in re.findall(r'\\w+', review) \n",
        "                            )\n",
        "    topk = counter.most_common(k)        \n",
        "    \n",
        "    #Find out if a particular review has the word from topk list\n",
        "    freqReview = []\n",
        "    for i in range(len(reviews)):\n",
        "        tempCounter = Counter([word.lower() for word in re.findall(r'\\w+',reviews[i])])\n",
        "        topkinReview = [1 if tempCounter[word] > 0 else 0 for (word,wordCount) in topk]\n",
        "        freqReview.append(topkinReview)\n",
        "        \n",
        "        \n",
        "    #Prepare freqReviewDf\n",
        "    freqReviewDf = pd.DataFrame(freqReview)\n",
        "    dfName = []\n",
        "    for c in topk:\n",
        "        dfName.append(c[0])\n",
        "    freqReviewDf.columns = dfName\n",
        "    finalreviewDf = reviewDF.join(freqReviewDf)\n",
        "    finaldf = hotelDf[['hotel_name','rating','sentiment']].join(finalreviewDf)\n",
        "    return topk, finaldf"
      ],
      "execution_count": 0,
      "outputs": []
    },
    {
      "cell_type": "code",
      "metadata": {
        "id": "bA9WMYEjmen6",
        "colab_type": "code",
        "colab": {}
      },
      "source": [
        "topk, finaldf = MIdataFrameTransformation(hotel_df, reviewDF, k=50)"
      ],
      "execution_count": 0,
      "outputs": []
    },
    {
      "cell_type": "code",
      "metadata": {
        "id": "vY9EdxePOM9h",
        "colab_type": "code",
        "colab": {}
      },
      "source": [
        "# get Top K mutual information terms from the dataframe\n",
        "def getMI(topk, finaldf, label_column='sentiment'):\n",
        "    miScore = []\n",
        "    for word in topk:\n",
        "        miScore.append([word[0]]+[metrics.mutual_info_score(finaldf[label_column], finaldf[word[0]])])\n",
        "    miScoredf = pd.DataFrame(miScore).sort_values(1,ascending=0)\n",
        "    miScoredf.columns = ['Word','MI Score']\n",
        "    return miScoredf"
      ],
      "execution_count": 0,
      "outputs": []
    },
    {
      "cell_type": "code",
      "metadata": {
        "id": "hEnlUFv5Tlt6",
        "colab_type": "code",
        "colab": {}
      },
      "source": [
        "miScoredf = getMI(topk, finaldf)"
      ],
      "execution_count": 0,
      "outputs": []
    },
    {
      "cell_type": "code",
      "metadata": {
        "id": "r5cbN8KETln5",
        "colab_type": "code",
        "outputId": "ce93bd44-51aa-4146-d7b9-a6a79ae46c63",
        "colab": {
          "base_uri": "https://localhost:8080/",
          "height": 195
        }
      },
      "source": [
        "miScoredf.head()\n",
        "#not sufficient. does not show pos or neg"
      ],
      "execution_count": 0,
      "outputs": [
        {
          "output_type": "execute_result",
          "data": {
            "text/html": [
              "<div>\n",
              "<style scoped>\n",
              "    .dataframe tbody tr th:only-of-type {\n",
              "        vertical-align: middle;\n",
              "    }\n",
              "\n",
              "    .dataframe tbody tr th {\n",
              "        vertical-align: top;\n",
              "    }\n",
              "\n",
              "    .dataframe thead th {\n",
              "        text-align: right;\n",
              "    }\n",
              "</style>\n",
              "<table border=\"1\" class=\"dataframe\">\n",
              "  <thead>\n",
              "    <tr style=\"text-align: right;\">\n",
              "      <th></th>\n",
              "      <th>Word</th>\n",
              "      <th>MI Score</th>\n",
              "    </tr>\n",
              "  </thead>\n",
              "  <tbody>\n",
              "    <tr>\n",
              "      <th>5</th>\n",
              "      <td>great</td>\n",
              "      <td>0.030949</td>\n",
              "    </tr>\n",
              "    <tr>\n",
              "      <th>3</th>\n",
              "      <td>staff</td>\n",
              "      <td>0.019216</td>\n",
              "    </tr>\n",
              "    <tr>\n",
              "      <th>21</th>\n",
              "      <td>friendly</td>\n",
              "      <td>0.018758</td>\n",
              "    </tr>\n",
              "    <tr>\n",
              "      <th>11</th>\n",
              "      <td>get</td>\n",
              "      <td>0.016462</td>\n",
              "    </tr>\n",
              "    <tr>\n",
              "      <th>46</th>\n",
              "      <td>could</td>\n",
              "      <td>0.014343</td>\n",
              "    </tr>\n",
              "  </tbody>\n",
              "</table>\n",
              "</div>"
            ],
            "text/plain": [
              "        Word  MI Score\n",
              "5      great  0.030949\n",
              "3      staff  0.019216\n",
              "21  friendly  0.018758\n",
              "11       get  0.016462\n",
              "46     could  0.014343"
            ]
          },
          "metadata": {
            "tags": []
          },
          "execution_count": 56
        }
      ]
    },
    {
      "cell_type": "markdown",
      "metadata": {
        "id": "uNRBGQvEvOri",
        "colab_type": "text"
      },
      "source": [
        "### **(b) Repeat this analysis for the top-50 noun phrases and note any interesting results.**"
      ]
    },
    {
      "cell_type": "code",
      "metadata": {
        "id": "k6jveylqyu67",
        "colab_type": "code",
        "colab": {}
      },
      "source": [
        "def MInewDataFrameTransformation(hotelDf, reviewDF, k):\n",
        "\n",
        "    reviews = hotel_df['review_clean'].values\n",
        "        \n",
        "    # Top-k frequent terms\n",
        "    counter = Counter()\n",
        "    for review in reviews:\n",
        "            counter.update(flatten([word\n",
        "                            for word \n",
        "                            in get_terms(chunker.parse(pos_tag(re.findall(r'\\w+', review)))) \n",
        "                            ]))\n",
        "    topk = counter.most_common(k)        \n",
        "    #topk_words = [i[0] for i in topk] \n",
        "\n",
        "    #Find out if a particular review has the word from topk list\n",
        "    freqReview = []\n",
        "    for i in range(len(reviews)):\n",
        "        tempCounter = Counter(flatten([word \n",
        "                                       for word \n",
        "                                       in get_terms(chunker.parse(pos_tag(re.findall(r'\\w+',reviews[i]))))]))\n",
        "        topkinReview = [1 if tempCounter[word] > 0 else 0 for (word,wordCount) in topk]\n",
        "        freqReview.append(topkinReview)\n",
        "        \n",
        "        \n",
        "    #Prepare freqReviewDf\n",
        "    freqReviewDf = pd.DataFrame(freqReview)\n",
        "    dfName = []\n",
        "    for c in topk:\n",
        "        dfName.append(c[0])\n",
        "    freqReviewDf.columns = dfName\n",
        "    finalreviewDf = reviewDF.join(freqReviewDf)\n",
        "    finaldf = hotelDf[['hotel_name','rating','sentiment']].join(finalreviewDf)\n",
        "    return topk, finaldf"
      ],
      "execution_count": 0,
      "outputs": []
    },
    {
      "cell_type": "code",
      "metadata": {
        "id": "UTQutyiPvReH",
        "colab_type": "code",
        "colab": {}
      },
      "source": [
        "topk_phrase, finaldf_phrase = MInewDataFrameTransformation(hotel_df, reviewDF, 50)"
      ],
      "execution_count": 0,
      "outputs": []
    },
    {
      "cell_type": "code",
      "metadata": {
        "id": "hHWCzwSlzTeN",
        "colab_type": "code",
        "outputId": "61a7994d-d6c8-4275-8caf-940ccc7d0eb7",
        "colab": {
          "base_uri": "https://localhost:8080/",
          "height": 857
        }
      },
      "source": [
        "topk_phrase"
      ],
      "execution_count": 0,
      "outputs": [
        {
          "output_type": "execute_result",
          "data": {
            "text/plain": [
              "[('front desk', 70),\n",
              " ('stay hotel', 55),\n",
              " ('john wayn airport', 35),\n",
              " ('nthe room', 34),\n",
              " ('walk distanc', 31),\n",
              " ('custom servic', 31),\n",
              " ('next time', 29),\n",
              " ('great locat', 26),\n",
              " ('nthe hotel', 25),\n",
              " ('recommend hotel', 24),\n",
              " ('night stay', 24),\n",
              " ('nice hotel', 24),\n",
              " ('orang counti', 24),\n",
              " ('park lot', 23),\n",
              " ('free breakfast', 22),\n",
              " ('first time', 21),\n",
              " ('hotel stay', 20),\n",
              " ('hotel staff', 20),\n",
              " ('great place', 18),\n",
              " ('front desk staff', 18),\n",
              " ('embassi suit', 18),\n",
              " ('great place stay', 17),\n",
              " ('earli check', 17),\n",
              " ('hotel room', 16),\n",
              " ('way help', 15),\n",
              " ('nthe staff', 15),\n",
              " ('hotel irvin', 15),\n",
              " ('good valu', 15),\n",
              " ('place stay', 15),\n",
              " ('mani time', 15),\n",
              " ('room clean', 15),\n",
              " ('book hotel', 14),\n",
              " ('pool area', 14),\n",
              " ('close airport', 14),\n",
              " ('great hotel', 14),\n",
              " ('great experi', 14),\n",
              " ('room servic', 13),\n",
              " ('hotel area', 13),\n",
              " ('great staff', 13),\n",
              " ('friendli staff', 13),\n",
              " ('stay night', 12),\n",
              " ('stay area', 12),\n",
              " ('busi trip', 12),\n",
              " ('good locat', 12),\n",
              " ('great stay', 12),\n",
              " ('credit card', 12),\n",
              " ('complimentari breakfast', 11),\n",
              " ('free park', 11),\n",
              " ('clean room', 11),\n",
              " ('feel home', 11)]"
            ]
          },
          "metadata": {
            "tags": []
          },
          "execution_count": 59
        }
      ]
    },
    {
      "cell_type": "code",
      "metadata": {
        "id": "tPrH571-_Rhp",
        "colab_type": "code",
        "colab": {}
      },
      "source": [
        "# get Top K mutual information terms from the dataframe\n",
        "def getMIphrase(topk, finaldf, label_column='sentiment'):\n",
        "    miScore = []\n",
        "    for word in topk:\n",
        "        miScore.append([word[0]]+[metrics.mutual_info_score(finaldf_phrase[label_column], finaldf_phrase[word[0]])])\n",
        "    miScoredf = pd.DataFrame(miScore).sort_values(1,ascending=0)\n",
        "    miScoredf.columns = ['Phrase','MI Score']\n",
        "    return miScoredf"
      ],
      "execution_count": 0,
      "outputs": []
    },
    {
      "cell_type": "code",
      "metadata": {
        "colab_type": "code",
        "id": "uTdPcCY9iLnC",
        "colab": {}
      },
      "source": [
        "for word in topk_phrase:\n",
        "  metrics.mutual_info_score(finaldf_phrase['sentiment'], finaldf_phrase[word[0]])"
      ],
      "execution_count": 0,
      "outputs": []
    },
    {
      "cell_type": "code",
      "metadata": {
        "id": "utPs0c3gzE18",
        "colab_type": "code",
        "colab": {}
      },
      "source": [
        "miScoredf = getMIphrase(topk_phrase, finaldf_phrase)"
      ],
      "execution_count": 0,
      "outputs": []
    },
    {
      "cell_type": "code",
      "metadata": {
        "id": "U5GVwLHxzKU4",
        "colab_type": "code",
        "outputId": "cb471b55-6761-4f6a-9731-b89997ebfae3",
        "colab": {
          "base_uri": "https://localhost:8080/",
          "height": 343
        }
      },
      "source": [
        "miScoredf.head(10)"
      ],
      "execution_count": 0,
      "outputs": [
        {
          "output_type": "execute_result",
          "data": {
            "text/html": [
              "<div>\n",
              "<style scoped>\n",
              "    .dataframe tbody tr th:only-of-type {\n",
              "        vertical-align: middle;\n",
              "    }\n",
              "\n",
              "    .dataframe tbody tr th {\n",
              "        vertical-align: top;\n",
              "    }\n",
              "\n",
              "    .dataframe thead th {\n",
              "        text-align: right;\n",
              "    }\n",
              "</style>\n",
              "<table border=\"1\" class=\"dataframe\">\n",
              "  <thead>\n",
              "    <tr style=\"text-align: right;\">\n",
              "      <th></th>\n",
              "      <th>Phrase</th>\n",
              "      <th>MI Score</th>\n",
              "    </tr>\n",
              "  </thead>\n",
              "  <tbody>\n",
              "    <tr>\n",
              "      <th>9</th>\n",
              "      <td>recommend hotel</td>\n",
              "      <td>0.001341</td>\n",
              "    </tr>\n",
              "    <tr>\n",
              "      <th>0</th>\n",
              "      <td>front desk</td>\n",
              "      <td>0.001209</td>\n",
              "    </tr>\n",
              "    <tr>\n",
              "      <th>45</th>\n",
              "      <td>credit card</td>\n",
              "      <td>0.001037</td>\n",
              "    </tr>\n",
              "    <tr>\n",
              "      <th>13</th>\n",
              "      <td>park lot</td>\n",
              "      <td>0.000836</td>\n",
              "    </tr>\n",
              "    <tr>\n",
              "      <th>12</th>\n",
              "      <td>orang counti</td>\n",
              "      <td>0.000788</td>\n",
              "    </tr>\n",
              "    <tr>\n",
              "      <th>34</th>\n",
              "      <td>great hotel</td>\n",
              "      <td>0.000782</td>\n",
              "    </tr>\n",
              "    <tr>\n",
              "      <th>5</th>\n",
              "      <td>custom servic</td>\n",
              "      <td>0.000735</td>\n",
              "    </tr>\n",
              "    <tr>\n",
              "      <th>41</th>\n",
              "      <td>stay area</td>\n",
              "      <td>0.000670</td>\n",
              "    </tr>\n",
              "    <tr>\n",
              "      <th>49</th>\n",
              "      <td>feel home</td>\n",
              "      <td>0.000614</td>\n",
              "    </tr>\n",
              "    <tr>\n",
              "      <th>36</th>\n",
              "      <td>room servic</td>\n",
              "      <td>0.000570</td>\n",
              "    </tr>\n",
              "  </tbody>\n",
              "</table>\n",
              "</div>"
            ],
            "text/plain": [
              "             Phrase  MI Score\n",
              "9   recommend hotel  0.001341\n",
              "0        front desk  0.001209\n",
              "45      credit card  0.001037\n",
              "13         park lot  0.000836\n",
              "12     orang counti  0.000788\n",
              "34      great hotel  0.000782\n",
              "5     custom servic  0.000735\n",
              "41        stay area  0.000670\n",
              "49        feel home  0.000614\n",
              "36      room servic  0.000570"
            ]
          },
          "metadata": {
            "tags": []
          },
          "execution_count": 63
        }
      ]
    },
    {
      "cell_type": "markdown",
      "metadata": {
        "id": "yVDcyUlGu7If",
        "colab_type": "text"
      },
      "source": [
        "\n",
        "# Q4. Pointwise Mutual Information"
      ]
    },
    {
      "cell_type": "markdown",
      "metadata": {
        "id": "Nop85nezjWIi",
        "colab_type": "text"
      },
      "source": [
        "#### **(a) For ground truth sentiment, calculate the top-50 words according to PMI of the word occuring with (i) positive reviews and (ii) negative reviews. Do you note anything interesting and/or locale-specific about these top-ranked words?**\n"
      ]
    },
    {
      "cell_type": "code",
      "metadata": {
        "id": "3ryRRjV5krHy",
        "colab_type": "code",
        "outputId": "2d25284d-a2a8-499f-ba42-e1a5a66e07b8",
        "colab": {
          "base_uri": "https://localhost:8080/",
          "height": 551
        }
      },
      "source": [
        "finaldf.head()"
      ],
      "execution_count": 0,
      "outputs": [
        {
          "output_type": "execute_result",
          "data": {
            "text/html": [
              "<div>\n",
              "<style scoped>\n",
              "    .dataframe tbody tr th:only-of-type {\n",
              "        vertical-align: middle;\n",
              "    }\n",
              "\n",
              "    .dataframe tbody tr th {\n",
              "        vertical-align: top;\n",
              "    }\n",
              "\n",
              "    .dataframe thead th {\n",
              "        text-align: right;\n",
              "    }\n",
              "</style>\n",
              "<table border=\"1\" class=\"dataframe\">\n",
              "  <thead>\n",
              "    <tr style=\"text-align: right;\">\n",
              "      <th></th>\n",
              "      <th>hotel_name</th>\n",
              "      <th>rating</th>\n",
              "      <th>sentiment</th>\n",
              "      <th>vader_score</th>\n",
              "      <th>review_clean</th>\n",
              "      <th>room</th>\n",
              "      <th>hotel</th>\n",
              "      <th>stay</th>\n",
              "      <th>staff</th>\n",
              "      <th>n</th>\n",
              "      <th>great</th>\n",
              "      <th>breakfast</th>\n",
              "      <th>clean</th>\n",
              "      <th>nice</th>\n",
              "      <th>good</th>\n",
              "      <th>area</th>\n",
              "      <th>get</th>\n",
              "      <th>would</th>\n",
              "      <th>one</th>\n",
              "      <th>service</th>\n",
              "      <th>night</th>\n",
              "      <th>go</th>\n",
              "      <th>make</th>\n",
              "      <th>time</th>\n",
              "      <th>well</th>\n",
              "      <th>desk</th>\n",
              "      <th>friendly</th>\n",
              "      <th>check</th>\n",
              "      <th>bed</th>\n",
              "      <th>airport</th>\n",
              "      <th>front</th>\n",
              "      <th>location</th>\n",
              "      <th>like</th>\n",
              "      <th>park</th>\n",
              "      <th>place</th>\n",
              "      <th>day</th>\n",
              "      <th>comfortable</th>\n",
              "      <th>pool</th>\n",
              "      <th>need</th>\n",
              "      <th>work</th>\n",
              "      <th>also</th>\n",
              "      <th>free</th>\n",
              "      <th>even</th>\n",
              "      <th>back</th>\n",
              "      <th>close</th>\n",
              "      <th>irvine</th>\n",
              "      <th>helpful</th>\n",
              "      <th>business</th>\n",
              "      <th>restaurant</th>\n",
              "      <th>come</th>\n",
              "      <th>food</th>\n",
              "      <th>could</th>\n",
              "      <th>take</th>\n",
              "      <th>really</th>\n",
              "      <th>look</th>\n",
              "    </tr>\n",
              "  </thead>\n",
              "  <tbody>\n",
              "    <tr>\n",
              "      <th>0</th>\n",
              "      <td>Homewood Suites by Hilton Irvine John Wayne Ai...</td>\n",
              "      <td>5</td>\n",
              "      <td>positive</td>\n",
              "      <td>0.9796</td>\n",
              "      <td>recommend hotel everyone new hotel clean staff...</td>\n",
              "      <td>0</td>\n",
              "      <td>1</td>\n",
              "      <td>0</td>\n",
              "      <td>1</td>\n",
              "      <td>0</td>\n",
              "      <td>0</td>\n",
              "      <td>0</td>\n",
              "      <td>1</td>\n",
              "      <td>1</td>\n",
              "      <td>0</td>\n",
              "      <td>0</td>\n",
              "      <td>0</td>\n",
              "      <td>0</td>\n",
              "      <td>0</td>\n",
              "      <td>0</td>\n",
              "      <td>0</td>\n",
              "      <td>0</td>\n",
              "      <td>0</td>\n",
              "      <td>0</td>\n",
              "      <td>0</td>\n",
              "      <td>0</td>\n",
              "      <td>0</td>\n",
              "      <td>0</td>\n",
              "      <td>0</td>\n",
              "      <td>0</td>\n",
              "      <td>0</td>\n",
              "      <td>0</td>\n",
              "      <td>0</td>\n",
              "      <td>0</td>\n",
              "      <td>0</td>\n",
              "      <td>1</td>\n",
              "      <td>0</td>\n",
              "      <td>0</td>\n",
              "      <td>1</td>\n",
              "      <td>0</td>\n",
              "      <td>0</td>\n",
              "      <td>0</td>\n",
              "      <td>0</td>\n",
              "      <td>0</td>\n",
              "      <td>0</td>\n",
              "      <td>0</td>\n",
              "      <td>1</td>\n",
              "      <td>0</td>\n",
              "      <td>0</td>\n",
              "      <td>0</td>\n",
              "      <td>0</td>\n",
              "      <td>0</td>\n",
              "      <td>0</td>\n",
              "      <td>0</td>\n",
              "      <td>0</td>\n",
              "    </tr>\n",
              "    <tr>\n",
              "      <th>1</th>\n",
              "      <td>Homewood Suites by Hilton Irvine John Wayne Ai...</td>\n",
              "      <td>4</td>\n",
              "      <td>positive</td>\n",
              "      <td>0.4543</td>\n",
              "      <td>brand new well design hotel like everything ho...</td>\n",
              "      <td>0</td>\n",
              "      <td>1</td>\n",
              "      <td>0</td>\n",
              "      <td>0</td>\n",
              "      <td>0</td>\n",
              "      <td>0</td>\n",
              "      <td>0</td>\n",
              "      <td>0</td>\n",
              "      <td>0</td>\n",
              "      <td>0</td>\n",
              "      <td>0</td>\n",
              "      <td>0</td>\n",
              "      <td>0</td>\n",
              "      <td>0</td>\n",
              "      <td>0</td>\n",
              "      <td>0</td>\n",
              "      <td>0</td>\n",
              "      <td>0</td>\n",
              "      <td>0</td>\n",
              "      <td>1</td>\n",
              "      <td>0</td>\n",
              "      <td>0</td>\n",
              "      <td>0</td>\n",
              "      <td>1</td>\n",
              "      <td>0</td>\n",
              "      <td>0</td>\n",
              "      <td>0</td>\n",
              "      <td>1</td>\n",
              "      <td>0</td>\n",
              "      <td>0</td>\n",
              "      <td>0</td>\n",
              "      <td>0</td>\n",
              "      <td>0</td>\n",
              "      <td>0</td>\n",
              "      <td>0</td>\n",
              "      <td>0</td>\n",
              "      <td>0</td>\n",
              "      <td>0</td>\n",
              "      <td>0</td>\n",
              "      <td>0</td>\n",
              "      <td>0</td>\n",
              "      <td>0</td>\n",
              "      <td>0</td>\n",
              "      <td>0</td>\n",
              "      <td>0</td>\n",
              "      <td>0</td>\n",
              "      <td>0</td>\n",
              "      <td>0</td>\n",
              "      <td>0</td>\n",
              "      <td>0</td>\n",
              "    </tr>\n",
              "    <tr>\n",
              "      <th>2</th>\n",
              "      <td>Homewood Suites by Hilton Irvine John Wayne Ai...</td>\n",
              "      <td>4</td>\n",
              "      <td>positive</td>\n",
              "      <td>0.9585</td>\n",
              "      <td>stay start little rough adult child book one l...</td>\n",
              "      <td>1</td>\n",
              "      <td>1</td>\n",
              "      <td>1</td>\n",
              "      <td>1</td>\n",
              "      <td>0</td>\n",
              "      <td>1</td>\n",
              "      <td>1</td>\n",
              "      <td>1</td>\n",
              "      <td>1</td>\n",
              "      <td>1</td>\n",
              "      <td>1</td>\n",
              "      <td>1</td>\n",
              "      <td>0</td>\n",
              "      <td>1</td>\n",
              "      <td>0</td>\n",
              "      <td>0</td>\n",
              "      <td>0</td>\n",
              "      <td>1</td>\n",
              "      <td>0</td>\n",
              "      <td>0</td>\n",
              "      <td>1</td>\n",
              "      <td>0</td>\n",
              "      <td>0</td>\n",
              "      <td>1</td>\n",
              "      <td>0</td>\n",
              "      <td>1</td>\n",
              "      <td>0</td>\n",
              "      <td>0</td>\n",
              "      <td>0</td>\n",
              "      <td>0</td>\n",
              "      <td>1</td>\n",
              "      <td>0</td>\n",
              "      <td>1</td>\n",
              "      <td>0</td>\n",
              "      <td>0</td>\n",
              "      <td>0</td>\n",
              "      <td>0</td>\n",
              "      <td>0</td>\n",
              "      <td>0</td>\n",
              "      <td>0</td>\n",
              "      <td>0</td>\n",
              "      <td>0</td>\n",
              "      <td>0</td>\n",
              "      <td>0</td>\n",
              "      <td>0</td>\n",
              "      <td>0</td>\n",
              "      <td>0</td>\n",
              "      <td>0</td>\n",
              "      <td>0</td>\n",
              "      <td>0</td>\n",
              "    </tr>\n",
              "    <tr>\n",
              "      <th>3</th>\n",
              "      <td>Homewood Suites by Hilton Irvine John Wayne Ai...</td>\n",
              "      <td>5</td>\n",
              "      <td>positive</td>\n",
              "      <td>0.9571</td>\n",
              "      <td>select hotel base upon passed positive experie...</td>\n",
              "      <td>1</td>\n",
              "      <td>1</td>\n",
              "      <td>0</td>\n",
              "      <td>1</td>\n",
              "      <td>0</td>\n",
              "      <td>0</td>\n",
              "      <td>1</td>\n",
              "      <td>0</td>\n",
              "      <td>0</td>\n",
              "      <td>0</td>\n",
              "      <td>0</td>\n",
              "      <td>0</td>\n",
              "      <td>1</td>\n",
              "      <td>1</td>\n",
              "      <td>0</td>\n",
              "      <td>1</td>\n",
              "      <td>0</td>\n",
              "      <td>0</td>\n",
              "      <td>0</td>\n",
              "      <td>0</td>\n",
              "      <td>1</td>\n",
              "      <td>1</td>\n",
              "      <td>0</td>\n",
              "      <td>1</td>\n",
              "      <td>0</td>\n",
              "      <td>1</td>\n",
              "      <td>1</td>\n",
              "      <td>0</td>\n",
              "      <td>0</td>\n",
              "      <td>0</td>\n",
              "      <td>0</td>\n",
              "      <td>1</td>\n",
              "      <td>0</td>\n",
              "      <td>0</td>\n",
              "      <td>1</td>\n",
              "      <td>0</td>\n",
              "      <td>0</td>\n",
              "      <td>0</td>\n",
              "      <td>0</td>\n",
              "      <td>0</td>\n",
              "      <td>0</td>\n",
              "      <td>1</td>\n",
              "      <td>0</td>\n",
              "      <td>0</td>\n",
              "      <td>0</td>\n",
              "      <td>0</td>\n",
              "      <td>0</td>\n",
              "      <td>0</td>\n",
              "      <td>0</td>\n",
              "      <td>0</td>\n",
              "    </tr>\n",
              "    <tr>\n",
              "      <th>4</th>\n",
              "      <td>Homewood Suites by Hilton Irvine John Wayne Ai...</td>\n",
              "      <td>5</td>\n",
              "      <td>positive</td>\n",
              "      <td>0.9509</td>\n",
              "      <td>hopefully opportunity visit near future suite ...</td>\n",
              "      <td>1</td>\n",
              "      <td>0</td>\n",
              "      <td>0</td>\n",
              "      <td>1</td>\n",
              "      <td>1</td>\n",
              "      <td>0</td>\n",
              "      <td>0</td>\n",
              "      <td>1</td>\n",
              "      <td>0</td>\n",
              "      <td>0</td>\n",
              "      <td>1</td>\n",
              "      <td>0</td>\n",
              "      <td>0</td>\n",
              "      <td>0</td>\n",
              "      <td>0</td>\n",
              "      <td>0</td>\n",
              "      <td>0</td>\n",
              "      <td>0</td>\n",
              "      <td>0</td>\n",
              "      <td>1</td>\n",
              "      <td>0</td>\n",
              "      <td>1</td>\n",
              "      <td>0</td>\n",
              "      <td>0</td>\n",
              "      <td>0</td>\n",
              "      <td>0</td>\n",
              "      <td>0</td>\n",
              "      <td>0</td>\n",
              "      <td>0</td>\n",
              "      <td>0</td>\n",
              "      <td>0</td>\n",
              "      <td>0</td>\n",
              "      <td>1</td>\n",
              "      <td>1</td>\n",
              "      <td>1</td>\n",
              "      <td>0</td>\n",
              "      <td>0</td>\n",
              "      <td>0</td>\n",
              "      <td>0</td>\n",
              "      <td>0</td>\n",
              "      <td>0</td>\n",
              "      <td>1</td>\n",
              "      <td>0</td>\n",
              "      <td>0</td>\n",
              "      <td>0</td>\n",
              "      <td>0</td>\n",
              "      <td>0</td>\n",
              "      <td>0</td>\n",
              "      <td>0</td>\n",
              "      <td>0</td>\n",
              "    </tr>\n",
              "  </tbody>\n",
              "</table>\n",
              "</div>"
            ],
            "text/plain": [
              "                                          hotel_name  rating  ... really  look\n",
              "0  Homewood Suites by Hilton Irvine John Wayne Ai...       5  ...      0     0\n",
              "1  Homewood Suites by Hilton Irvine John Wayne Ai...       4  ...      0     0\n",
              "2  Homewood Suites by Hilton Irvine John Wayne Ai...       4  ...      0     0\n",
              "3  Homewood Suites by Hilton Irvine John Wayne Ai...       5  ...      0     0\n",
              "4  Homewood Suites by Hilton Irvine John Wayne Ai...       5  ...      0     0\n",
              "\n",
              "[5 rows x 55 columns]"
            ]
          },
          "metadata": {
            "tags": []
          },
          "execution_count": 64
        }
      ]
    },
    {
      "cell_type": "code",
      "metadata": {
        "id": "8DObRe0ronYh",
        "colab_type": "code",
        "colab": {}
      },
      "source": [
        "# using Pair_wise Mutual Information (PMI)"
      ],
      "execution_count": 0,
      "outputs": []
    },
    {
      "cell_type": "code",
      "metadata": {
        "id": "kULN6CR8qDE_",
        "colab_type": "code",
        "colab": {}
      },
      "source": [
        "# Simple example of getting pairwise mutual information of a term\n",
        "def pmiCal(df, x):\n",
        "    pmilist=[]\n",
        "    for i in ['positive','negative']:\n",
        "        for j in [0,1]:\n",
        "            px = sum(df['sentiment']==i)/len(df)\n",
        "            py = sum(df[x]==j)/len(df)\n",
        "            pxy = len(df[(df['sentiment']==i) & (df[x]==j)])/len(df)\n",
        "            if pxy==0:#Log 0 cannot happen\n",
        "                pmi = math.log((pxy+0.0001)/(px*py))\n",
        "            else:\n",
        "                pmi = math.log(pxy/(px*py))\n",
        "            pmilist.append([i]+[j]+[px]+[py]+[pxy]+[pmi])\n",
        "    pmidf = pd.DataFrame(pmilist)\n",
        "    pmidf.columns = ['x','y','px','py','pxy','pmi']\n",
        "    return pmidf"
      ],
      "execution_count": 0,
      "outputs": []
    },
    {
      "cell_type": "code",
      "metadata": {
        "id": "go7SxV30qPZM",
        "colab_type": "code",
        "colab": {}
      },
      "source": [
        "def pmiIndivCal(df,x,gt, label_column='sentiment'):\n",
        "    px = sum(df[label_column]==gt)/len(df)\n",
        "    py = sum(df[x]==1)/len(df)\n",
        "    pxy = len(df[(df[label_column]==gt) & (df[x]==1)])/len(df)\n",
        "    if pxy==0:#Log 0 cannot happen\n",
        "        pmi = math.log((pxy+0.0001)/(px*py))\n",
        "    else:\n",
        "        pmi = math.log(pxy/(px*py))\n",
        "    return pmi"
      ],
      "execution_count": 0,
      "outputs": []
    },
    {
      "cell_type": "code",
      "metadata": {
        "id": "SylkYWjspCPj",
        "colab_type": "code",
        "colab": {}
      },
      "source": [
        "# Compute PMI for all terms and all possible labels\n",
        "def pmiForAllCal(df, label_column='sentiment', topk=topk):\n",
        "    #Try calculate all the pmi for top k and store them into one pmidf dataframe\n",
        "    pmilist = []\n",
        "    pmiposlist = []\n",
        "    pmineglist = []\n",
        "    for word in tqdm(topk):\n",
        "        pmilist.append([word[0]]+[pmiCal(df,word[0])])\n",
        "        pmiposlist.append([word[0]]+[pmiIndivCal(df,word[0],'positive',label_column)])\n",
        "        pmineglist.append([word[0]]+[pmiIndivCal(df,word[0],'negative',label_column)])\n",
        "    pmidf = pd.DataFrame(pmilist)\n",
        "    pmiposlist = pd.DataFrame(pmiposlist)\n",
        "    pmineglist = pd.DataFrame(pmineglist)\n",
        "    pmiposlist.columns = ['word','pmi']\n",
        "    pmineglist.columns = ['word','pmi']\n",
        "    pmidf.columns = ['word','pmi']\n",
        "    return pmiposlist, pmineglist, pmidf"
      ],
      "execution_count": 0,
      "outputs": []
    },
    {
      "cell_type": "code",
      "metadata": {
        "id": "ZnL3CINepjXC",
        "colab_type": "code",
        "outputId": "f924551c-0317-4df3-8e92-b49f5dd38760",
        "colab": {
          "base_uri": "https://localhost:8080/",
          "height": 34
        }
      },
      "source": [
        "pmiposlist, pmineglist, pmidf = pmiForAllCal(finaldf)"
      ],
      "execution_count": 0,
      "outputs": [
        {
          "output_type": "stream",
          "text": [
            "100%|██████████| 50/50 [00:01<00:00, 35.69it/s]\n"
          ],
          "name": "stderr"
        }
      ]
    },
    {
      "cell_type": "markdown",
      "metadata": {
        "id": "Z4kp3Jh9lLq5",
        "colab_type": "text"
      },
      "source": [
        "i) ground truth positive"
      ]
    },
    {
      "cell_type": "code",
      "metadata": {
        "id": "lo4nde1vpjN7",
        "colab_type": "code",
        "outputId": "5728cc38-7969-4f6a-8fcb-1f1b7d73f442",
        "colab": {
          "base_uri": "https://localhost:8080/",
          "height": 343
        }
      },
      "source": [
        "#Sorted top pmi words for positive reviews\n",
        "pmiposlist.sort_values('pmi',ascending=0).head(10)"
      ],
      "execution_count": 0,
      "outputs": [
        {
          "output_type": "execute_result",
          "data": {
            "text/html": [
              "<div>\n",
              "<style scoped>\n",
              "    .dataframe tbody tr th:only-of-type {\n",
              "        vertical-align: middle;\n",
              "    }\n",
              "\n",
              "    .dataframe tbody tr th {\n",
              "        vertical-align: top;\n",
              "    }\n",
              "\n",
              "    .dataframe thead th {\n",
              "        text-align: right;\n",
              "    }\n",
              "</style>\n",
              "<table border=\"1\" class=\"dataframe\">\n",
              "  <thead>\n",
              "    <tr style=\"text-align: right;\">\n",
              "      <th></th>\n",
              "      <th>word</th>\n",
              "      <th>pmi</th>\n",
              "    </tr>\n",
              "  </thead>\n",
              "  <tbody>\n",
              "    <tr>\n",
              "      <th>21</th>\n",
              "      <td>friendly</td>\n",
              "      <td>0.185358</td>\n",
              "    </tr>\n",
              "    <tr>\n",
              "      <th>5</th>\n",
              "      <td>great</td>\n",
              "      <td>0.183667</td>\n",
              "    </tr>\n",
              "    <tr>\n",
              "      <th>41</th>\n",
              "      <td>helpful</td>\n",
              "      <td>0.179534</td>\n",
              "    </tr>\n",
              "    <tr>\n",
              "      <th>31</th>\n",
              "      <td>comfortable</td>\n",
              "      <td>0.169346</td>\n",
              "    </tr>\n",
              "    <tr>\n",
              "      <th>40</th>\n",
              "      <td>irvine</td>\n",
              "      <td>0.143243</td>\n",
              "    </tr>\n",
              "    <tr>\n",
              "      <th>43</th>\n",
              "      <td>restaurant</td>\n",
              "      <td>0.143119</td>\n",
              "    </tr>\n",
              "    <tr>\n",
              "      <th>24</th>\n",
              "      <td>airport</td>\n",
              "      <td>0.123376</td>\n",
              "    </tr>\n",
              "    <tr>\n",
              "      <th>3</th>\n",
              "      <td>staff</td>\n",
              "      <td>0.122448</td>\n",
              "    </tr>\n",
              "    <tr>\n",
              "      <th>7</th>\n",
              "      <td>clean</td>\n",
              "      <td>0.103241</td>\n",
              "    </tr>\n",
              "    <tr>\n",
              "      <th>36</th>\n",
              "      <td>free</td>\n",
              "      <td>0.087459</td>\n",
              "    </tr>\n",
              "  </tbody>\n",
              "</table>\n",
              "</div>"
            ],
            "text/plain": [
              "           word       pmi\n",
              "21     friendly  0.185358\n",
              "5         great  0.183667\n",
              "41      helpful  0.179534\n",
              "31  comfortable  0.169346\n",
              "40       irvine  0.143243\n",
              "43   restaurant  0.143119\n",
              "24      airport  0.123376\n",
              "3         staff  0.122448\n",
              "7         clean  0.103241\n",
              "36         free  0.087459"
            ]
          },
          "metadata": {
            "tags": []
          },
          "execution_count": 70
        }
      ]
    },
    {
      "cell_type": "markdown",
      "metadata": {
        "id": "ei59DQ_olAf2",
        "colab_type": "text"
      },
      "source": [
        "ii) ground truth negative"
      ]
    },
    {
      "cell_type": "code",
      "metadata": {
        "id": "C2wsmjgqpjGu",
        "colab_type": "code",
        "outputId": "3e0dcb7e-b026-4f8d-fb4c-f73283654a2e",
        "colab": {
          "base_uri": "https://localhost:8080/",
          "height": 343
        }
      },
      "source": [
        "#Sorted top pmi words for negative reviews\n",
        "pmineglist.sort_values('pmi',ascending=0).head(10)"
      ],
      "execution_count": 0,
      "outputs": [
        {
          "output_type": "execute_result",
          "data": {
            "text/html": [
              "<div>\n",
              "<style scoped>\n",
              "    .dataframe tbody tr th:only-of-type {\n",
              "        vertical-align: middle;\n",
              "    }\n",
              "\n",
              "    .dataframe tbody tr th {\n",
              "        vertical-align: top;\n",
              "    }\n",
              "\n",
              "    .dataframe thead th {\n",
              "        text-align: right;\n",
              "    }\n",
              "</style>\n",
              "<table border=\"1\" class=\"dataframe\">\n",
              "  <thead>\n",
              "    <tr style=\"text-align: right;\">\n",
              "      <th></th>\n",
              "      <th>word</th>\n",
              "      <th>pmi</th>\n",
              "    </tr>\n",
              "  </thead>\n",
              "  <tbody>\n",
              "    <tr>\n",
              "      <th>46</th>\n",
              "      <td>could</td>\n",
              "      <td>0.569755</td>\n",
              "    </tr>\n",
              "    <tr>\n",
              "      <th>11</th>\n",
              "      <td>get</td>\n",
              "      <td>0.433579</td>\n",
              "    </tr>\n",
              "    <tr>\n",
              "      <th>49</th>\n",
              "      <td>look</td>\n",
              "      <td>0.403254</td>\n",
              "    </tr>\n",
              "    <tr>\n",
              "      <th>22</th>\n",
              "      <td>check</td>\n",
              "      <td>0.381122</td>\n",
              "    </tr>\n",
              "    <tr>\n",
              "      <th>34</th>\n",
              "      <td>work</td>\n",
              "      <td>0.356077</td>\n",
              "    </tr>\n",
              "    <tr>\n",
              "      <th>30</th>\n",
              "      <td>day</td>\n",
              "      <td>0.354186</td>\n",
              "    </tr>\n",
              "    <tr>\n",
              "      <th>25</th>\n",
              "      <td>front</td>\n",
              "      <td>0.344941</td>\n",
              "    </tr>\n",
              "    <tr>\n",
              "      <th>15</th>\n",
              "      <td>night</td>\n",
              "      <td>0.333338</td>\n",
              "    </tr>\n",
              "    <tr>\n",
              "      <th>37</th>\n",
              "      <td>even</td>\n",
              "      <td>0.322864</td>\n",
              "    </tr>\n",
              "    <tr>\n",
              "      <th>20</th>\n",
              "      <td>desk</td>\n",
              "      <td>0.322541</td>\n",
              "    </tr>\n",
              "  </tbody>\n",
              "</table>\n",
              "</div>"
            ],
            "text/plain": [
              "     word       pmi\n",
              "46  could  0.569755\n",
              "11    get  0.433579\n",
              "49   look  0.403254\n",
              "22  check  0.381122\n",
              "34   work  0.356077\n",
              "30    day  0.354186\n",
              "25  front  0.344941\n",
              "15  night  0.333338\n",
              "37   even  0.322864\n",
              "20   desk  0.322541"
            ]
          },
          "metadata": {
            "tags": []
          },
          "execution_count": 71
        }
      ]
    },
    {
      "cell_type": "markdown",
      "metadata": {
        "id": "NUloZ6c6npQn",
        "colab_type": "text"
      },
      "source": [
        "#### **(b) Repeat this analysis for the top-50 noun phrases and note any interesting results.**"
      ]
    },
    {
      "cell_type": "code",
      "metadata": {
        "id": "kV8sVUk9oBbE",
        "colab_type": "code",
        "colab": {}
      },
      "source": [
        "# Flatten phrase lists to get tokens for analysis\n",
        "def flatten(npTokenList):\n",
        "    finalList =[]\n",
        "    for phrase in npTokenList:\n",
        "        token = ''\n",
        "        for word in phrase:\n",
        "            token += word + ' '\n",
        "        finalList.append(token.rstrip())\n",
        "    return finalList"
      ],
      "execution_count": 0,
      "outputs": []
    },
    {
      "cell_type": "code",
      "metadata": {
        "id": "0nQcbWWFoBZD",
        "colab_type": "code",
        "colab": {}
      },
      "source": [
        "# Revise the previous dataframe transform function...\n",
        "def newDataFrameTransformation(hotelDf, reviewDF, k=50):\n",
        "    reviews = reviewDF['reviewCol'].values\n",
        "    \n",
        "    # Top-k frequent terms\n",
        "    counter = Counter()\n",
        "    for review in reviews:\n",
        "            counter.update(flatten([word\n",
        "                            for word \n",
        "                            in get_terms(chunker.parse(pos_tag(re.findall(r'\\w+', review)))) \n",
        "                            ]))\n",
        "    topk = counter.most_common(k)        \n",
        "    \n",
        "    #Find out if a particular review has the word from topk list\n",
        "    freqReview = []\n",
        "    for i in range(len(reviews)):\n",
        "        tempCounter = Counter(flatten([word \n",
        "                                       for word \n",
        "                                       in get_terms(chunker.parse(pos_tag(re.findall(r'\\w+',reviews[i]))))]))\n",
        "        topkinReview = [1 if tempCounter[word] > 0 else 0 for (word,wordCount) in topk]\n",
        "        freqReview.append(topkinReview)\n",
        "        \n",
        "        \n",
        "    #Prepare freqReviewDf\n",
        "    freqReviewDf = pandas.DataFrame(freqReview)\n",
        "    dfName = []\n",
        "    for c in topk:\n",
        "        dfName.append(c[0])\n",
        "    freqReviewDf.columns = dfName\n",
        "    finalreviewDf = reviewDF.join(freqReviewDf)\n",
        "    finaldf = hotelDf[['hotelName','ratingScore','groundTruth']].join(finalreviewDf)\n",
        "    return topk, finaldf"
      ],
      "execution_count": 0,
      "outputs": []
    },
    {
      "cell_type": "code",
      "metadata": {
        "id": "N_D5Lhheo5U1",
        "colab_type": "code",
        "outputId": "55efbeb7-ea4a-4431-aced-9a4ec958f369",
        "colab": {
          "base_uri": "https://localhost:8080/",
          "height": 34
        }
      },
      "source": [
        "pmiposlist, pmineglist, pmidf = pmiForAllCal(finaldf_phrase, topk=topk_phrase)"
      ],
      "execution_count": 0,
      "outputs": [
        {
          "output_type": "stream",
          "text": [
            "100%|██████████| 50/50 [00:01<00:00, 37.08it/s]\n"
          ],
          "name": "stderr"
        }
      ]
    },
    {
      "cell_type": "markdown",
      "metadata": {
        "id": "h0rkr3zmpeqf",
        "colab_type": "text"
      },
      "source": [
        "i) positive PMI phrase"
      ]
    },
    {
      "cell_type": "code",
      "metadata": {
        "id": "wzCehZqmoBVW",
        "colab_type": "code",
        "outputId": "85624654-00dc-4ce9-efad-7a51c34fccb8",
        "colab": {
          "base_uri": "https://localhost:8080/",
          "height": 195
        }
      },
      "source": [
        "pmiposlist.sort_values('pmi',ascending=0).head(5)"
      ],
      "execution_count": 0,
      "outputs": [
        {
          "output_type": "execute_result",
          "data": {
            "text/html": [
              "<div>\n",
              "<style scoped>\n",
              "    .dataframe tbody tr th:only-of-type {\n",
              "        vertical-align: middle;\n",
              "    }\n",
              "\n",
              "    .dataframe tbody tr th {\n",
              "        vertical-align: top;\n",
              "    }\n",
              "\n",
              "    .dataframe thead th {\n",
              "        text-align: right;\n",
              "    }\n",
              "</style>\n",
              "<table border=\"1\" class=\"dataframe\">\n",
              "  <thead>\n",
              "    <tr style=\"text-align: right;\">\n",
              "      <th></th>\n",
              "      <th>word</th>\n",
              "      <th>pmi</th>\n",
              "    </tr>\n",
              "  </thead>\n",
              "  <tbody>\n",
              "    <tr>\n",
              "      <th>49</th>\n",
              "      <td>feel home</td>\n",
              "      <td>0.321428</td>\n",
              "    </tr>\n",
              "    <tr>\n",
              "      <th>34</th>\n",
              "      <td>great hotel</td>\n",
              "      <td>0.321428</td>\n",
              "    </tr>\n",
              "    <tr>\n",
              "      <th>41</th>\n",
              "      <td>stay area</td>\n",
              "      <td>0.321428</td>\n",
              "    </tr>\n",
              "    <tr>\n",
              "      <th>9</th>\n",
              "      <td>recommend hotel</td>\n",
              "      <td>0.321428</td>\n",
              "    </tr>\n",
              "    <tr>\n",
              "      <th>12</th>\n",
              "      <td>orang counti</td>\n",
              "      <td>0.278869</td>\n",
              "    </tr>\n",
              "  </tbody>\n",
              "</table>\n",
              "</div>"
            ],
            "text/plain": [
              "               word       pmi\n",
              "49        feel home  0.321428\n",
              "34      great hotel  0.321428\n",
              "41        stay area  0.321428\n",
              "9   recommend hotel  0.321428\n",
              "12     orang counti  0.278869"
            ]
          },
          "metadata": {
            "tags": []
          },
          "execution_count": 75
        }
      ]
    },
    {
      "cell_type": "markdown",
      "metadata": {
        "id": "5V42yDdDpiIc",
        "colab_type": "text"
      },
      "source": [
        "ii) negative PMI phrase"
      ]
    },
    {
      "cell_type": "code",
      "metadata": {
        "id": "iu2XAV_ypDC9",
        "colab_type": "code",
        "outputId": "6c4fbaa4-369a-4645-d530-2b8f83824baa",
        "colab": {
          "base_uri": "https://localhost:8080/",
          "height": 195
        }
      },
      "source": [
        "pmineglist.sort_values('pmi',ascending=0).head(5)"
      ],
      "execution_count": 0,
      "outputs": [
        {
          "output_type": "execute_result",
          "data": {
            "text/html": [
              "<div>\n",
              "<style scoped>\n",
              "    .dataframe tbody tr th:only-of-type {\n",
              "        vertical-align: middle;\n",
              "    }\n",
              "\n",
              "    .dataframe tbody tr th {\n",
              "        vertical-align: top;\n",
              "    }\n",
              "\n",
              "    .dataframe thead th {\n",
              "        text-align: right;\n",
              "    }\n",
              "</style>\n",
              "<table border=\"1\" class=\"dataframe\">\n",
              "  <thead>\n",
              "    <tr style=\"text-align: right;\">\n",
              "      <th></th>\n",
              "      <th>word</th>\n",
              "      <th>pmi</th>\n",
              "    </tr>\n",
              "  </thead>\n",
              "  <tbody>\n",
              "    <tr>\n",
              "      <th>45</th>\n",
              "      <td>credit card</td>\n",
              "      <td>1.068251</td>\n",
              "    </tr>\n",
              "    <tr>\n",
              "      <th>36</th>\n",
              "      <td>room servic</td>\n",
              "      <td>0.805886</td>\n",
              "    </tr>\n",
              "    <tr>\n",
              "      <th>13</th>\n",
              "      <td>park lot</td>\n",
              "      <td>0.765301</td>\n",
              "    </tr>\n",
              "    <tr>\n",
              "      <th>20</th>\n",
              "      <td>embassi suit</td>\n",
              "      <td>0.703608</td>\n",
              "    </tr>\n",
              "    <tr>\n",
              "      <th>5</th>\n",
              "      <td>custom servic</td>\n",
              "      <td>0.667240</td>\n",
              "    </tr>\n",
              "  </tbody>\n",
              "</table>\n",
              "</div>"
            ],
            "text/plain": [
              "             word       pmi\n",
              "45    credit card  1.068251\n",
              "36    room servic  0.805886\n",
              "13       park lot  0.765301\n",
              "20   embassi suit  0.703608\n",
              "5   custom servic  0.667240"
            ]
          },
          "metadata": {
            "tags": []
          },
          "execution_count": 76
        }
      ]
    },
    {
      "cell_type": "code",
      "metadata": {
        "id": "Zbhj6LgJpjA6",
        "colab_type": "code",
        "outputId": "aa3e9e79-f509-4375-8d95-bb59922c6039",
        "colab": {
          "base_uri": "https://localhost:8080/",
          "height": 195
        }
      },
      "source": [
        "#Complete pmi dataframe\n",
        "pmidf.head()"
      ],
      "execution_count": 0,
      "outputs": [
        {
          "output_type": "execute_result",
          "data": {
            "text/html": [
              "<div>\n",
              "<style scoped>\n",
              "    .dataframe tbody tr th:only-of-type {\n",
              "        vertical-align: middle;\n",
              "    }\n",
              "\n",
              "    .dataframe tbody tr th {\n",
              "        vertical-align: top;\n",
              "    }\n",
              "\n",
              "    .dataframe thead th {\n",
              "        text-align: right;\n",
              "    }\n",
              "</style>\n",
              "<table border=\"1\" class=\"dataframe\">\n",
              "  <thead>\n",
              "    <tr style=\"text-align: right;\">\n",
              "      <th></th>\n",
              "      <th>word</th>\n",
              "      <th>pmi</th>\n",
              "    </tr>\n",
              "  </thead>\n",
              "  <tbody>\n",
              "    <tr>\n",
              "      <th>0</th>\n",
              "      <td>front desk</td>\n",
              "      <td>x  y        px        py       pxy  ...</td>\n",
              "    </tr>\n",
              "    <tr>\n",
              "      <th>1</th>\n",
              "      <td>stay hotel</td>\n",
              "      <td>x  y        px        py       pxy  ...</td>\n",
              "    </tr>\n",
              "    <tr>\n",
              "      <th>2</th>\n",
              "      <td>john wayn airport</td>\n",
              "      <td>x  y        px       py       pxy   ...</td>\n",
              "    </tr>\n",
              "    <tr>\n",
              "      <th>3</th>\n",
              "      <td>nthe room</td>\n",
              "      <td>x  y        px        py       pxy  ...</td>\n",
              "    </tr>\n",
              "    <tr>\n",
              "      <th>4</th>\n",
              "      <td>walk distanc</td>\n",
              "      <td>x  y        px        py       pxy  ...</td>\n",
              "    </tr>\n",
              "  </tbody>\n",
              "</table>\n",
              "</div>"
            ],
            "text/plain": [
              "                word                                                pmi\n",
              "0         front desk            x  y        px        py       pxy  ...\n",
              "1         stay hotel            x  y        px        py       pxy  ...\n",
              "2  john wayn airport            x  y        px       py       pxy   ...\n",
              "3          nthe room            x  y        px        py       pxy  ...\n",
              "4       walk distanc            x  y        px        py       pxy  ..."
            ]
          },
          "metadata": {
            "tags": []
          },
          "execution_count": 77
        }
      ]
    },
    {
      "cell_type": "markdown",
      "metadata": {
        "id": "jatruHlYpuL9",
        "colab_type": "text"
      },
      "source": [
        "#### **(c) Repeat this analysis for the single top and single bottom hotel (according to the ground truth rating). Do you gain any useful hotel-specific insights about what is good and bad about these two hotels? If not, explain why not.**"
      ]
    },
    {
      "cell_type": "markdown",
      "metadata": {
        "id": "Cq7OLpN6qxO1",
        "colab_type": "text"
      },
      "source": [
        "i) single word"
      ]
    },
    {
      "cell_type": "code",
      "metadata": {
        "id": "ARQOuyf4mmm8",
        "colab_type": "code",
        "colab": {}
      },
      "source": [
        "topbot_hotel = hotel_df[(hotel_df['hotel_name'] == 'Wyndham Irvine-Orange County Airport') | (hotel_df['hotel_name'] == 'AC Hotel by Marriott Irvine')]"
      ],
      "execution_count": 0,
      "outputs": []
    },
    {
      "cell_type": "code",
      "metadata": {
        "id": "2AGUQBPkvodU",
        "colab_type": "code",
        "outputId": "a8172533-8526-460b-a497-e5157bccd94d",
        "colab": {
          "base_uri": "https://localhost:8080/",
          "height": 363
        }
      },
      "source": [
        "topbot_hotel.head()"
      ],
      "execution_count": 0,
      "outputs": [
        {
          "output_type": "execute_result",
          "data": {
            "text/html": [
              "<div>\n",
              "<style scoped>\n",
              "    .dataframe tbody tr th:only-of-type {\n",
              "        vertical-align: middle;\n",
              "    }\n",
              "\n",
              "    .dataframe tbody tr th {\n",
              "        vertical-align: top;\n",
              "    }\n",
              "\n",
              "    .dataframe thead th {\n",
              "        text-align: right;\n",
              "    }\n",
              "</style>\n",
              "<table border=\"1\" class=\"dataframe\">\n",
              "  <thead>\n",
              "    <tr style=\"text-align: right;\">\n",
              "      <th></th>\n",
              "      <th>link</th>\n",
              "      <th>hotel_name</th>\n",
              "      <th>reviews</th>\n",
              "      <th>rating</th>\n",
              "      <th>sentiment</th>\n",
              "      <th>vader_score</th>\n",
              "      <th>review_clean</th>\n",
              "    </tr>\n",
              "  </thead>\n",
              "  <tbody>\n",
              "    <tr>\n",
              "      <th>300</th>\n",
              "      <td>data\\ca\\32530\\11914822\\473325085.html</td>\n",
              "      <td>AC Hotel by Marriott Irvine</td>\n",
              "      <td>\"Night shift manager Michael Williams will sim...</td>\n",
              "      <td>5</td>\n",
              "      <td>positive</td>\n",
              "      <td>0.8620</td>\n",
              "      <td>night shift manager michael williams simply go...</td>\n",
              "    </tr>\n",
              "    <tr>\n",
              "      <th>301</th>\n",
              "      <td>data\\ca\\32530\\11914822\\474845686.html</td>\n",
              "      <td>AC Hotel by Marriott Irvine</td>\n",
              "      <td>\"I came into the AC hotel today just to take a...</td>\n",
              "      <td>5</td>\n",
              "      <td>positive</td>\n",
              "      <td>0.9600</td>\n",
              "      <td>come ac hotel today take look lobby i've hear ...</td>\n",
              "    </tr>\n",
              "    <tr>\n",
              "      <th>302</th>\n",
              "      <td>data\\ca\\32530\\11914822\\477802928.html</td>\n",
              "      <td>AC Hotel by Marriott Irvine</td>\n",
              "      <td>\"I had drinks with some business associates an...</td>\n",
              "      <td>5</td>\n",
              "      <td>positive</td>\n",
              "      <td>0.9643</td>\n",
              "      <td>drink business associate pleasure serve clinto...</td>\n",
              "    </tr>\n",
              "    <tr>\n",
              "      <th>303</th>\n",
              "      <td>data\\ca\\32530\\11914822\\477808681.html</td>\n",
              "      <td>AC Hotel by Marriott Irvine</td>\n",
              "      <td>\"This is a lovely new property that is trying ...</td>\n",
              "      <td>4</td>\n",
              "      <td>positive</td>\n",
              "      <td>0.8376</td>\n",
              "      <td>lovely new property try hard european modular ...</td>\n",
              "    </tr>\n",
              "    <tr>\n",
              "      <th>304</th>\n",
              "      <td>data\\ca\\32530\\11914822\\477990192.html</td>\n",
              "      <td>AC Hotel by Marriott Irvine</td>\n",
              "      <td>\"This is a great new hotel in the OC!  I arriv...</td>\n",
              "      <td>5</td>\n",
              "      <td>positive</td>\n",
              "      <td>0.9587</td>\n",
              "      <td>great new hotel oc arrive long day travel fron...</td>\n",
              "    </tr>\n",
              "  </tbody>\n",
              "</table>\n",
              "</div>"
            ],
            "text/plain": [
              "                                      link  ...                                       review_clean\n",
              "300  data\\ca\\32530\\11914822\\473325085.html  ...  night shift manager michael williams simply go...\n",
              "301  data\\ca\\32530\\11914822\\474845686.html  ...  come ac hotel today take look lobby i've hear ...\n",
              "302  data\\ca\\32530\\11914822\\477802928.html  ...  drink business associate pleasure serve clinto...\n",
              "303  data\\ca\\32530\\11914822\\477808681.html  ...  lovely new property try hard european modular ...\n",
              "304  data\\ca\\32530\\11914822\\477990192.html  ...  great new hotel oc arrive long day travel fron...\n",
              "\n",
              "[5 rows x 7 columns]"
            ]
          },
          "metadata": {
            "tags": []
          },
          "execution_count": 79
        }
      ]
    },
    {
      "cell_type": "code",
      "metadata": {
        "id": "8UmWriL1mmdA",
        "colab_type": "code",
        "colab": {}
      },
      "source": [
        "topk, finaldf = MIdataFrameTransformation(topbot_hotel, reviewDF, k=50)"
      ],
      "execution_count": 0,
      "outputs": []
    },
    {
      "cell_type": "code",
      "metadata": {
        "id": "N2YpPCkapbU_",
        "colab_type": "code",
        "outputId": "94e80502-d1b6-4cc0-9df0-fb3269f71a7b",
        "colab": {
          "base_uri": "https://localhost:8080/",
          "height": 34
        }
      },
      "source": [
        "pmiposlist, pmineglist, pmidf = pmiForAllCal(finaldf)"
      ],
      "execution_count": 0,
      "outputs": [
        {
          "output_type": "stream",
          "text": [
            "100%|██████████| 50/50 [00:00<00:00, 67.89it/s]\n"
          ],
          "name": "stderr"
        }
      ]
    },
    {
      "cell_type": "code",
      "metadata": {
        "id": "8NpEGi2EpbR3",
        "colab_type": "code",
        "outputId": "2cd9242f-1097-4250-e9ad-06e7691da84e",
        "colab": {
          "base_uri": "https://localhost:8080/",
          "height": 343
        }
      },
      "source": [
        "#Sorted top pmi words for positive reviews\n",
        "pmiposlist.sort_values('pmi',ascending=0).head(10)"
      ],
      "execution_count": 0,
      "outputs": [
        {
          "output_type": "execute_result",
          "data": {
            "text/html": [
              "<div>\n",
              "<style scoped>\n",
              "    .dataframe tbody tr th:only-of-type {\n",
              "        vertical-align: middle;\n",
              "    }\n",
              "\n",
              "    .dataframe tbody tr th {\n",
              "        vertical-align: top;\n",
              "    }\n",
              "\n",
              "    .dataframe thead th {\n",
              "        text-align: right;\n",
              "    }\n",
              "</style>\n",
              "<table border=\"1\" class=\"dataframe\">\n",
              "  <thead>\n",
              "    <tr style=\"text-align: right;\">\n",
              "      <th></th>\n",
              "      <th>word</th>\n",
              "      <th>pmi</th>\n",
              "    </tr>\n",
              "  </thead>\n",
              "  <tbody>\n",
              "    <tr>\n",
              "      <th>41</th>\n",
              "      <td>helpful</td>\n",
              "      <td>0.150734</td>\n",
              "    </tr>\n",
              "    <tr>\n",
              "      <th>5</th>\n",
              "      <td>great</td>\n",
              "      <td>0.120743</td>\n",
              "    </tr>\n",
              "    <tr>\n",
              "      <th>40</th>\n",
              "      <td>irvine</td>\n",
              "      <td>0.116619</td>\n",
              "    </tr>\n",
              "    <tr>\n",
              "      <th>21</th>\n",
              "      <td>friendly</td>\n",
              "      <td>0.111383</td>\n",
              "    </tr>\n",
              "    <tr>\n",
              "      <th>31</th>\n",
              "      <td>comfortable</td>\n",
              "      <td>0.106019</td>\n",
              "    </tr>\n",
              "    <tr>\n",
              "      <th>43</th>\n",
              "      <td>restaurant</td>\n",
              "      <td>0.101014</td>\n",
              "    </tr>\n",
              "    <tr>\n",
              "      <th>39</th>\n",
              "      <td>close</td>\n",
              "      <td>0.098270</td>\n",
              "    </tr>\n",
              "    <tr>\n",
              "      <th>24</th>\n",
              "      <td>airport</td>\n",
              "      <td>0.089302</td>\n",
              "    </tr>\n",
              "    <tr>\n",
              "      <th>3</th>\n",
              "      <td>staff</td>\n",
              "      <td>0.083382</td>\n",
              "    </tr>\n",
              "    <tr>\n",
              "      <th>32</th>\n",
              "      <td>pool</td>\n",
              "      <td>0.074173</td>\n",
              "    </tr>\n",
              "  </tbody>\n",
              "</table>\n",
              "</div>"
            ],
            "text/plain": [
              "           word       pmi\n",
              "41      helpful  0.150734\n",
              "5         great  0.120743\n",
              "40       irvine  0.116619\n",
              "21     friendly  0.111383\n",
              "31  comfortable  0.106019\n",
              "43   restaurant  0.101014\n",
              "39        close  0.098270\n",
              "24      airport  0.089302\n",
              "3         staff  0.083382\n",
              "32         pool  0.074173"
            ]
          },
          "metadata": {
            "tags": []
          },
          "execution_count": 82
        }
      ]
    },
    {
      "cell_type": "code",
      "metadata": {
        "id": "ZoN-dNz5pbPH",
        "colab_type": "code",
        "outputId": "32a732e8-7993-4ca8-daaa-3bb56eaeee6a",
        "colab": {
          "base_uri": "https://localhost:8080/",
          "height": 343
        }
      },
      "source": [
        "#Sorted top pmi words for negative reviews\n",
        "pmineglist.sort_values('pmi',ascending=0).head(10)"
      ],
      "execution_count": 0,
      "outputs": [
        {
          "output_type": "execute_result",
          "data": {
            "text/html": [
              "<div>\n",
              "<style scoped>\n",
              "    .dataframe tbody tr th:only-of-type {\n",
              "        vertical-align: middle;\n",
              "    }\n",
              "\n",
              "    .dataframe tbody tr th {\n",
              "        vertical-align: top;\n",
              "    }\n",
              "\n",
              "    .dataframe thead th {\n",
              "        text-align: right;\n",
              "    }\n",
              "</style>\n",
              "<table border=\"1\" class=\"dataframe\">\n",
              "  <thead>\n",
              "    <tr style=\"text-align: right;\">\n",
              "      <th></th>\n",
              "      <th>word</th>\n",
              "      <th>pmi</th>\n",
              "    </tr>\n",
              "  </thead>\n",
              "  <tbody>\n",
              "    <tr>\n",
              "      <th>46</th>\n",
              "      <td>could</td>\n",
              "      <td>0.910878</td>\n",
              "    </tr>\n",
              "    <tr>\n",
              "      <th>49</th>\n",
              "      <td>look</td>\n",
              "      <td>0.674403</td>\n",
              "    </tr>\n",
              "    <tr>\n",
              "      <th>37</th>\n",
              "      <td>even</td>\n",
              "      <td>0.608412</td>\n",
              "    </tr>\n",
              "    <tr>\n",
              "      <th>11</th>\n",
              "      <td>get</td>\n",
              "      <td>0.535652</td>\n",
              "    </tr>\n",
              "    <tr>\n",
              "      <th>48</th>\n",
              "      <td>really</td>\n",
              "      <td>0.463740</td>\n",
              "    </tr>\n",
              "    <tr>\n",
              "      <th>28</th>\n",
              "      <td>park</td>\n",
              "      <td>0.408373</td>\n",
              "    </tr>\n",
              "    <tr>\n",
              "      <th>30</th>\n",
              "      <td>day</td>\n",
              "      <td>0.373133</td>\n",
              "    </tr>\n",
              "    <tr>\n",
              "      <th>12</th>\n",
              "      <td>would</td>\n",
              "      <td>0.349184</td>\n",
              "    </tr>\n",
              "    <tr>\n",
              "      <th>27</th>\n",
              "      <td>like</td>\n",
              "      <td>0.312509</td>\n",
              "    </tr>\n",
              "    <tr>\n",
              "      <th>16</th>\n",
              "      <td>go</td>\n",
              "      <td>0.295117</td>\n",
              "    </tr>\n",
              "  </tbody>\n",
              "</table>\n",
              "</div>"
            ],
            "text/plain": [
              "      word       pmi\n",
              "46   could  0.910878\n",
              "49    look  0.674403\n",
              "37    even  0.608412\n",
              "11     get  0.535652\n",
              "48  really  0.463740\n",
              "28    park  0.408373\n",
              "30     day  0.373133\n",
              "12   would  0.349184\n",
              "27    like  0.312509\n",
              "16      go  0.295117"
            ]
          },
          "metadata": {
            "tags": []
          },
          "execution_count": 83
        }
      ]
    },
    {
      "cell_type": "markdown",
      "metadata": {
        "id": "lA5L4B1w2Ljh",
        "colab_type": "text"
      },
      "source": [
        "# Q5. General Plots"
      ]
    },
    {
      "cell_type": "markdown",
      "metadata": {
        "id": "JxBSAdWG2LhC",
        "colab_type": "text"
      },
      "source": [
        "#### **(a) Histogram**\n",
        "\n",
        "#### **(a) Show separate histograms of ground truth and Vader sentiment scores (ignore hotel ID). Do you notice any interesting differences?**"
      ]
    },
    {
      "cell_type": "code",
      "metadata": {
        "id": "YFF2_OJ0iHq6",
        "colab_type": "code",
        "colab": {}
      },
      "source": [
        "topk, finaldf = MIdataFrameTransformation(hotel_df, reviewDF, k=50)"
      ],
      "execution_count": 0,
      "outputs": []
    },
    {
      "cell_type": "code",
      "metadata": {
        "id": "_UeNPttZ6UXF",
        "colab_type": "code",
        "colab": {}
      },
      "source": [
        "def getHistogram(measure, title):\n",
        "    if measure=='both':\n",
        "        x = [finaldf['rating'].values/5]\n",
        "        y = [finaldf['vader_score'].values]\n",
        "        bins = np.linspace(-1, 1, 100)\n",
        "        plt.title(title)\n",
        "        plt.hist(x, bins, label='x')\n",
        "        plt.hist(y, bins, label='y')\n",
        "        plt.legend(loc='upper right')\n",
        "        plt.show()\n",
        "    \n",
        "    else:\n",
        "        plt.hist(finaldf[measure].values)\n",
        "        plt.title(title)\n",
        "        plt.xlabel(\"Value\")\n",
        "        plt.ylabel(\"Frequency\")\n",
        "        fig = plt.gcf()"
      ],
      "execution_count": 0,
      "outputs": []
    },
    {
      "cell_type": "code",
      "metadata": {
        "id": "keI_26g67Yyv",
        "colab_type": "code",
        "outputId": "1f1c5ae3-87a3-4949-f708-fcb1b4b5811e",
        "colab": {
          "base_uri": "https://localhost:8080/",
          "height": 551
        }
      },
      "source": [
        "finaldf.head()"
      ],
      "execution_count": 0,
      "outputs": [
        {
          "output_type": "execute_result",
          "data": {
            "text/html": [
              "<div>\n",
              "<style scoped>\n",
              "    .dataframe tbody tr th:only-of-type {\n",
              "        vertical-align: middle;\n",
              "    }\n",
              "\n",
              "    .dataframe tbody tr th {\n",
              "        vertical-align: top;\n",
              "    }\n",
              "\n",
              "    .dataframe thead th {\n",
              "        text-align: right;\n",
              "    }\n",
              "</style>\n",
              "<table border=\"1\" class=\"dataframe\">\n",
              "  <thead>\n",
              "    <tr style=\"text-align: right;\">\n",
              "      <th></th>\n",
              "      <th>hotel_name</th>\n",
              "      <th>rating</th>\n",
              "      <th>sentiment</th>\n",
              "      <th>vader_score</th>\n",
              "      <th>review_clean</th>\n",
              "      <th>room</th>\n",
              "      <th>hotel</th>\n",
              "      <th>stay</th>\n",
              "      <th>staff</th>\n",
              "      <th>n</th>\n",
              "      <th>great</th>\n",
              "      <th>breakfast</th>\n",
              "      <th>clean</th>\n",
              "      <th>nice</th>\n",
              "      <th>good</th>\n",
              "      <th>area</th>\n",
              "      <th>get</th>\n",
              "      <th>would</th>\n",
              "      <th>one</th>\n",
              "      <th>service</th>\n",
              "      <th>night</th>\n",
              "      <th>go</th>\n",
              "      <th>make</th>\n",
              "      <th>time</th>\n",
              "      <th>well</th>\n",
              "      <th>desk</th>\n",
              "      <th>friendly</th>\n",
              "      <th>check</th>\n",
              "      <th>bed</th>\n",
              "      <th>airport</th>\n",
              "      <th>front</th>\n",
              "      <th>location</th>\n",
              "      <th>like</th>\n",
              "      <th>park</th>\n",
              "      <th>place</th>\n",
              "      <th>day</th>\n",
              "      <th>comfortable</th>\n",
              "      <th>pool</th>\n",
              "      <th>need</th>\n",
              "      <th>work</th>\n",
              "      <th>also</th>\n",
              "      <th>free</th>\n",
              "      <th>even</th>\n",
              "      <th>back</th>\n",
              "      <th>close</th>\n",
              "      <th>irvine</th>\n",
              "      <th>helpful</th>\n",
              "      <th>business</th>\n",
              "      <th>restaurant</th>\n",
              "      <th>come</th>\n",
              "      <th>food</th>\n",
              "      <th>could</th>\n",
              "      <th>take</th>\n",
              "      <th>really</th>\n",
              "      <th>look</th>\n",
              "    </tr>\n",
              "  </thead>\n",
              "  <tbody>\n",
              "    <tr>\n",
              "      <th>0</th>\n",
              "      <td>Homewood Suites by Hilton Irvine John Wayne Ai...</td>\n",
              "      <td>5</td>\n",
              "      <td>positive</td>\n",
              "      <td>0.9796</td>\n",
              "      <td>recommend hotel everyone new hotel clean staff...</td>\n",
              "      <td>0</td>\n",
              "      <td>1</td>\n",
              "      <td>0</td>\n",
              "      <td>1</td>\n",
              "      <td>0</td>\n",
              "      <td>0</td>\n",
              "      <td>0</td>\n",
              "      <td>1</td>\n",
              "      <td>1</td>\n",
              "      <td>0</td>\n",
              "      <td>0</td>\n",
              "      <td>0</td>\n",
              "      <td>0</td>\n",
              "      <td>0</td>\n",
              "      <td>0</td>\n",
              "      <td>0</td>\n",
              "      <td>0</td>\n",
              "      <td>0</td>\n",
              "      <td>0</td>\n",
              "      <td>0</td>\n",
              "      <td>0</td>\n",
              "      <td>0</td>\n",
              "      <td>0</td>\n",
              "      <td>0</td>\n",
              "      <td>0</td>\n",
              "      <td>0</td>\n",
              "      <td>0</td>\n",
              "      <td>0</td>\n",
              "      <td>0</td>\n",
              "      <td>0</td>\n",
              "      <td>1</td>\n",
              "      <td>0</td>\n",
              "      <td>0</td>\n",
              "      <td>1</td>\n",
              "      <td>0</td>\n",
              "      <td>0</td>\n",
              "      <td>0</td>\n",
              "      <td>0</td>\n",
              "      <td>0</td>\n",
              "      <td>0</td>\n",
              "      <td>0</td>\n",
              "      <td>1</td>\n",
              "      <td>0</td>\n",
              "      <td>0</td>\n",
              "      <td>0</td>\n",
              "      <td>0</td>\n",
              "      <td>0</td>\n",
              "      <td>0</td>\n",
              "      <td>0</td>\n",
              "      <td>0</td>\n",
              "    </tr>\n",
              "    <tr>\n",
              "      <th>1</th>\n",
              "      <td>Homewood Suites by Hilton Irvine John Wayne Ai...</td>\n",
              "      <td>4</td>\n",
              "      <td>positive</td>\n",
              "      <td>0.4543</td>\n",
              "      <td>brand new well design hotel like everything ho...</td>\n",
              "      <td>0</td>\n",
              "      <td>1</td>\n",
              "      <td>0</td>\n",
              "      <td>0</td>\n",
              "      <td>0</td>\n",
              "      <td>0</td>\n",
              "      <td>0</td>\n",
              "      <td>0</td>\n",
              "      <td>0</td>\n",
              "      <td>0</td>\n",
              "      <td>0</td>\n",
              "      <td>0</td>\n",
              "      <td>0</td>\n",
              "      <td>0</td>\n",
              "      <td>0</td>\n",
              "      <td>0</td>\n",
              "      <td>0</td>\n",
              "      <td>0</td>\n",
              "      <td>0</td>\n",
              "      <td>1</td>\n",
              "      <td>0</td>\n",
              "      <td>0</td>\n",
              "      <td>0</td>\n",
              "      <td>1</td>\n",
              "      <td>0</td>\n",
              "      <td>0</td>\n",
              "      <td>0</td>\n",
              "      <td>1</td>\n",
              "      <td>0</td>\n",
              "      <td>0</td>\n",
              "      <td>0</td>\n",
              "      <td>0</td>\n",
              "      <td>0</td>\n",
              "      <td>0</td>\n",
              "      <td>0</td>\n",
              "      <td>0</td>\n",
              "      <td>0</td>\n",
              "      <td>0</td>\n",
              "      <td>0</td>\n",
              "      <td>0</td>\n",
              "      <td>0</td>\n",
              "      <td>0</td>\n",
              "      <td>0</td>\n",
              "      <td>0</td>\n",
              "      <td>0</td>\n",
              "      <td>0</td>\n",
              "      <td>0</td>\n",
              "      <td>0</td>\n",
              "      <td>0</td>\n",
              "      <td>0</td>\n",
              "    </tr>\n",
              "    <tr>\n",
              "      <th>2</th>\n",
              "      <td>Homewood Suites by Hilton Irvine John Wayne Ai...</td>\n",
              "      <td>4</td>\n",
              "      <td>positive</td>\n",
              "      <td>0.9585</td>\n",
              "      <td>stay start little rough adult child book one l...</td>\n",
              "      <td>1</td>\n",
              "      <td>1</td>\n",
              "      <td>1</td>\n",
              "      <td>1</td>\n",
              "      <td>0</td>\n",
              "      <td>1</td>\n",
              "      <td>1</td>\n",
              "      <td>1</td>\n",
              "      <td>1</td>\n",
              "      <td>1</td>\n",
              "      <td>1</td>\n",
              "      <td>1</td>\n",
              "      <td>0</td>\n",
              "      <td>1</td>\n",
              "      <td>0</td>\n",
              "      <td>0</td>\n",
              "      <td>0</td>\n",
              "      <td>1</td>\n",
              "      <td>0</td>\n",
              "      <td>0</td>\n",
              "      <td>1</td>\n",
              "      <td>0</td>\n",
              "      <td>0</td>\n",
              "      <td>1</td>\n",
              "      <td>0</td>\n",
              "      <td>1</td>\n",
              "      <td>0</td>\n",
              "      <td>0</td>\n",
              "      <td>0</td>\n",
              "      <td>0</td>\n",
              "      <td>1</td>\n",
              "      <td>0</td>\n",
              "      <td>1</td>\n",
              "      <td>0</td>\n",
              "      <td>0</td>\n",
              "      <td>0</td>\n",
              "      <td>0</td>\n",
              "      <td>0</td>\n",
              "      <td>0</td>\n",
              "      <td>0</td>\n",
              "      <td>0</td>\n",
              "      <td>0</td>\n",
              "      <td>0</td>\n",
              "      <td>0</td>\n",
              "      <td>0</td>\n",
              "      <td>0</td>\n",
              "      <td>0</td>\n",
              "      <td>0</td>\n",
              "      <td>0</td>\n",
              "      <td>0</td>\n",
              "    </tr>\n",
              "    <tr>\n",
              "      <th>3</th>\n",
              "      <td>Homewood Suites by Hilton Irvine John Wayne Ai...</td>\n",
              "      <td>5</td>\n",
              "      <td>positive</td>\n",
              "      <td>0.9571</td>\n",
              "      <td>select hotel base upon passed positive experie...</td>\n",
              "      <td>1</td>\n",
              "      <td>1</td>\n",
              "      <td>0</td>\n",
              "      <td>1</td>\n",
              "      <td>0</td>\n",
              "      <td>0</td>\n",
              "      <td>1</td>\n",
              "      <td>0</td>\n",
              "      <td>0</td>\n",
              "      <td>0</td>\n",
              "      <td>0</td>\n",
              "      <td>0</td>\n",
              "      <td>1</td>\n",
              "      <td>1</td>\n",
              "      <td>0</td>\n",
              "      <td>1</td>\n",
              "      <td>0</td>\n",
              "      <td>0</td>\n",
              "      <td>0</td>\n",
              "      <td>0</td>\n",
              "      <td>1</td>\n",
              "      <td>1</td>\n",
              "      <td>0</td>\n",
              "      <td>1</td>\n",
              "      <td>0</td>\n",
              "      <td>1</td>\n",
              "      <td>1</td>\n",
              "      <td>0</td>\n",
              "      <td>0</td>\n",
              "      <td>0</td>\n",
              "      <td>0</td>\n",
              "      <td>1</td>\n",
              "      <td>0</td>\n",
              "      <td>0</td>\n",
              "      <td>1</td>\n",
              "      <td>0</td>\n",
              "      <td>0</td>\n",
              "      <td>0</td>\n",
              "      <td>0</td>\n",
              "      <td>0</td>\n",
              "      <td>0</td>\n",
              "      <td>1</td>\n",
              "      <td>0</td>\n",
              "      <td>0</td>\n",
              "      <td>0</td>\n",
              "      <td>0</td>\n",
              "      <td>0</td>\n",
              "      <td>0</td>\n",
              "      <td>0</td>\n",
              "      <td>0</td>\n",
              "    </tr>\n",
              "    <tr>\n",
              "      <th>4</th>\n",
              "      <td>Homewood Suites by Hilton Irvine John Wayne Ai...</td>\n",
              "      <td>5</td>\n",
              "      <td>positive</td>\n",
              "      <td>0.9509</td>\n",
              "      <td>hopefully opportunity visit near future suite ...</td>\n",
              "      <td>1</td>\n",
              "      <td>0</td>\n",
              "      <td>0</td>\n",
              "      <td>1</td>\n",
              "      <td>1</td>\n",
              "      <td>0</td>\n",
              "      <td>0</td>\n",
              "      <td>1</td>\n",
              "      <td>0</td>\n",
              "      <td>0</td>\n",
              "      <td>1</td>\n",
              "      <td>0</td>\n",
              "      <td>0</td>\n",
              "      <td>0</td>\n",
              "      <td>0</td>\n",
              "      <td>0</td>\n",
              "      <td>0</td>\n",
              "      <td>0</td>\n",
              "      <td>0</td>\n",
              "      <td>1</td>\n",
              "      <td>0</td>\n",
              "      <td>1</td>\n",
              "      <td>0</td>\n",
              "      <td>0</td>\n",
              "      <td>0</td>\n",
              "      <td>0</td>\n",
              "      <td>0</td>\n",
              "      <td>0</td>\n",
              "      <td>0</td>\n",
              "      <td>0</td>\n",
              "      <td>0</td>\n",
              "      <td>0</td>\n",
              "      <td>1</td>\n",
              "      <td>1</td>\n",
              "      <td>1</td>\n",
              "      <td>0</td>\n",
              "      <td>0</td>\n",
              "      <td>0</td>\n",
              "      <td>0</td>\n",
              "      <td>0</td>\n",
              "      <td>0</td>\n",
              "      <td>1</td>\n",
              "      <td>0</td>\n",
              "      <td>0</td>\n",
              "      <td>0</td>\n",
              "      <td>0</td>\n",
              "      <td>0</td>\n",
              "      <td>0</td>\n",
              "      <td>0</td>\n",
              "      <td>0</td>\n",
              "    </tr>\n",
              "  </tbody>\n",
              "</table>\n",
              "</div>"
            ],
            "text/plain": [
              "                                          hotel_name  rating  ... really  look\n",
              "0  Homewood Suites by Hilton Irvine John Wayne Ai...       5  ...      0     0\n",
              "1  Homewood Suites by Hilton Irvine John Wayne Ai...       4  ...      0     0\n",
              "2  Homewood Suites by Hilton Irvine John Wayne Ai...       4  ...      0     0\n",
              "3  Homewood Suites by Hilton Irvine John Wayne Ai...       5  ...      0     0\n",
              "4  Homewood Suites by Hilton Irvine John Wayne Ai...       5  ...      0     0\n",
              "\n",
              "[5 rows x 55 columns]"
            ]
          },
          "metadata": {
            "tags": []
          },
          "execution_count": 86
        }
      ]
    },
    {
      "cell_type": "code",
      "metadata": {
        "id": "fPWk68jQ6UT2",
        "colab_type": "code",
        "outputId": "0063b937-e2f0-449b-e029-88b065619d22",
        "colab": {
          "base_uri": "https://localhost:8080/",
          "height": 295
        }
      },
      "source": [
        "getHistogram('rating', 'Ground Truth')"
      ],
      "execution_count": 0,
      "outputs": [
        {
          "output_type": "display_data",
          "data": {
            "image/png": "[encoded data removed]",
            "text/plain": [
              "<Figure size 432x288 with 1 Axes>"
            ]
          },
          "metadata": {
            "tags": []
          }
        }
      ]
    },
    {
      "cell_type": "code",
      "metadata": {
        "id": "s4_WKvA97xTa",
        "colab_type": "code",
        "outputId": "bbdd666d-3e9b-42e6-d00d-0eeb7d60f191",
        "colab": {
          "base_uri": "https://localhost:8080/",
          "height": 295
        }
      },
      "source": [
        "getHistogram('vader_score', 'Vadar Sentiment Analysis')"
      ],
      "execution_count": 0,
      "outputs": [
        {
          "output_type": "display_data",
          "data": {
            "image/png": "[encoded data removed]",
            "text/plain": [
              "<Figure size 432x288 with 1 Axes>"
            ]
          },
          "metadata": {
            "tags": []
          }
        }
      ]
    },
    {
      "cell_type": "code",
      "metadata": {
        "id": "I9yxYa8F8Gw4",
        "colab_type": "code",
        "outputId": "b2e2a994-fa9e-4ddc-c756-3fab5747a2bd",
        "colab": {
          "base_uri": "https://localhost:8080/",
          "height": 281
        }
      },
      "source": [
        "getHistogram('both', 'Ground Truth v.s Vader')\n",
        "# x is rating y is vader"
      ],
      "execution_count": 0,
      "outputs": [
        {
          "output_type": "display_data",
          "data": {
            "image/png": "[encoded data removed]",
            "text/plain": [
              "<Figure size 432x288 with 1 Axes>"
            ]
          },
          "metadata": {
            "tags": []
          }
        }
      ]
    },
    {
      "cell_type": "markdown",
      "metadata": {
        "id": "ko2yOF288Zeo",
        "colab_type": "text"
      },
      "source": [
        "#### **(b) Show a histogram of the number of reviews per hotel. Do you notice any interesting trends? Are these expected?**\n"
      ]
    },
    {
      "cell_type": "code",
      "metadata": {
        "id": "5BYw2b959Jdn",
        "colab_type": "code",
        "outputId": "def79a99-ca34-436a-f80c-29c3ee837fc4",
        "colab": {
          "base_uri": "https://localhost:8080/",
          "height": 994
        }
      },
      "source": [
        "# show count of hotel reviews\n",
        "review_counts = hotel_df.groupby(['hotel_name']).count().reset_index()[['hotel_name', 'reviews']]\n",
        "review_counts.columns = ['hotel_name', 'review_counts']\n",
        "review_counts.sort_values(by = 'review_counts', ascending = 0)"
      ],
      "execution_count": 0,
      "outputs": [
        {
          "output_type": "execute_result",
          "data": {
            "text/html": [
              "<div>\n",
              "<style scoped>\n",
              "    .dataframe tbody tr th:only-of-type {\n",
              "        vertical-align: middle;\n",
              "    }\n",
              "\n",
              "    .dataframe tbody tr th {\n",
              "        vertical-align: top;\n",
              "    }\n",
              "\n",
              "    .dataframe thead th {\n",
              "        text-align: right;\n",
              "    }\n",
              "</style>\n",
              "<table border=\"1\" class=\"dataframe\">\n",
              "  <thead>\n",
              "    <tr style=\"text-align: right;\">\n",
              "      <th></th>\n",
              "      <th>hotel_name</th>\n",
              "      <th>review_counts</th>\n",
              "    </tr>\n",
              "  </thead>\n",
              "  <tbody>\n",
              "    <tr>\n",
              "      <th>16</th>\n",
              "      <td>Hilton Garden Inn Irvine / Orange County Airport</td>\n",
              "      <td>300</td>\n",
              "    </tr>\n",
              "    <tr>\n",
              "      <th>10</th>\n",
              "      <td>Embassy Suites by Hilton Irvine - Orange Count...</td>\n",
              "      <td>300</td>\n",
              "    </tr>\n",
              "    <tr>\n",
              "      <th>24</th>\n",
              "      <td>La Quinta Inn &amp;amp; Suites by Wyndham Orange C...</td>\n",
              "      <td>300</td>\n",
              "    </tr>\n",
              "    <tr>\n",
              "      <th>23</th>\n",
              "      <td>La Quinta Inn &amp;amp; Suites by Wyndham Irvine S...</td>\n",
              "      <td>300</td>\n",
              "    </tr>\n",
              "    <tr>\n",
              "      <th>20</th>\n",
              "      <td>Hotel Irvine</td>\n",
              "      <td>300</td>\n",
              "    </tr>\n",
              "    <tr>\n",
              "      <th>19</th>\n",
              "      <td>Homewood Suites by Hilton Irvine John Wayne Ai...</td>\n",
              "      <td>300</td>\n",
              "    </tr>\n",
              "    <tr>\n",
              "      <th>17</th>\n",
              "      <td>Hilton Irvine/Orange County Airport</td>\n",
              "      <td>300</td>\n",
              "    </tr>\n",
              "    <tr>\n",
              "      <th>15</th>\n",
              "      <td>Hampton Inn &amp;amp; Suites Santa Ana/Orange Coun...</td>\n",
              "      <td>300</td>\n",
              "    </tr>\n",
              "    <tr>\n",
              "      <th>11</th>\n",
              "      <td>Embassy Suites by Hilton Santa Ana Orange Coun...</td>\n",
              "      <td>300</td>\n",
              "    </tr>\n",
              "    <tr>\n",
              "      <th>31</th>\n",
              "      <td>Wyndham Irvine-Orange County Airport</td>\n",
              "      <td>300</td>\n",
              "    </tr>\n",
              "    <tr>\n",
              "      <th>2</th>\n",
              "      <td>Best Western Plus Orange County Airport North</td>\n",
              "      <td>299</td>\n",
              "    </tr>\n",
              "    <tr>\n",
              "      <th>9</th>\n",
              "      <td>DoubleTree by Hilton Hotel Irvine - Spectrum</td>\n",
              "      <td>285</td>\n",
              "    </tr>\n",
              "    <tr>\n",
              "      <th>18</th>\n",
              "      <td>Holiday Inn Santa Ana-Orange County Airport</td>\n",
              "      <td>240</td>\n",
              "    </tr>\n",
              "    <tr>\n",
              "      <th>6</th>\n",
              "      <td>Country Inn &amp;amp; Suites by Radisson, John Way...</td>\n",
              "      <td>230</td>\n",
              "    </tr>\n",
              "    <tr>\n",
              "      <th>30</th>\n",
              "      <td>SpringHill Suites Irvine John Wayne Airport/Or...</td>\n",
              "      <td>190</td>\n",
              "    </tr>\n",
              "    <tr>\n",
              "      <th>1</th>\n",
              "      <td>Atrium Hotel at Orange County Airport</td>\n",
              "      <td>185</td>\n",
              "    </tr>\n",
              "    <tr>\n",
              "      <th>14</th>\n",
              "      <td>Hampton Inn &amp;amp; Suites Irvine-Orange County ...</td>\n",
              "      <td>163</td>\n",
              "    </tr>\n",
              "    <tr>\n",
              "      <th>28</th>\n",
              "      <td>Residence Inn Irvine John Wayne Airport/Orange...</td>\n",
              "      <td>157</td>\n",
              "    </tr>\n",
              "    <tr>\n",
              "      <th>8</th>\n",
              "      <td>Courtyard by Marriott Irvine Spectrum</td>\n",
              "      <td>155</td>\n",
              "    </tr>\n",
              "    <tr>\n",
              "      <th>0</th>\n",
              "      <td>AC Hotel by Marriott Irvine</td>\n",
              "      <td>135</td>\n",
              "    </tr>\n",
              "    <tr>\n",
              "      <th>7</th>\n",
              "      <td>Courtyard Irvine John Wayne Airport/Orange County</td>\n",
              "      <td>113</td>\n",
              "    </tr>\n",
              "    <tr>\n",
              "      <th>21</th>\n",
              "      <td>Hyatt House Irvine/John Wayne Airport</td>\n",
              "      <td>110</td>\n",
              "    </tr>\n",
              "    <tr>\n",
              "      <th>5</th>\n",
              "      <td>Comfort Inn &amp;amp; Suites Orange County John Wa...</td>\n",
              "      <td>106</td>\n",
              "    </tr>\n",
              "    <tr>\n",
              "      <th>12</th>\n",
              "      <td>Extended Stay America - Orange County - Irvine...</td>\n",
              "      <td>90</td>\n",
              "    </tr>\n",
              "    <tr>\n",
              "      <th>22</th>\n",
              "      <td>Irvine Marriott</td>\n",
              "      <td>70</td>\n",
              "    </tr>\n",
              "    <tr>\n",
              "      <th>29</th>\n",
              "      <td>Residence Inn by Marriott Irvine Spectrum</td>\n",
              "      <td>60</td>\n",
              "    </tr>\n",
              "    <tr>\n",
              "      <th>25</th>\n",
              "      <td>Marriott Irvine Spectrum</td>\n",
              "      <td>58</td>\n",
              "    </tr>\n",
              "    <tr>\n",
              "      <th>4</th>\n",
              "      <td>Candlewood Suites Orange County, Irvine Spectrum</td>\n",
              "      <td>48</td>\n",
              "    </tr>\n",
              "    <tr>\n",
              "      <th>3</th>\n",
              "      <td>Candlewood Suites Orange County Airport Irvine...</td>\n",
              "      <td>41</td>\n",
              "    </tr>\n",
              "    <tr>\n",
              "      <th>26</th>\n",
              "      <td>Motel 6 Irvine - Orange County Airport</td>\n",
              "      <td>26</td>\n",
              "    </tr>\n",
              "    <tr>\n",
              "      <th>13</th>\n",
              "      <td>Global Luxury Suites at The Village</td>\n",
              "      <td>4</td>\n",
              "    </tr>\n",
              "    <tr>\n",
              "      <th>27</th>\n",
              "      <td>Oakwood At The Charter</td>\n",
              "      <td>1</td>\n",
              "    </tr>\n",
              "  </tbody>\n",
              "</table>\n",
              "</div>"
            ],
            "text/plain": [
              "                                           hotel_name  review_counts\n",
              "16   Hilton Garden Inn Irvine / Orange County Airport            300\n",
              "10  Embassy Suites by Hilton Irvine - Orange Count...            300\n",
              "24  La Quinta Inn &amp; Suites by Wyndham Orange C...            300\n",
              "23  La Quinta Inn &amp; Suites by Wyndham Irvine S...            300\n",
              "20                                       Hotel Irvine            300\n",
              "19  Homewood Suites by Hilton Irvine John Wayne Ai...            300\n",
              "17                Hilton Irvine/Orange County Airport            300\n",
              "15  Hampton Inn &amp; Suites Santa Ana/Orange Coun...            300\n",
              "11  Embassy Suites by Hilton Santa Ana Orange Coun...            300\n",
              "31               Wyndham Irvine-Orange County Airport            300\n",
              "2       Best Western Plus Orange County Airport North            299\n",
              "9        DoubleTree by Hilton Hotel Irvine - Spectrum            285\n",
              "18        Holiday Inn Santa Ana-Orange County Airport            240\n",
              "6   Country Inn &amp; Suites by Radisson, John Way...            230\n",
              "30  SpringHill Suites Irvine John Wayne Airport/Or...            190\n",
              "1               Atrium Hotel at Orange County Airport            185\n",
              "14  Hampton Inn &amp; Suites Irvine-Orange County ...            163\n",
              "28  Residence Inn Irvine John Wayne Airport/Orange...            157\n",
              "8               Courtyard by Marriott Irvine Spectrum            155\n",
              "0                         AC Hotel by Marriott Irvine            135\n",
              "7   Courtyard Irvine John Wayne Airport/Orange County            113\n",
              "21              Hyatt House Irvine/John Wayne Airport            110\n",
              "5   Comfort Inn &amp; Suites Orange County John Wa...            106\n",
              "12  Extended Stay America - Orange County - Irvine...             90\n",
              "22                                    Irvine Marriott             70\n",
              "29          Residence Inn by Marriott Irvine Spectrum             60\n",
              "25                           Marriott Irvine Spectrum             58\n",
              "4    Candlewood Suites Orange County, Irvine Spectrum             48\n",
              "3   Candlewood Suites Orange County Airport Irvine...             41\n",
              "26             Motel 6 Irvine - Orange County Airport             26\n",
              "13                Global Luxury Suites at The Village              4\n",
              "27                             Oakwood At The Charter              1"
            ]
          },
          "metadata": {
            "tags": []
          },
          "execution_count": 90
        }
      ]
    },
    {
      "cell_type": "code",
      "metadata": {
        "id": "1rJT4yJe8Ytx",
        "colab_type": "code",
        "outputId": "bb0cce37-ddce-45be-cfa3-041645801274",
        "colab": {
          "base_uri": "https://localhost:8080/",
          "height": 831
        }
      },
      "source": [
        "# plot the histgram plot shows different methods\n",
        "\n",
        "hotelname1 = review_counts['hotel_name']\n",
        "hotelname1 = list(hotelname1)\n",
        "\n",
        "x1 = hotelname1\n",
        "y1 = review_counts.review_counts\n",
        "#print(y1)\n",
        "\n",
        "x_pos1 = [i for i, _ in enumerate(x1)]\n",
        "\n",
        "fig = plt.figure(figsize=(13,8))\n",
        "plt.bar(x_pos1, y1, color='blue', width = 0.6)\n",
        "plt.xlabel(\"hotel name\", labelpad = 10)\n",
        "plt.ylabel(\"counts\")\n",
        "plt.title(\"# of reviews by each hotel\")\n",
        "\n",
        "plt.xticks(x_pos1, x1, rotation= 'vertical')\n",
        "plt.show()"
      ],
      "execution_count": 0,
      "outputs": [
        {
          "output_type": "display_data",
          "data": {
            "image/png": "[encoded data removed]",
            "text/plain": [
              "<Figure size 936x576 with 1 Axes>"
            ]
          },
          "metadata": {
            "tags": []
          }
        }
      ]
    },
    {
      "cell_type": "markdown",
      "metadata": {
        "id": "J8G4dwPu6CHx",
        "colab_type": "text"
      },
      "source": [
        "#### **(b) Boxplots**\n",
        "\n",
        "#### **(a) In two plots, one for ground truth star rating and one for Vader sentiment, show a plot of 5 side-by-side boxplots of these scores.**"
      ]
    },
    {
      "cell_type": "code",
      "metadata": {
        "id": "u8jVhOXCBS2i",
        "colab_type": "code",
        "outputId": "20ad9402-dd6b-4f79-a36b-92580e7147b1",
        "colab": {
          "base_uri": "https://localhost:8080/",
          "height": 195
        }
      },
      "source": [
        "vader_mean_rating.sort_values(by = 'vader_avg_rating', ascending = 0).head()"
      ],
      "execution_count": 0,
      "outputs": [
        {
          "output_type": "execute_result",
          "data": {
            "text/html": [
              "<div>\n",
              "<style scoped>\n",
              "    .dataframe tbody tr th:only-of-type {\n",
              "        vertical-align: middle;\n",
              "    }\n",
              "\n",
              "    .dataframe tbody tr th {\n",
              "        vertical-align: top;\n",
              "    }\n",
              "\n",
              "    .dataframe thead th {\n",
              "        text-align: right;\n",
              "    }\n",
              "</style>\n",
              "<table border=\"1\" class=\"dataframe\">\n",
              "  <thead>\n",
              "    <tr style=\"text-align: right;\">\n",
              "      <th></th>\n",
              "      <th>hotel_name</th>\n",
              "      <th>vader_avg_rating</th>\n",
              "    </tr>\n",
              "  </thead>\n",
              "  <tbody>\n",
              "    <tr>\n",
              "      <th>19</th>\n",
              "      <td>Homewood Suites by Hilton Irvine John Wayne Ai...</td>\n",
              "      <td>0.884557</td>\n",
              "    </tr>\n",
              "    <tr>\n",
              "      <th>8</th>\n",
              "      <td>Courtyard by Marriott Irvine Spectrum</td>\n",
              "      <td>0.881146</td>\n",
              "    </tr>\n",
              "    <tr>\n",
              "      <th>14</th>\n",
              "      <td>Hampton Inn &amp;amp; Suites Irvine-Orange County ...</td>\n",
              "      <td>0.878928</td>\n",
              "    </tr>\n",
              "    <tr>\n",
              "      <th>0</th>\n",
              "      <td>AC Hotel by Marriott Irvine</td>\n",
              "      <td>0.855282</td>\n",
              "    </tr>\n",
              "    <tr>\n",
              "      <th>18</th>\n",
              "      <td>Holiday Inn Santa Ana-Orange County Airport</td>\n",
              "      <td>0.834031</td>\n",
              "    </tr>\n",
              "  </tbody>\n",
              "</table>\n",
              "</div>"
            ],
            "text/plain": [
              "                                           hotel_name  vader_avg_rating\n",
              "19  Homewood Suites by Hilton Irvine John Wayne Ai...          0.884557\n",
              "8               Courtyard by Marriott Irvine Spectrum          0.881146\n",
              "14  Hampton Inn &amp; Suites Irvine-Orange County ...          0.878928\n",
              "0                         AC Hotel by Marriott Irvine          0.855282\n",
              "18        Holiday Inn Santa Ana-Orange County Airport          0.834031"
            ]
          },
          "metadata": {
            "tags": []
          },
          "execution_count": 92
        }
      ]
    },
    {
      "cell_type": "code",
      "metadata": {
        "id": "L3HExvz3BS0p",
        "colab_type": "code",
        "outputId": "8d4b3e8c-9931-49a7-b2e7-019e8d8d70b0",
        "colab": {
          "base_uri": "https://localhost:8080/",
          "height": 225
        }
      },
      "source": [
        "ground_mean_rating.sort_values(by = 'ground_avg_rating', ascending = 0).head(6)"
      ],
      "execution_count": 0,
      "outputs": [
        {
          "output_type": "execute_result",
          "data": {
            "text/html": [
              "<div>\n",
              "<style scoped>\n",
              "    .dataframe tbody tr th:only-of-type {\n",
              "        vertical-align: middle;\n",
              "    }\n",
              "\n",
              "    .dataframe tbody tr th {\n",
              "        vertical-align: top;\n",
              "    }\n",
              "\n",
              "    .dataframe thead th {\n",
              "        text-align: right;\n",
              "    }\n",
              "</style>\n",
              "<table border=\"1\" class=\"dataframe\">\n",
              "  <thead>\n",
              "    <tr style=\"text-align: right;\">\n",
              "      <th></th>\n",
              "      <th>hotel_name</th>\n",
              "      <th>ground_avg_rating</th>\n",
              "    </tr>\n",
              "  </thead>\n",
              "  <tbody>\n",
              "    <tr>\n",
              "      <th>27</th>\n",
              "      <td>Oakwood At The Charter</td>\n",
              "      <td>5.000000</td>\n",
              "    </tr>\n",
              "    <tr>\n",
              "      <th>19</th>\n",
              "      <td>Homewood Suites by Hilton Irvine John Wayne Ai...</td>\n",
              "      <td>4.796667</td>\n",
              "    </tr>\n",
              "    <tr>\n",
              "      <th>14</th>\n",
              "      <td>Hampton Inn &amp;amp; Suites Irvine-Orange County ...</td>\n",
              "      <td>4.717791</td>\n",
              "    </tr>\n",
              "    <tr>\n",
              "      <th>21</th>\n",
              "      <td>Hyatt House Irvine/John Wayne Airport</td>\n",
              "      <td>4.618182</td>\n",
              "    </tr>\n",
              "    <tr>\n",
              "      <th>8</th>\n",
              "      <td>Courtyard by Marriott Irvine Spectrum</td>\n",
              "      <td>4.580645</td>\n",
              "    </tr>\n",
              "    <tr>\n",
              "      <th>0</th>\n",
              "      <td>AC Hotel by Marriott Irvine</td>\n",
              "      <td>4.562963</td>\n",
              "    </tr>\n",
              "  </tbody>\n",
              "</table>\n",
              "</div>"
            ],
            "text/plain": [
              "                                           hotel_name  ground_avg_rating\n",
              "27                             Oakwood At The Charter           5.000000\n",
              "19  Homewood Suites by Hilton Irvine John Wayne Ai...           4.796667\n",
              "14  Hampton Inn &amp; Suites Irvine-Orange County ...           4.717791\n",
              "21              Hyatt House Irvine/John Wayne Airport           4.618182\n",
              "8               Courtyard by Marriott Irvine Spectrum           4.580645\n",
              "0                         AC Hotel by Marriott Irvine           4.562963"
            ]
          },
          "metadata": {
            "tags": []
          },
          "execution_count": 93
        }
      ]
    },
    {
      "cell_type": "code",
      "metadata": {
        "id": "6EWsw1HQBDJa",
        "colab_type": "code",
        "outputId": "cd06d4c6-a5b7-45e7-9920-9a999beb3597",
        "colab": {
          "base_uri": "https://localhost:8080/",
          "height": 265
        }
      },
      "source": [
        "#Plot top 5 side-by-side boxplot for top 5 ground truth rated hotel\n",
        "tp5gthotel = ground_mean_rating.sort_values('ground_avg_rating',ascending=0).head(6)\n",
        "tp5gthotel['hotel_name'].values\n",
        "\n",
        "Homewood = finaldf.loc[finaldf['hotel_name'] == tp5gthotel['hotel_name'].values[1]]['rating']\n",
        "HamptonInnamp = finaldf.loc[finaldf['hotel_name'] == tp5gthotel['hotel_name'].values[2]]['rating']\n",
        "HyattHouseIrvine = finaldf.loc[finaldf['hotel_name'] == tp5gthotel['hotel_name'].values[3]]['rating']\n",
        "Courtyard = finaldf.loc[finaldf['hotel_name'] == tp5gthotel['hotel_name'].values[4]]['rating']\n",
        "ACHotel = finaldf.loc[finaldf['hotel_name'] == tp5gthotel['hotel_name'].values[5]]['rating']\n",
        "\n",
        "data = [Homewood, HamptonInnamp, HyattHouseIrvine, Courtyard, ACHotel]\n",
        "# multiple box plots on one figure\n",
        "plt.figure()\n",
        "plt.boxplot(data)\n",
        "plt.show()"
      ],
      "execution_count": 0,
      "outputs": [
        {
          "output_type": "display_data",
          "data": {
            "image/png": "[encoded data removed]",
            "text/plain": [
              "<Figure size 432x288 with 1 Axes>"
            ]
          },
          "metadata": {
            "tags": []
          }
        }
      ]
    },
    {
      "cell_type": "code",
      "metadata": {
        "id": "euZSJ1fQi9gl",
        "colab_type": "code",
        "outputId": "69966307-f2ae-4928-dfa8-e6fb90f5c819",
        "colab": {
          "base_uri": "https://localhost:8080/",
          "height": 265
        }
      },
      "source": [
        "#Plot top 5 side-by-side boxplot for top 5  vader rated hotel\n",
        "tp5gthotel = vader_mean_rating.sort_values('vader_avg_rating',ascending=0).head(5)\n",
        "tp5gthotel['hotel_name'].values\n",
        "\n",
        "Homewood = finaldf.loc[finaldf['hotel_name'] == tp5gthotel['hotel_name'].values[0]]['vader_score']\n",
        "HamptonInnamp = finaldf.loc[finaldf['hotel_name'] == tp5gthotel['hotel_name'].values[1]]['vader_score']\n",
        "HyattHouseIrvine = finaldf.loc[finaldf['hotel_name'] == tp5gthotel['hotel_name'].values[2]]['vader_score']\n",
        "Courtyard = finaldf.loc[finaldf['hotel_name'] == tp5gthotel['hotel_name'].values[3]]['vader_score']\n",
        "ACHotel = finaldf.loc[finaldf['hotel_name'] == tp5gthotel['hotel_name'].values[4]]['vader_score']\n",
        "\n",
        "data = [Homewood, HamptonInnamp, HyattHouseIrvine, Courtyard, ACHotel]\n",
        "# multiple box plots on one figure\n",
        "plt.figure()\n",
        "plt.boxplot(data)\n",
        "plt.show()"
      ],
      "execution_count": 0,
      "outputs": [
        {
          "output_type": "display_data",
          "data": {
            "image/png": "[encoded data removed]",
            "text/plain": [
              "<Figure size 432x288 with 1 Axes>"
            ]
          },
          "metadata": {
            "tags": []
          }
        }
      ]
    },
    {
      "cell_type": "markdown",
      "metadata": {
        "id": "nwPKjCgiD28k",
        "colab_type": "text"
      },
      "source": [
        "#### **(b) Report the mean and variance of the ground truth and Vader sentiment scores for the top-5 ranked hotels according to star rating.**"
      ]
    },
    {
      "cell_type": "code",
      "metadata": {
        "id": "zsXtdhQ2jmze",
        "colab_type": "code",
        "colab": {}
      },
      "source": [
        "#Plot top 5 side-by-side boxplot for top 5 ground truth rated hotel\n",
        "tp5gthotel = ground_mean_rating.sort_values('ground_avg_rating',ascending=0).head(6)\n",
        "tp5gthotel['hotel_name'].values\n",
        "\n",
        "a = finaldf.loc[finaldf['hotel_name'] == tp5gthotel['hotel_name'].values[1]]['rating']\n",
        "b = finaldf.loc[finaldf['hotel_name'] == tp5gthotel['hotel_name'].values[2]]['rating']\n",
        "c = finaldf.loc[finaldf['hotel_name'] == tp5gthotel['hotel_name'].values[3]]['rating']\n",
        "d = finaldf.loc[finaldf['hotel_name'] == tp5gthotel['hotel_name'].values[4]]['rating']\n",
        "e = finaldf.loc[finaldf['hotel_name'] == tp5gthotel['hotel_name'].values[5]]['rating']\n"
      ],
      "execution_count": 0,
      "outputs": []
    },
    {
      "cell_type": "code",
      "metadata": {
        "id": "uvHlVcVVlo5f",
        "colab_type": "code",
        "outputId": "d57e9081-b3ac-4ed4-da7d-f5d1956ed610",
        "colab": {
          "base_uri": "https://localhost:8080/",
          "height": 101
        }
      },
      "source": [
        "print(np.mean(a))\n",
        "print(np.mean(b))\n",
        "print(np.mean(c))\n",
        "print(np.mean(d))\n",
        "print(np.mean(e))"
      ],
      "execution_count": 0,
      "outputs": [
        {
          "output_type": "stream",
          "text": [
            "4.796666666666667\n",
            "4.717791411042945\n",
            "4.618181818181818\n",
            "4.580645161290323\n",
            "4.562962962962963\n"
          ],
          "name": "stdout"
        }
      ]
    },
    {
      "cell_type": "code",
      "metadata": {
        "id": "NgwKs7B0la8o",
        "colab_type": "code",
        "outputId": "053474c3-a30c-4eed-965b-6179ebda973b",
        "colab": {
          "base_uri": "https://localhost:8080/",
          "height": 101
        }
      },
      "source": [
        "print(np.var(a))\n",
        "print(np.var(b))\n",
        "print(np.var(c))\n",
        "print(np.var(d))\n",
        "print(np.var(e))"
      ],
      "execution_count": 0,
      "outputs": [
        {
          "output_type": "stream",
          "text": [
            "0.24198888888888856\n",
            "0.5461251834845122\n",
            "0.7451239669421503\n",
            "0.6434963579604548\n",
            "0.7052949245541842\n"
          ],
          "name": "stdout"
        }
      ]
    },
    {
      "cell_type": "code",
      "metadata": {
        "id": "ESMyTyRFmCH6",
        "colab_type": "code",
        "colab": {}
      },
      "source": [
        "#Plot top 5 side-by-side boxplot for top 5  vader rated hotel\n",
        "tp5gthotel = vader_mean_rating.sort_values('vader_avg_rating',ascending=0).head(5)\n",
        "tp5gthotel['hotel_name'].values\n",
        "\n",
        "a = finaldf.loc[finaldf['hotel_name'] == tp5gthotel['hotel_name'].values[0]]['vader_score']\n",
        "b = finaldf.loc[finaldf['hotel_name'] == tp5gthotel['hotel_name'].values[1]]['vader_score']\n",
        "c = finaldf.loc[finaldf['hotel_name'] == tp5gthotel['hotel_name'].values[2]]['vader_score']\n",
        "d = finaldf.loc[finaldf['hotel_name'] == tp5gthotel['hotel_name'].values[3]]['vader_score']\n",
        "e = finaldf.loc[finaldf['hotel_name'] == tp5gthotel['hotel_name'].values[4]]['vader_score']"
      ],
      "execution_count": 0,
      "outputs": []
    },
    {
      "cell_type": "code",
      "metadata": {
        "id": "etEQNExumIYt",
        "colab_type": "code",
        "outputId": "eec26242-d786-4cbb-9101-cc0ede10c201",
        "colab": {
          "base_uri": "https://localhost:8080/",
          "height": 101
        }
      },
      "source": [
        "print(np.mean(a))\n",
        "print(np.mean(b))\n",
        "print(np.mean(c))\n",
        "print(np.mean(d))\n",
        "print(np.mean(e))"
      ],
      "execution_count": 0,
      "outputs": [
        {
          "output_type": "stream",
          "text": [
            "0.8845573333333331\n",
            "0.8811458064516132\n",
            "0.8789276073619632\n",
            "0.8552822222222219\n",
            "0.8340308333333334\n"
          ],
          "name": "stdout"
        }
      ]
    },
    {
      "cell_type": "code",
      "metadata": {
        "id": "ReuMbza-mIV4",
        "colab_type": "code",
        "outputId": "cf691640-aee6-4e4c-f0e4-4175812d3fc0",
        "colab": {
          "base_uri": "https://localhost:8080/",
          "height": 101
        }
      },
      "source": [
        "print(np.var(a))\n",
        "print(np.var(b))\n",
        "print(np.var(c))\n",
        "print(np.var(d))\n",
        "print(np.var(e))"
      ],
      "execution_count": 0,
      "outputs": [
        {
          "output_type": "stream",
          "text": [
            "0.06860533237955553\n",
            "0.06957719770822061\n",
            "0.04425044248936732\n",
            "0.11062418886913582\n",
            "0.1481028719659722\n"
          ],
          "name": "stdout"
        }
      ]
    },
    {
      "cell_type": "markdown",
      "metadata": {
        "id": "QPmwuXq36CDW",
        "colab_type": "text"
      },
      "source": [
        "#### **(c) Scatterplots and heatmaps**\n",
        "\n",
        "#### **(a) Show both a scatterplot and heatmap of ground truth score (star rating) versus Vader sentiment score. Each review is a point on the scatterplot. Do you notice anything interesting? What does this tell you about star ratings vs. Vader sentiment scores?**\n",
        "#### **What does this tell you about human ratings and/or Vader sentiment analysis?**"
      ]
    },
    {
      "cell_type": "code",
      "metadata": {
        "id": "liEVbR58DxnD",
        "colab_type": "code",
        "outputId": "3b9de9c1-62f6-4c9d-9767-d0829ef13de2",
        "colab": {
          "base_uri": "https://localhost:8080/",
          "height": 296
        }
      },
      "source": [
        "y = finaldf['rating'].values\n",
        "x = finaldf['vader_score'].values\n",
        "plt.plot(x, y,\"o\")\n",
        "plt.ylabel('Rating')\n",
        "plt.xlabel('Vader Score')"
      ],
      "execution_count": 0,
      "outputs": [
        {
          "output_type": "execute_result",
          "data": {
            "text/plain": [
              "Text(0.5, 0, 'Vader Score')"
            ]
          },
          "metadata": {
            "tags": []
          },
          "execution_count": 102
        },
        {
          "output_type": "display_data",
          "data": {
            "image/png": "[encoded data removed]",
            "text/plain": [
              "<Figure size 432x288 with 1 Axes>"
            ]
          },
          "metadata": {
            "tags": []
          }
        }
      ]
    },
    {
      "cell_type": "code",
      "metadata": {
        "id": "m8lWUfPdDxlD",
        "colab_type": "code",
        "colab": {}
      },
      "source": [
        "from scipy.stats.kde import gaussian_kde\n",
        "\n",
        "k = gaussian_kde(np.vstack([x, y]))\n",
        "xi, yi = np.mgrid[x.min():x.max():x.size**0.5*1j,y.min():y.max():y.size**0.5*1j]\n",
        "zi = k(np.vstack([xi.flatten(), yi.flatten()]))"
      ],
      "execution_count": 0,
      "outputs": []
    },
    {
      "cell_type": "code",
      "metadata": {
        "id": "mWIZqMNwDxih",
        "colab_type": "code",
        "outputId": "0fd528e7-8b5b-4c6d-b2f3-906c58cd1dec",
        "colab": {
          "base_uri": "https://localhost:8080/",
          "height": 518
        }
      },
      "source": [
        "cmap = sns.cubehelix_palette(light=1, as_cmap=True)\n",
        "fig = plt.figure(figsize=(6,8))\n",
        "ax1 = fig.add_subplot(211)\n",
        "ax2 = fig.add_subplot(212)\n",
        "\n",
        "ax1.pcolormesh(xi, yi, np.log10(zi.reshape(xi.shape)), cmap=cmap)\n",
        "ax2.contourf(xi, yi, np.log10(zi.reshape(xi.shape)), cmap=cmap)\n",
        "\n",
        "ax1.set_xlim(x.min(), x.max())\n",
        "ax1.set_ylim(y.min(), y.max())\n",
        "ax2.set_xlim(x.min(), x.max())\n",
        "ax2.set_ylim(y.min(), y.max())\n",
        "\n",
        "ax1.set_xlabel('Vader Score')\n",
        "ax1.set_ylabel('Rating')\n",
        "\n",
        "ax2.set_xlabel('Vader Score')\n",
        "ax2.set_ylabel('Rating')"
      ],
      "execution_count": 0,
      "outputs": [
        {
          "output_type": "execute_result",
          "data": {
            "text/plain": [
              "Text(0, 0.5, 'Rating')"
            ]
          },
          "metadata": {
            "tags": []
          },
          "execution_count": 104
        },
        {
          "output_type": "display_data",
          "data": {
            "image/png": "[encoded data removed]",
            "text/plain": [
              "<Figure size 432x576 with 2 Axes>"
            ]
          },
          "metadata": {
            "tags": []
          }
        }
      ]
    },
    {
      "cell_type": "markdown",
      "metadata": {
        "id": "0xLRker8m-J8",
        "colab_type": "text"
      },
      "source": [
        "#### **b) scatterplots and heatmap of review length vs. score**"
      ]
    },
    {
      "cell_type": "code",
      "metadata": {
        "id": "GKtJR7alEM-B",
        "colab_type": "code",
        "outputId": "e80f4abe-43f3-4fc8-e742-96dafeab9f9f",
        "colab": {
          "base_uri": "https://localhost:8080/",
          "height": 101
        }
      },
      "source": [
        "hotel_df['review_length'] = 0\n",
        "for x in range(len(hotel_df['reviews'])):\n",
        "    hotel_df['review_length'][x] = len(hotel_df['reviews'][x])"
      ],
      "execution_count": 0,
      "outputs": [
        {
          "output_type": "stream",
          "text": [
            "/usr/local/lib/python3.6/dist-packages/ipykernel_launcher.py:3: SettingWithCopyWarning: \n",
            "A value is trying to be set on a copy of a slice from a DataFrame\n",
            "\n",
            "See the caveats in the documentation: http://pandas.pydata.org/pandas-docs/stable/user_guide/indexing.html#returning-a-view-versus-a-copy\n",
            "  This is separate from the ipykernel package so we can avoid doing imports until\n"
          ],
          "name": "stderr"
        }
      ]
    },
    {
      "cell_type": "code",
      "metadata": {
        "id": "zbT1ZclynWAl",
        "colab_type": "code",
        "outputId": "bdc5ff5d-006f-414a-c56a-bfd274975ff6",
        "colab": {
          "base_uri": "https://localhost:8080/",
          "height": 464
        }
      },
      "source": [
        "hotel_df.head()"
      ],
      "execution_count": 0,
      "outputs": [
        {
          "output_type": "execute_result",
          "data": {
            "text/html": [
              "<div>\n",
              "<style scoped>\n",
              "    .dataframe tbody tr th:only-of-type {\n",
              "        vertical-align: middle;\n",
              "    }\n",
              "\n",
              "    .dataframe tbody tr th {\n",
              "        vertical-align: top;\n",
              "    }\n",
              "\n",
              "    .dataframe thead th {\n",
              "        text-align: right;\n",
              "    }\n",
              "</style>\n",
              "<table border=\"1\" class=\"dataframe\">\n",
              "  <thead>\n",
              "    <tr style=\"text-align: right;\">\n",
              "      <th></th>\n",
              "      <th>link</th>\n",
              "      <th>hotel_name</th>\n",
              "      <th>reviews</th>\n",
              "      <th>rating</th>\n",
              "      <th>sentiment</th>\n",
              "      <th>vader_score</th>\n",
              "      <th>review_clean</th>\n",
              "      <th>review_length</th>\n",
              "    </tr>\n",
              "  </thead>\n",
              "  <tbody>\n",
              "    <tr>\n",
              "      <th>0</th>\n",
              "      <td>data\\ca\\32530\\10373297\\460828080.html</td>\n",
              "      <td>Homewood Suites by Hilton Irvine John Wayne Ai...</td>\n",
              "      <td>\"I Recommend this hotel to everyone. New Hotel...</td>\n",
              "      <td>5</td>\n",
              "      <td>positive</td>\n",
              "      <td>0.9796</td>\n",
              "      <td>recommend hotel everyone new hotel clean staff...</td>\n",
              "      <td>393</td>\n",
              "    </tr>\n",
              "    <tr>\n",
              "      <th>1</th>\n",
              "      <td>data\\ca\\32530\\10373297\\461011684.html</td>\n",
              "      <td>Homewood Suites by Hilton Irvine John Wayne Ai...</td>\n",
              "      <td>\"Brand new and very well designed hotel. We li...</td>\n",
              "      <td>4</td>\n",
              "      <td>positive</td>\n",
              "      <td>0.4543</td>\n",
              "      <td>brand new well design hotel like everything ho...</td>\n",
              "      <td>248</td>\n",
              "    </tr>\n",
              "    <tr>\n",
              "      <th>2</th>\n",
              "      <td>data\\ca\\32530\\10373297\\461297357.html</td>\n",
              "      <td>Homewood Suites by Hilton Irvine John Wayne Ai...</td>\n",
              "      <td>\"Our stay here started out a little rough. We ...</td>\n",
              "      <td>4</td>\n",
              "      <td>positive</td>\n",
              "      <td>0.9585</td>\n",
              "      <td>stay start little rough adult child book one l...</td>\n",
              "      <td>942</td>\n",
              "    </tr>\n",
              "    <tr>\n",
              "      <th>3</th>\n",
              "      <td>data\\ca\\32530\\10373297\\461543739.html</td>\n",
              "      <td>Homewood Suites by Hilton Irvine John Wayne Ai...</td>\n",
              "      <td>\"I selected this hotel based upon a passed pos...</td>\n",
              "      <td>5</td>\n",
              "      <td>positive</td>\n",
              "      <td>0.9571</td>\n",
              "      <td>select hotel base upon passed positive experie...</td>\n",
              "      <td>723</td>\n",
              "    </tr>\n",
              "    <tr>\n",
              "      <th>4</th>\n",
              "      <td>data\\ca\\32530\\10373297\\461852837.html</td>\n",
              "      <td>Homewood Suites by Hilton Irvine John Wayne Ai...</td>\n",
              "      <td>\"Hopefully, I have an opportunity to visit aga...</td>\n",
              "      <td>5</td>\n",
              "      <td>positive</td>\n",
              "      <td>0.9509</td>\n",
              "      <td>hopefully opportunity visit near future suite ...</td>\n",
              "      <td>402</td>\n",
              "    </tr>\n",
              "  </tbody>\n",
              "</table>\n",
              "</div>"
            ],
            "text/plain": [
              "                                    link  ... review_length\n",
              "0  data\\ca\\32530\\10373297\\460828080.html  ...           393\n",
              "1  data\\ca\\32530\\10373297\\461011684.html  ...           248\n",
              "2  data\\ca\\32530\\10373297\\461297357.html  ...           942\n",
              "3  data\\ca\\32530\\10373297\\461543739.html  ...           723\n",
              "4  data\\ca\\32530\\10373297\\461852837.html  ...           402\n",
              "\n",
              "[5 rows x 8 columns]"
            ]
          },
          "metadata": {
            "tags": []
          },
          "execution_count": 115
        }
      ]
    },
    {
      "cell_type": "code",
      "metadata": {
        "id": "0wAGwkcKpYff",
        "colab_type": "code",
        "outputId": "84e9bbbc-7d89-4b39-f25b-79cd120f207c",
        "colab": {
          "base_uri": "https://localhost:8080/",
          "height": 458
        }
      },
      "source": [
        "sns.jointplot(x = hotel_df['rating'], y = hotel_df['review_length'], kind = 'scatter')"
      ],
      "execution_count": 0,
      "outputs": [
        {
          "output_type": "execute_result",
          "data": {
            "text/plain": [
              "<seaborn.axisgrid.JointGrid at 0x7f94d6195908>"
            ]
          },
          "metadata": {
            "tags": []
          },
          "execution_count": 118
        },
        {
          "output_type": "display_data",
          "data": {
            "image/png": "[encoded data removed]",
            "text/plain": [
              "<Figure size 432x432 with 3 Axes>"
            ]
          },
          "metadata": {
            "tags": []
          }
        }
      ]
    },
    {
      "cell_type": "code",
      "metadata": {
        "id": "K-gJGM_GsHds",
        "colab_type": "code",
        "outputId": "a8aef4c6-ecb7-4c8d-ec8a-41eb4bd1ab8a",
        "colab": {
          "base_uri": "https://localhost:8080/",
          "height": 458
        }
      },
      "source": [
        "sns.jointplot(x = hotel_df['vader_score'], y = hotel_df['review_length'], kind = 'scatter')"
      ],
      "execution_count": 0,
      "outputs": [
        {
          "output_type": "execute_result",
          "data": {
            "text/plain": [
              "<seaborn.axisgrid.JointGrid at 0x7f94d87dfc18>"
            ]
          },
          "metadata": {
            "tags": []
          },
          "execution_count": 125
        },
        {
          "output_type": "display_data",
          "data": {
            "image/png": "[encoded data removed]",
            "text/plain": [
              "<Figure size 432x432 with 3 Axes>"
            ]
          },
          "metadata": {
            "tags": []
          }
        }
      ]
    },
    {
      "cell_type": "code",
      "metadata": {
        "id": "RwahA3HWtaXW",
        "colab_type": "code",
        "outputId": "9c905753-d9d2-4ae0-af90-28d56e73633e",
        "colab": {
          "base_uri": "https://localhost:8080/",
          "height": 195
        }
      },
      "source": [
        "hm = hotel_df[['rating', 'vader_score', 'review_length']]\n",
        "hm.head()"
      ],
      "execution_count": 0,
      "outputs": [
        {
          "output_type": "execute_result",
          "data": {
            "text/html": [
              "<div>\n",
              "<style scoped>\n",
              "    .dataframe tbody tr th:only-of-type {\n",
              "        vertical-align: middle;\n",
              "    }\n",
              "\n",
              "    .dataframe tbody tr th {\n",
              "        vertical-align: top;\n",
              "    }\n",
              "\n",
              "    .dataframe thead th {\n",
              "        text-align: right;\n",
              "    }\n",
              "</style>\n",
              "<table border=\"1\" class=\"dataframe\">\n",
              "  <thead>\n",
              "    <tr style=\"text-align: right;\">\n",
              "      <th></th>\n",
              "      <th>rating</th>\n",
              "      <th>vader_score</th>\n",
              "      <th>review_length</th>\n",
              "    </tr>\n",
              "  </thead>\n",
              "  <tbody>\n",
              "    <tr>\n",
              "      <th>0</th>\n",
              "      <td>5</td>\n",
              "      <td>0.9796</td>\n",
              "      <td>393</td>\n",
              "    </tr>\n",
              "    <tr>\n",
              "      <th>1</th>\n",
              "      <td>4</td>\n",
              "      <td>0.4543</td>\n",
              "      <td>248</td>\n",
              "    </tr>\n",
              "    <tr>\n",
              "      <th>2</th>\n",
              "      <td>4</td>\n",
              "      <td>0.9585</td>\n",
              "      <td>942</td>\n",
              "    </tr>\n",
              "    <tr>\n",
              "      <th>3</th>\n",
              "      <td>5</td>\n",
              "      <td>0.9571</td>\n",
              "      <td>723</td>\n",
              "    </tr>\n",
              "    <tr>\n",
              "      <th>4</th>\n",
              "      <td>5</td>\n",
              "      <td>0.9509</td>\n",
              "      <td>402</td>\n",
              "    </tr>\n",
              "  </tbody>\n",
              "</table>\n",
              "</div>"
            ],
            "text/plain": [
              "   rating  vader_score  review_length\n",
              "0       5       0.9796            393\n",
              "1       4       0.4543            248\n",
              "2       4       0.9585            942\n",
              "3       5       0.9571            723\n",
              "4       5       0.9509            402"
            ]
          },
          "metadata": {
            "tags": []
          },
          "execution_count": 152
        }
      ]
    },
    {
      "cell_type": "code",
      "metadata": {
        "id": "JiCJeykJAFhU",
        "colab_type": "code",
        "outputId": "768d9665-b4fa-4a93-ddbd-09a3ad9c88f7",
        "colab": {
          "base_uri": "https://localhost:8080/",
          "height": 300
        }
      },
      "source": [
        "heatmap1_data = pd.pivot_table(hm, values='vader_score', \n",
        "                     index=['review_length'], \n",
        "                     columns='rating')\n",
        "sns.heatmap(heatmap1_data, cmap=\"YlGnBu\")"
      ],
      "execution_count": 0,
      "outputs": [
        {
          "output_type": "execute_result",
          "data": {
            "text/plain": [
              "<matplotlib.axes._subplots.AxesSubplot at 0x7f94cf1731d0>"
            ]
          },
          "metadata": {
            "tags": []
          },
          "execution_count": 161
        },
        {
          "output_type": "display_data",
          "data": {
            "image/png": "[encoded data removed]",
            "text/plain": [
              "<Figure size 432x288 with 2 Axes>"
            ]
          },
          "metadata": {
            "tags": []
          }
        }
      ]
    },
    {
      "cell_type": "code",
      "metadata": {
        "id": "DycI4iTtBV4n",
        "colab_type": "code",
        "outputId": "e830d091-24a7-419e-8c17-94ba8e8e65b6",
        "colab": {
          "base_uri": "https://localhost:8080/",
          "height": 317
        }
      },
      "source": [
        "df2 = hm[['rating', 'vader_score', 'review_length']]\n",
        "heatmap2_data = pd.pivot_table(hm, values='rating', \n",
        "                     index=['vader_score'], \n",
        "                     columns='review_length')\n",
        "\n",
        "sns.heatmap(heatmap2_data, cmap=\"BuGn\")"
      ],
      "execution_count": 0,
      "outputs": [
        {
          "output_type": "execute_result",
          "data": {
            "text/plain": [
              "<matplotlib.axes._subplots.AxesSubplot at 0x7f94cf1ca358>"
            ]
          },
          "metadata": {
            "tags": []
          },
          "execution_count": 162
        },
        {
          "output_type": "display_data",
          "data": {
            "image/png": "[encoded data removed]",
            "text/plain": [
              "<Figure size 432x288 with 2 Axes>"
            ]
          },
          "metadata": {
            "tags": []
          }
        }
      ]
    },
    {
      "cell_type": "markdown",
      "metadata": {
        "id": "R5EK6KkP7_ql",
        "colab_type": "text"
      },
      "source": [
        "#### **c) number of review vs. score**"
      ]
    },
    {
      "cell_type": "code",
      "metadata": {
        "id": "pDIipsjLtaT7",
        "colab_type": "code",
        "outputId": "6edde584-5da4-44e9-dfe3-ad178007c5d9",
        "colab": {
          "base_uri": "https://localhost:8080/",
          "height": 458
        }
      },
      "source": [
        "sns.jointplot(x = review_counts.review_counts, y = ground_mean_rating.ground_avg_rating, kind = 'scatter')"
      ],
      "execution_count": 0,
      "outputs": [
        {
          "output_type": "execute_result",
          "data": {
            "text/plain": [
              "<seaborn.axisgrid.JointGrid at 0x7f94d45da160>"
            ]
          },
          "metadata": {
            "tags": []
          },
          "execution_count": 148
        },
        {
          "output_type": "display_data",
          "data": {
            "image/png": "[encoded data removed]",
            "text/plain": [
              "<Figure size 432x432 with 3 Axes>"
            ]
          },
          "metadata": {
            "tags": []
          }
        }
      ]
    },
    {
      "cell_type": "code",
      "metadata": {
        "id": "aTmy5Ra38xI-",
        "colab_type": "code",
        "outputId": "7469bd7f-4472-455b-c8e0-9c261ecdbbf2",
        "colab": {
          "base_uri": "https://localhost:8080/",
          "height": 458
        }
      },
      "source": [
        "sns.jointplot(x = review_counts.review_counts, y = vader_mean_rating.vader_avg_rating, kind = 'scatter')"
      ],
      "execution_count": 0,
      "outputs": [
        {
          "output_type": "execute_result",
          "data": {
            "text/plain": [
              "<seaborn.axisgrid.JointGrid at 0x7f94d493b860>"
            ]
          },
          "metadata": {
            "tags": []
          },
          "execution_count": 149
        },
        {
          "output_type": "display_data",
          "data": {
            "image/png": "[encoded data removed]",
            "text/plain": [
              "<Figure size 432x432 with 3 Axes>"
            ]
          },
          "metadata": {
            "tags": []
          }
        }
      ]
    },
    {
      "cell_type": "code",
      "metadata": {
        "id": "KaYsUmOK_CDS",
        "colab_type": "code",
        "colab": {}
      },
      "source": [
        ""
      ],
      "execution_count": 0,
      "outputs": []
    }
  ]
}